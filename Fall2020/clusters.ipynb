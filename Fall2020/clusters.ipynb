{
 "cells": [
  {
   "cell_type": "code",
   "execution_count": 251,
   "metadata": {},
   "outputs": [],
   "source": [
    "import pandas as pd\n",
    "import numpy as np\n",
    "import pickle\n",
    "import matplotlib.pyplot as plt"
   ]
  },
  {
   "cell_type": "code",
   "execution_count": 323,
   "metadata": {},
   "outputs": [
    {
     "data": {
      "text/html": [
       "<div>\n",
       "<style scoped>\n",
       "    .dataframe tbody tr th:only-of-type {\n",
       "        vertical-align: middle;\n",
       "    }\n",
       "\n",
       "    .dataframe tbody tr th {\n",
       "        vertical-align: top;\n",
       "    }\n",
       "\n",
       "    .dataframe thead th {\n",
       "        text-align: right;\n",
       "    }\n",
       "</style>\n",
       "<table border=\"1\" class=\"dataframe\">\n",
       "  <thead>\n",
       "    <tr style=\"text-align: right;\">\n",
       "      <th></th>\n",
       "      <th>tags</th>\n",
       "      <th>summaries</th>\n",
       "      <th>reviews</th>\n",
       "    </tr>\n",
       "  </thead>\n",
       "  <tbody>\n",
       "    <tr>\n",
       "      <th>318</th>\n",
       "      <td>[0.010404243459975683, -0.03711091424722951, -...</td>\n",
       "      <td>[-0.05456358267657277, 0.017882220814185994, -...</td>\n",
       "      <td>[0.008589482039153076, -0.04855025633974395, -...</td>\n",
       "    </tr>\n",
       "    <tr>\n",
       "      <th>58559</th>\n",
       "      <td>[0.015807914369425177, -0.03457502015267174, -...</td>\n",
       "      <td>[-0.03988684186122802, -0.005511437332531161, ...</td>\n",
       "      <td>[0.012581701212091864, -0.04692592556113569, -...</td>\n",
       "    </tr>\n",
       "    <tr>\n",
       "      <th>122886</th>\n",
       "      <td>[0.0056174542458497624, -0.03233655629759736, ...</td>\n",
       "      <td>[0.004428010250534852, -0.002030431507487334, ...</td>\n",
       "      <td>[0.016075299481108408, -0.03870372064945349, -...</td>\n",
       "    </tr>\n",
       "    <tr>\n",
       "      <th>4993</th>\n",
       "      <td>[0.004249768748361458, -0.03930756938482146, -...</td>\n",
       "      <td>[0.01519089428132827, -0.04385203333833831, -0...</td>\n",
       "      <td>[0.010687121155008764, -0.04963987875309132, -...</td>\n",
       "    </tr>\n",
       "    <tr>\n",
       "      <th>109487</th>\n",
       "      <td>[0.00811719691063506, -0.04238477095105229, -0...</td>\n",
       "      <td>[-0.02410308055480398, -0.05450325641211108, -...</td>\n",
       "      <td>[0.009403795113320948, -0.051834653924076005, ...</td>\n",
       "    </tr>\n",
       "    <tr>\n",
       "      <th>...</th>\n",
       "      <td>...</td>\n",
       "      <td>...</td>\n",
       "      <td>...</td>\n",
       "    </tr>\n",
       "    <tr>\n",
       "      <th>74452</th>\n",
       "      <td>[0.0008180387079011805, -0.03338096179304384, ...</td>\n",
       "      <td>[0.08489998374762733, -0.022591222972381503, 0...</td>\n",
       "      <td>[0.014455129071002331, -0.04643171947826584, -...</td>\n",
       "    </tr>\n",
       "    <tr>\n",
       "      <th>173925</th>\n",
       "      <td>[0.018107255184097, -0.03432979957189464, -0.0...</td>\n",
       "      <td>[0.05444138650899487, 0.002688046837188467, -0...</td>\n",
       "      <td>[0.013429640770079703, -0.0472446566949165, -0...</td>\n",
       "    </tr>\n",
       "    <tr>\n",
       "      <th>7346</th>\n",
       "      <td>[0.01914980665964094, -0.03249555608958915, -0...</td>\n",
       "      <td>[0.035217951886104985, 0.023912770514699578, 0...</td>\n",
       "      <td>[0.01124561640856897, -0.048944016973167984, -...</td>\n",
       "    </tr>\n",
       "    <tr>\n",
       "      <th>128838</th>\n",
       "      <td>[-0.003723096374575606, -0.02864027085830133, ...</td>\n",
       "      <td>[0.00693218848649928, -0.004969215505172796, 0...</td>\n",
       "      <td>[0.013426135012632064, -0.04556446395553769, -...</td>\n",
       "    </tr>\n",
       "    <tr>\n",
       "      <th>2657</th>\n",
       "      <td>[0.011617961219968616, -0.03576753658961515, -...</td>\n",
       "      <td>[0.019509148323797094, -0.004035719306687144, ...</td>\n",
       "      <td>[0.012026243367625415, -0.047666947924551784, ...</td>\n",
       "    </tr>\n",
       "  </tbody>\n",
       "</table>\n",
       "<p>1000 rows × 3 columns</p>\n",
       "</div>"
      ],
      "text/plain": [
       "                                                     tags  \\\n",
       "318     [0.010404243459975683, -0.03711091424722951, -...   \n",
       "58559   [0.015807914369425177, -0.03457502015267174, -...   \n",
       "122886  [0.0056174542458497624, -0.03233655629759736, ...   \n",
       "4993    [0.004249768748361458, -0.03930756938482146, -...   \n",
       "109487  [0.00811719691063506, -0.04238477095105229, -0...   \n",
       "...                                                   ...   \n",
       "74452   [0.0008180387079011805, -0.03338096179304384, ...   \n",
       "173925  [0.018107255184097, -0.03432979957189464, -0.0...   \n",
       "7346    [0.01914980665964094, -0.03249555608958915, -0...   \n",
       "128838  [-0.003723096374575606, -0.02864027085830133, ...   \n",
       "2657    [0.011617961219968616, -0.03576753658961515, -...   \n",
       "\n",
       "                                                summaries  \\\n",
       "318     [-0.05456358267657277, 0.017882220814185994, -...   \n",
       "58559   [-0.03988684186122802, -0.005511437332531161, ...   \n",
       "122886  [0.004428010250534852, -0.002030431507487334, ...   \n",
       "4993    [0.01519089428132827, -0.04385203333833831, -0...   \n",
       "109487  [-0.02410308055480398, -0.05450325641211108, -...   \n",
       "...                                                   ...   \n",
       "74452   [0.08489998374762733, -0.022591222972381503, 0...   \n",
       "173925  [0.05444138650899487, 0.002688046837188467, -0...   \n",
       "7346    [0.035217951886104985, 0.023912770514699578, 0...   \n",
       "128838  [0.00693218848649928, -0.004969215505172796, 0...   \n",
       "2657    [0.019509148323797094, -0.004035719306687144, ...   \n",
       "\n",
       "                                                  reviews  \n",
       "318     [0.008589482039153076, -0.04855025633974395, -...  \n",
       "58559   [0.012581701212091864, -0.04692592556113569, -...  \n",
       "122886  [0.016075299481108408, -0.03870372064945349, -...  \n",
       "4993    [0.010687121155008764, -0.04963987875309132, -...  \n",
       "109487  [0.009403795113320948, -0.051834653924076005, ...  \n",
       "...                                                   ...  \n",
       "74452   [0.014455129071002331, -0.04643171947826584, -...  \n",
       "173925  [0.013429640770079703, -0.0472446566949165, -0...  \n",
       "7346    [0.01124561640856897, -0.048944016973167984, -...  \n",
       "128838  [0.013426135012632064, -0.04556446395553769, -...  \n",
       "2657    [0.012026243367625415, -0.047666947924551784, ...  \n",
       "\n",
       "[1000 rows x 3 columns]"
      ]
     },
     "execution_count": 323,
     "metadata": {},
     "output_type": "execute_result"
    }
   ],
   "source": [
    "scores = pickle.load(open( \"../data/scores.p\", \"rb\" ) )\n",
    "\n",
    "scores = pd.DataFrame(scores).transpose()\n",
    "scores.columns = ['tags', 'summaries', 'reviews']\n",
    "scores"
   ]
  },
  {
   "cell_type": "code",
   "execution_count": 253,
   "metadata": {},
   "outputs": [],
   "source": [
    "budget = pd.read_csv('../data/movie_industry.csv', encoding = 'latin')"
   ]
  },
  {
   "cell_type": "code",
   "execution_count": 128,
   "metadata": {},
   "outputs": [
    {
     "name": "stderr",
     "output_type": "stream",
     "text": [
      "/Library/Frameworks/Python.framework/Versions/3.6/lib/python3.6/site-packages/pandas/core/indexing.py:671: SettingWithCopyWarning: \n",
      "A value is trying to be set on a copy of a slice from a DataFrame\n",
      "\n",
      "See the caveats in the documentation: https://pandas.pydata.org/pandas-docs/stable/user_guide/indexing.html#returning-a-view-versus-a-copy\n",
      "  self._setitem_with_indexer(indexer, value)\n"
     ]
    }
   ],
   "source": [
    "movies = pd.read_csv('../data/movie_lense/movies.csv')\n",
    "for i in range(len(movies)):\n",
    "    movies.title.iloc[i]  = movies.title.iloc[i][:-7]"
   ]
  },
  {
   "cell_type": "code",
   "execution_count": 324,
   "metadata": {},
   "outputs": [],
   "source": [
    "titles = []\n",
    "\n",
    "for key in scores.index:\n",
    "    titles.append(movies[movies.movieId == key]['title'].iloc[0])\n",
    "    \n",
    "scores['titles'] = titles"
   ]
  },
  {
   "cell_type": "code",
   "execution_count": 100,
   "metadata": {},
   "outputs": [],
   "source": [
    "merged = pd.merge(scores, budget, left_on = 'titles', right_on =  'name', how = 'left')\n",
    "merged.to_csv('../data/merged.csv')"
   ]
  },
  {
   "cell_type": "code",
   "execution_count": 157,
   "metadata": {},
   "outputs": [
    {
     "data": {
      "text/plain": [
       "Action       39.108911\n",
       "Drama        16.996700\n",
       "Comedy       11.386139\n",
       "Adventure     8.580858\n",
       "Crime         8.250825\n",
       "Horror        5.775578\n",
       "Animation     4.455446\n",
       "Biography     3.135314\n",
       "Mystery       1.320132\n",
       "Fantasy       0.495050\n",
       "Sci-Fi        0.330033\n",
       "Thriller      0.165017\n",
       "Name: genre, dtype: float64"
      ]
     },
     "execution_count": 157,
     "metadata": {},
     "output_type": "execute_result"
    }
   ],
   "source": [
    "gen_counts = merge_label.genre.value_counts()\n",
    "gen_counts = gen_counts / gen_counts.sum() * 100\n",
    "gen_counts "
   ]
  },
  {
   "cell_type": "code",
   "execution_count": 285,
   "metadata": {},
   "outputs": [],
   "source": [
    "labeled = pd.read_csv('../data/movie_labels_combo_3.csv', index_col = 0)"
   ]
  },
  {
   "cell_type": "code",
   "execution_count": 286,
   "metadata": {},
   "outputs": [],
   "source": [
    "merge_label = pd.merge(merged, labeled)"
   ]
  },
  {
   "cell_type": "code",
   "execution_count": 287,
   "metadata": {},
   "outputs": [
    {
     "data": {
      "image/png": "[encoded data removed]",
      "text/plain": [
       "<Figure size 432x288 with 1 Axes>"
      ]
     },
     "metadata": {
      "needs_background": "light"
     },
     "output_type": "display_data"
    }
   ],
   "source": [
    "figure = merge_label.groupby('Labels').mean()[['budget', 'gross']].plot(kind = 'bar')\n",
    "figure.figure.savefig('../plots/budget.png')"
   ]
  },
  {
   "cell_type": "code",
   "execution_count": 297,
   "metadata": {},
   "outputs": [],
   "source": [
    "grouped_one  = merge_label.groupby(['Labels', 'genre']).count()['titles'] \n",
    "final = grouped_one.groupby(level=0).apply(lambda x:100 * x / float(x.sum()))"
   ]
  },
  {
   "cell_type": "code",
   "execution_count": 298,
   "metadata": {},
   "outputs": [],
   "source": [
    "label_0 = final.loc[[0]]\n",
    "label_1 = final.loc[[1]]\n",
    "label_2 = final.loc[[2]]"
   ]
  },
  {
   "cell_type": "code",
   "execution_count": 259,
   "metadata": {},
   "outputs": [
    {
     "data": {
      "text/plain": [
       "<matplotlib.axes._subplots.AxesSubplot at 0x7fdd5d4d0f98>"
      ]
     },
     "execution_count": 259,
     "metadata": {},
     "output_type": "execute_result"
    },
    {
     "data": {
      "image/png": "[encoded data removed]",
      "text/plain": [
       "<Figure size 432x288 with 1 Axes>"
      ]
     },
     "metadata": {
      "needs_background": "light"
     },
     "output_type": "display_data"
    }
   ],
   "source": [
    "x = np.arange(len(gen_counts))\n",
    "\n",
    "gen_counts.plot(kind = 'bar', stacked = True)"
   ]
  },
  {
   "cell_type": "code",
   "execution_count": 295,
   "metadata": {},
   "outputs": [],
   "source": [
    "label_2.to_csv('../plots/label2.csv')"
   ]
  },
  {
   "cell_type": "code",
   "execution_count": 275,
   "metadata": {},
   "outputs": [
    {
     "data": {
      "text/plain": [
       "array([ 0.01040424, -0.03711091, -0.01370902, -0.04845009,  0.01658836])"
      ]
     },
     "execution_count": 275,
     "metadata": {},
     "output_type": "execute_result"
    }
   ],
   "source": [
    "merge_label.tags.iloc[0]"
   ]
  },
  {
   "cell_type": "code",
   "execution_count": 283,
   "metadata": {},
   "outputs": [
    {
     "data": {
      "text/plain": [
       "array([-0.03448363,  0.0665714 ,  0.02095294,  0.06336372,  0.07264915])"
      ]
     },
     "execution_count": 283,
     "metadata": {},
     "output_type": "execute_result"
    }
   ],
   "source": [
    "## Casino\n",
    "\n",
    "merge_label.summaries.iloc[92]"
   ]
  },
  {
   "cell_type": "code",
   "execution_count": 284,
   "metadata": {},
   "outputs": [
    {
     "data": {
      "text/plain": [
       "array([-0.02449034, -0.05477214,  0.00042241, -0.01975619,  0.00144789])"
      ]
     },
     "execution_count": 284,
     "metadata": {},
     "output_type": "execute_result"
    }
   ],
   "source": [
    "## Toy Story\n",
    "\n",
    "merge_label.summaries.iloc[23]"
   ]
  },
  {
   "cell_type": "code",
   "execution_count": 319,
   "metadata": {},
   "outputs": [
    {
     "data": {
      "text/plain": [
       "0                               Shawshank Redemption, The\n",
       "3       Lord of the Rings: The Fellowship of the Ring,...\n",
       "5                                               Inception\n",
       "6                                          Godfather, The\n",
       "7                                             Matrix, The\n",
       "                              ...                        \n",
       "999                                                8 Mile\n",
       "1001                                        Hail, Caesar!\n",
       "1003                                        Seven Sisters\n",
       "1005                                         Crimson Peak\n",
       "1006                       Rocky Horror Picture Show, The\n",
       "Name: titles, Length: 424, dtype: object"
      ]
     },
     "execution_count": 319,
     "metadata": {},
     "output_type": "execute_result"
    }
   ],
   "source": [
    "## Harm\n",
    "## Fairness\n",
    "## Ingroup\n",
    "## Authority\n",
    "## Purity\n",
    "\n",
    "merge_label[merge_label.Labels == 0]['titles']"
   ]
  },
  {
   "cell_type": "code",
   "execution_count": 314,
   "metadata": {},
   "outputs": [
    {
     "data": {
      "text/plain": [
       "4                                            Interstellar\n",
       "21                                           Forrest Gump\n",
       "23                                              Toy Story\n",
       "31                                        American Beauty\n",
       "36                                     Brokeback Mountain\n",
       "                              ...                        \n",
       "986                                            Annie Hall\n",
       "994                                            Cinderella\n",
       "998     How the Grinch Stole Christmas (a.k.a. The Gri...\n",
       "1000                                             21 Grams\n",
       "1004                                  Girl Next Door, The\n",
       "Name: titles, Length: 182, dtype: object"
      ]
     },
     "execution_count": 314,
     "metadata": {},
     "output_type": "execute_result"
    }
   ],
   "source": [
    "merge_label[merge_label.Labels == 1]['titles']"
   ]
  },
  {
   "cell_type": "code",
   "execution_count": 315,
   "metadata": {},
   "outputs": [
    {
     "data": {
      "text/plain": [
       "1                                   Dark Knight, The\n",
       "2         Star Wars: Episode VII - The Force Awakens\n",
       "8       Star Wars: Episode III - Revenge of the Sith\n",
       "13                            Dark Knight Rises, The\n",
       "14      Star Wars: Episode II - Attack of the Clones\n",
       "                            ...                     \n",
       "988                                         Fog, The\n",
       "990                                         Candyman\n",
       "991                           Dead Alive (Braindead)\n",
       "993                                            U-571\n",
       "1002                                    Wolfman, The\n",
       "Name: titles, Length: 401, dtype: object"
      ]
     },
     "execution_count": 315,
     "metadata": {},
     "output_type": "execute_result"
    }
   ],
   "source": [
    "merge_label[merge_label.Labels == 2]['titles']"
   ]
  },
  {
   "cell_type": "code",
   "execution_count": 333,
   "metadata": {},
   "outputs": [
    {
     "data": {
      "text/plain": [
       "0                              Shawshank Redemption, The\n",
       "3      Lord of the Rings: The Fellowship of the Ring,...\n",
       "5                                              Inception\n",
       "6                                         Godfather, The\n",
       "7                                            Matrix, The\n",
       "                             ...                        \n",
       "984                                               8 Mile\n",
       "986                                        Hail, Caesar!\n",
       "988                                        Seven Sisters\n",
       "990                                         Crimson Peak\n",
       "991                       Rocky Horror Picture Show, The\n",
       "Name: titles, Length: 416, dtype: object"
      ]
     },
     "execution_count": 333,
     "metadata": {},
     "output_type": "execute_result"
    }
   ],
   "source": [
    "grouped = pd.merge(scores, labeled, on = 'movieId')\n",
    "label0 = grouped[grouped.Labels == 0]['titles']\n",
    "label0.to_csv('../data/label_0.csv')"
   ]
  },
  {
   "cell_type": "code",
   "execution_count": 331,
   "metadata": {},
   "outputs": [],
   "source": [
    "label1 = grouped[grouped.Labels == 1]['titles']\n",
    "label1.to_csv('../data/label_1.csv')"
   ]
  },
  {
   "cell_type": "code",
   "execution_count": 332,
   "metadata": {},
   "outputs": [],
   "source": [
    "label2 = grouped[grouped.Labels == 2]['titles']\n",
    "label2.to_csv('../data/label_2.csv')"
   ]
  },
  {
   "cell_type": "code",
   "execution_count": 335,
   "metadata": {},
   "outputs": [],
   "source": [
    "users = pd.read_csv('../data/movie_lense/ratings.csv')"
   ]
  },
  {
   "cell_type": "code",
   "execution_count": 339,
   "metadata": {},
   "outputs": [],
   "source": [
    "movie = pd.read_csv('../data/user_labels_movie_3.csv', index_col = 0)\n",
    "labels = pd.read_csv('../data/user_labels_review_3.csv', index_col = 0)"
   ]
  },
  {
   "cell_type": "code",
   "execution_count": 381,
   "metadata": {},
   "outputs": [],
   "source": [
    "movie.columns = ['label_movie', 'user']\n",
    "labels.columns = ['label_user', 'user']"
   ]
  },
  {
   "cell_type": "code",
   "execution_count": 517,
   "metadata": {},
   "outputs": [],
   "source": [
    "user = pd.merge(movie, labels, on = 'user')"
   ]
  },
  {
   "cell_type": "code",
   "execution_count": 518,
   "metadata": {},
   "outputs": [],
   "source": [
    "replace_dict = {0:2, 1:1, 2:0}\n",
    "\n",
    "user['label_movie'].replace(replace_dict, inplace = True)"
   ]
  },
  {
   "cell_type": "code",
   "execution_count": 519,
   "metadata": {},
   "outputs": [],
   "source": [
    "user['same'] = user.label_movie == user.label_user"
   ]
  },
  {
   "cell_type": "code",
   "execution_count": 520,
   "metadata": {},
   "outputs": [
    {
     "data": {
      "text/plain": [
       "0.6377870563674322"
      ]
     },
     "execution_count": 520,
     "metadata": {},
     "output_type": "execute_result"
    }
   ],
   "source": [
    "user['same'].sum() / user['same'].count()"
   ]
  },
  {
   "cell_type": "code",
   "execution_count": 419,
   "metadata": {},
   "outputs": [
    {
     "data": {
      "text/plain": [
       "0    654\n",
       "1    220\n",
       "2     84\n",
       "Name: label_movie, dtype: int64"
      ]
     },
     "execution_count": 419,
     "metadata": {},
     "output_type": "execute_result"
    }
   ],
   "source": [
    "user['label_movie'].value_counts()"
   ]
  },
  {
   "cell_type": "code",
   "execution_count": 420,
   "metadata": {},
   "outputs": [
    {
     "data": {
      "text/plain": [
       "0    654\n",
       "2    304\n",
       "Name: label_new, dtype: int64"
      ]
     },
     "execution_count": 420,
     "metadata": {},
     "output_type": "execute_result"
    }
   ],
   "source": [
    "user['label_new'].value_counts()"
   ]
  },
  {
   "cell_type": "code",
   "execution_count": 411,
   "metadata": {},
   "outputs": [
    {
     "data": {
      "text/plain": [
       "1    451\n",
       "2    337\n",
       "0    170\n",
       "Name: label_user, dtype: int64"
      ]
     },
     "execution_count": 411,
     "metadata": {},
     "output_type": "execute_result"
    }
   ],
   "source": [
    "user['label_user'].value_counts()"
   ]
  },
  {
   "cell_type": "code",
   "execution_count": 525,
   "metadata": {},
   "outputs": [],
   "source": [
    "acc = user.groupby('label_user').sum()['same'] / user.groupby('label_user').count()['same']"
   ]
  },
  {
   "cell_type": "code",
   "execution_count": 531,
   "metadata": {},
   "outputs": [],
   "source": [
    "count = user.groupby('label_user').count()['same']"
   ]
  },
  {
   "cell_type": "code",
   "execution_count": 535,
   "metadata": {},
   "outputs": [
    {
     "data": {
      "text/plain": [
       "label_user\n",
       "0    45.882353\n",
       "1    46.784922\n",
       "2    95.548961\n",
       "Name: same, dtype: float64"
      ]
     },
     "execution_count": 535,
     "metadata": {},
     "output_type": "execute_result"
    }
   ],
   "source": [
    "acc"
   ]
  },
  {
   "cell_type": "code",
   "execution_count": 553,
   "metadata": {},
   "outputs": [
    {
     "data": {
      "image/png": "[encoded data removed]",
      "text/plain": [
       "<Figure size 432x288 with 1 Axes>"
      ]
     },
     "metadata": {
      "needs_background": "light"
     },
     "output_type": "display_data"
    }
   ],
   "source": [
    "ax = plt.subplot(111)\n",
    "x = acc.index\n",
    "ax.bar(x-0.2, acc, width=0.2, color='b', align='center', label = 'count')\n",
    "ax.bar(x, count, width=0.2, color='g', align='center', label = 'percentage')\n",
    "ax.set_xticks([0, 1, 2]);\n",
    "ax.set_xticklabels(['0', '1', '2']);"
   ]
  },
  {
   "cell_type": "code",
   "execution_count": 555,
   "metadata": {},
   "outputs": [
    {
     "ename": "KeyboardInterrupt",
     "evalue": "",
     "output_type": "error",
     "traceback": [
      "\u001b[0;31m---------------------------------------------------------------------------\u001b[0m",
      "\u001b[0;31mKeyboardInterrupt\u001b[0m                         Traceback (most recent call last)",
      "\u001b[0;32m<ipython-input-555-317d23128603>\u001b[0m in \u001b[0;36m<module>\u001b[0;34m\u001b[0m\n\u001b[0;32m----> 1\u001b[0;31m \u001b[0mreviews\u001b[0m \u001b[0;34m=\u001b[0m \u001b[0mpd\u001b[0m\u001b[0;34m.\u001b[0m\u001b[0mread_csv\u001b[0m\u001b[0;34m(\u001b[0m\u001b[0;34m'../data/imdb_review.csv'\u001b[0m\u001b[0;34m)\u001b[0m\u001b[0;34m\u001b[0m\u001b[0;34m\u001b[0m\u001b[0m\n\u001b[0m",
      "\u001b[0;32m/Library/Frameworks/Python.framework/Versions/3.6/lib/python3.6/site-packages/pandas/io/parsers.py\u001b[0m in \u001b[0;36mparser_f\u001b[0;34m(filepath_or_buffer, sep, delimiter, header, names, index_col, usecols, squeeze, prefix, mangle_dupe_cols, dtype, engine, converters, true_values, false_values, skipinitialspace, skiprows, skipfooter, nrows, na_values, keep_default_na, na_filter, verbose, skip_blank_lines, parse_dates, infer_datetime_format, keep_date_col, date_parser, dayfirst, cache_dates, iterator, chunksize, compression, thousands, decimal, lineterminator, quotechar, quoting, doublequote, escapechar, comment, encoding, dialect, error_bad_lines, warn_bad_lines, delim_whitespace, low_memory, memory_map, float_precision)\u001b[0m\n\u001b[1;32m    674\u001b[0m         )\n\u001b[1;32m    675\u001b[0m \u001b[0;34m\u001b[0m\u001b[0m\n\u001b[0;32m--> 676\u001b[0;31m         \u001b[0;32mreturn\u001b[0m \u001b[0m_read\u001b[0m\u001b[0;34m(\u001b[0m\u001b[0mfilepath_or_buffer\u001b[0m\u001b[0;34m,\u001b[0m \u001b[0mkwds\u001b[0m\u001b[0;34m)\u001b[0m\u001b[0;34m\u001b[0m\u001b[0;34m\u001b[0m\u001b[0m\n\u001b[0m\u001b[1;32m    677\u001b[0m \u001b[0;34m\u001b[0m\u001b[0m\n\u001b[1;32m    678\u001b[0m     \u001b[0mparser_f\u001b[0m\u001b[0;34m.\u001b[0m\u001b[0m__name__\u001b[0m \u001b[0;34m=\u001b[0m \u001b[0mname\u001b[0m\u001b[0;34m\u001b[0m\u001b[0;34m\u001b[0m\u001b[0m\n",
      "\u001b[0;32m/Library/Frameworks/Python.framework/Versions/3.6/lib/python3.6/site-packages/pandas/io/parsers.py\u001b[0m in \u001b[0;36m_read\u001b[0;34m(filepath_or_buffer, kwds)\u001b[0m\n\u001b[1;32m    452\u001b[0m \u001b[0;34m\u001b[0m\u001b[0m\n\u001b[1;32m    453\u001b[0m     \u001b[0;32mtry\u001b[0m\u001b[0;34m:\u001b[0m\u001b[0;34m\u001b[0m\u001b[0;34m\u001b[0m\u001b[0m\n\u001b[0;32m--> 454\u001b[0;31m         \u001b[0mdata\u001b[0m \u001b[0;34m=\u001b[0m \u001b[0mparser\u001b[0m\u001b[0;34m.\u001b[0m\u001b[0mread\u001b[0m\u001b[0;34m(\u001b[0m\u001b[0mnrows\u001b[0m\u001b[0;34m)\u001b[0m\u001b[0;34m\u001b[0m\u001b[0;34m\u001b[0m\u001b[0m\n\u001b[0m\u001b[1;32m    455\u001b[0m     \u001b[0;32mfinally\u001b[0m\u001b[0;34m:\u001b[0m\u001b[0;34m\u001b[0m\u001b[0;34m\u001b[0m\u001b[0m\n\u001b[1;32m    456\u001b[0m         \u001b[0mparser\u001b[0m\u001b[0;34m.\u001b[0m\u001b[0mclose\u001b[0m\u001b[0;34m(\u001b[0m\u001b[0;34m)\u001b[0m\u001b[0;34m\u001b[0m\u001b[0;34m\u001b[0m\u001b[0m\n",
      "\u001b[0;32m/Library/Frameworks/Python.framework/Versions/3.6/lib/python3.6/site-packages/pandas/io/parsers.py\u001b[0m in \u001b[0;36mread\u001b[0;34m(self, nrows)\u001b[0m\n\u001b[1;32m   1131\u001b[0m     \u001b[0;32mdef\u001b[0m \u001b[0mread\u001b[0m\u001b[0;34m(\u001b[0m\u001b[0mself\u001b[0m\u001b[0;34m,\u001b[0m \u001b[0mnrows\u001b[0m\u001b[0;34m=\u001b[0m\u001b[0;32mNone\u001b[0m\u001b[0;34m)\u001b[0m\u001b[0;34m:\u001b[0m\u001b[0;34m\u001b[0m\u001b[0;34m\u001b[0m\u001b[0m\n\u001b[1;32m   1132\u001b[0m         \u001b[0mnrows\u001b[0m \u001b[0;34m=\u001b[0m \u001b[0m_validate_integer\u001b[0m\u001b[0;34m(\u001b[0m\u001b[0;34m\"nrows\"\u001b[0m\u001b[0;34m,\u001b[0m \u001b[0mnrows\u001b[0m\u001b[0;34m)\u001b[0m\u001b[0;34m\u001b[0m\u001b[0;34m\u001b[0m\u001b[0m\n\u001b[0;32m-> 1133\u001b[0;31m         \u001b[0mret\u001b[0m \u001b[0;34m=\u001b[0m \u001b[0mself\u001b[0m\u001b[0;34m.\u001b[0m\u001b[0m_engine\u001b[0m\u001b[0;34m.\u001b[0m\u001b[0mread\u001b[0m\u001b[0;34m(\u001b[0m\u001b[0mnrows\u001b[0m\u001b[0;34m)\u001b[0m\u001b[0;34m\u001b[0m\u001b[0;34m\u001b[0m\u001b[0m\n\u001b[0m\u001b[1;32m   1134\u001b[0m \u001b[0;34m\u001b[0m\u001b[0m\n\u001b[1;32m   1135\u001b[0m         \u001b[0;31m# May alter columns / col_dict\u001b[0m\u001b[0;34m\u001b[0m\u001b[0;34m\u001b[0m\u001b[0;34m\u001b[0m\u001b[0m\n",
      "\u001b[0;32m/Library/Frameworks/Python.framework/Versions/3.6/lib/python3.6/site-packages/pandas/io/parsers.py\u001b[0m in \u001b[0;36mread\u001b[0;34m(self, nrows)\u001b[0m\n\u001b[1;32m   2035\u001b[0m     \u001b[0;32mdef\u001b[0m \u001b[0mread\u001b[0m\u001b[0;34m(\u001b[0m\u001b[0mself\u001b[0m\u001b[0;34m,\u001b[0m \u001b[0mnrows\u001b[0m\u001b[0;34m=\u001b[0m\u001b[0;32mNone\u001b[0m\u001b[0;34m)\u001b[0m\u001b[0;34m:\u001b[0m\u001b[0;34m\u001b[0m\u001b[0;34m\u001b[0m\u001b[0m\n\u001b[1;32m   2036\u001b[0m         \u001b[0;32mtry\u001b[0m\u001b[0;34m:\u001b[0m\u001b[0;34m\u001b[0m\u001b[0;34m\u001b[0m\u001b[0m\n\u001b[0;32m-> 2037\u001b[0;31m             \u001b[0mdata\u001b[0m \u001b[0;34m=\u001b[0m \u001b[0mself\u001b[0m\u001b[0;34m.\u001b[0m\u001b[0m_reader\u001b[0m\u001b[0;34m.\u001b[0m\u001b[0mread\u001b[0m\u001b[0;34m(\u001b[0m\u001b[0mnrows\u001b[0m\u001b[0;34m)\u001b[0m\u001b[0;34m\u001b[0m\u001b[0;34m\u001b[0m\u001b[0m\n\u001b[0m\u001b[1;32m   2038\u001b[0m         \u001b[0;32mexcept\u001b[0m \u001b[0mStopIteration\u001b[0m\u001b[0;34m:\u001b[0m\u001b[0;34m\u001b[0m\u001b[0;34m\u001b[0m\u001b[0m\n\u001b[1;32m   2039\u001b[0m             \u001b[0;32mif\u001b[0m \u001b[0mself\u001b[0m\u001b[0;34m.\u001b[0m\u001b[0m_first_chunk\u001b[0m\u001b[0;34m:\u001b[0m\u001b[0;34m\u001b[0m\u001b[0;34m\u001b[0m\u001b[0m\n",
      "\u001b[0;32mpandas/_libs/parsers.pyx\u001b[0m in \u001b[0;36mpandas._libs.parsers.TextReader.read\u001b[0;34m()\u001b[0m\n",
      "\u001b[0;32mpandas/_libs/parsers.pyx\u001b[0m in \u001b[0;36mpandas._libs.parsers.TextReader._read_low_memory\u001b[0;34m()\u001b[0m\n",
      "\u001b[0;32mpandas/_libs/parsers.pyx\u001b[0m in \u001b[0;36mpandas._libs.parsers.TextReader._read_rows\u001b[0;34m()\u001b[0m\n",
      "\u001b[0;32mpandas/_libs/parsers.pyx\u001b[0m in \u001b[0;36mpandas._libs.parsers.TextReader._convert_column_data\u001b[0;34m()\u001b[0m\n",
      "\u001b[0;32mpandas/_libs/parsers.pyx\u001b[0m in \u001b[0;36mpandas._libs.parsers.TextReader._convert_tokens\u001b[0;34m()\u001b[0m\n",
      "\u001b[0;32mpandas/_libs/parsers.pyx\u001b[0m in \u001b[0;36mpandas._libs.parsers.TextReader._convert_with_dtype\u001b[0;34m()\u001b[0m\n",
      "\u001b[0;32m/Library/Frameworks/Python.framework/Versions/3.6/lib/python3.6/site-packages/pandas/core/dtypes/common.py\u001b[0m in \u001b[0;36mis_categorical_dtype\u001b[0;34m(arr_or_dtype)\u001b[0m\n\u001b[1;32m    540\u001b[0m \u001b[0;34m\u001b[0m\u001b[0m\n\u001b[1;32m    541\u001b[0m \u001b[0;34m\u001b[0m\u001b[0m\n\u001b[0;32m--> 542\u001b[0;31m \u001b[0;32mdef\u001b[0m \u001b[0mis_categorical_dtype\u001b[0m\u001b[0;34m(\u001b[0m\u001b[0marr_or_dtype\u001b[0m\u001b[0;34m)\u001b[0m \u001b[0;34m->\u001b[0m \u001b[0mbool\u001b[0m\u001b[0;34m:\u001b[0m\u001b[0;34m\u001b[0m\u001b[0;34m\u001b[0m\u001b[0m\n\u001b[0m\u001b[1;32m    543\u001b[0m     \"\"\"\n\u001b[1;32m    544\u001b[0m     \u001b[0mCheck\u001b[0m \u001b[0mwhether\u001b[0m \u001b[0man\u001b[0m \u001b[0marray\u001b[0m\u001b[0;34m-\u001b[0m\u001b[0mlike\u001b[0m \u001b[0;32mor\u001b[0m \u001b[0mdtype\u001b[0m \u001b[0;32mis\u001b[0m \u001b[0mof\u001b[0m \u001b[0mthe\u001b[0m \u001b[0mCategorical\u001b[0m \u001b[0mdtype\u001b[0m\u001b[0;34m.\u001b[0m\u001b[0;34m\u001b[0m\u001b[0;34m\u001b[0m\u001b[0m\n",
      "\u001b[0;31mKeyboardInterrupt\u001b[0m: "
     ]
    }
   ],
   "source": [
    "reviews = pd.read_csv('../data/imdb_review.csv')"
   ]
  },
  {
   "cell_type": "code",
   "execution_count": 562,
   "metadata": {},
   "outputs": [
    {
     "data": {
      "text/plain": [
       "array([ 0.00842817, -0.0477254 , -0.01941524, -0.0590938 ,  0.00945955])"
      ]
     },
     "execution_count": 562,
     "metadata": {},
     "output_type": "execute_result"
    }
   ],
   "source": [
    "## Toy Story - 1\n",
    "\n",
    "merge_label.iloc[22].reviews"
   ]
  },
  {
   "cell_type": "code",
   "execution_count": 606,
   "metadata": {},
   "outputs": [],
   "source": [
    "clusters = pd.read_csv('../data/combo_moral.csv', index_col= 0)"
   ]
  },
  {
   "cell_type": "code",
   "execution_count": 607,
   "metadata": {},
   "outputs": [],
   "source": [
    "clusters.drop(columns = ['movieId'], inplace = True)\n",
    "# clusters = clusters.transpose()"
   ]
  },
  {
   "cell_type": "code",
   "execution_count": 612,
   "metadata": {},
   "outputs": [
    {
     "data": {
      "text/plain": [
       "<matplotlib.axes._subplots.AxesSubplot at 0x7fdd5d8255f8>"
      ]
     },
     "execution_count": 612,
     "metadata": {},
     "output_type": "execute_result"
    },
    {
     "data": {
      "image/png": "[encoded data removed]",
      "text/plain": [
       "<Figure size 432x288 with 1 Axes>"
      ]
     },
     "metadata": {
      "needs_background": "light"
     },
     "output_type": "display_data"
    }
   ],
   "source": [
    "clusters.plot(kind = 'bar')\n",
    "# plt.legend(location  = (1,1))"
   ]
  },
  {
   "cell_type": "code",
   "execution_count": 664,
   "metadata": {},
   "outputs": [],
   "source": [
    "clusters = pd.read_csv('../data/user_review_moral.csv', index_col= 0)"
   ]
  },
  {
   "cell_type": "code",
   "execution_count": 665,
   "metadata": {},
   "outputs": [
    {
     "data": {
      "image/png": "[encoded data removed]",
      "text/plain": [
       "<Figure size 432x288 with 1 Axes>"
      ]
     },
     "metadata": {
      "needs_background": "light"
     },
     "output_type": "display_data"
    }
   ],
   "source": [
    "clusters.drop(columns = ['movieId'], inplace = True)\n",
    "clusters['Cluster'] = ['Neutral', 'Followers', 'Rebels']\n",
    "clusters.set_index('Cluster', inplace = True)\n",
    "ax = clusters.plot(kind = 'bar');\n",
    "ax.set_ylabel('Score')\n",
    "ax.set_title('User Clusters')\n",
    "ax.set_xlabel('')\n",
    "ax.set_xticklabels(clusters.index, rotation = 0)\n",
    "ax.figure.savefig('../plots/users.jpg')"
   ]
  },
  {
   "cell_type": "code",
   "execution_count": 623,
   "metadata": {},
   "outputs": [
    {
     "data": {
      "text/html": [
       "<div>\n",
       "<style scoped>\n",
       "    .dataframe tbody tr th:only-of-type {\n",
       "        vertical-align: middle;\n",
       "    }\n",
       "\n",
       "    .dataframe tbody tr th {\n",
       "        vertical-align: top;\n",
       "    }\n",
       "\n",
       "    .dataframe thead th {\n",
       "        text-align: right;\n",
       "    }\n",
       "</style>\n",
       "<table border=\"1\" class=\"dataframe\">\n",
       "  <thead>\n",
       "    <tr style=\"text-align: right;\">\n",
       "      <th></th>\n",
       "      <th>Harm</th>\n",
       "      <th>Fairness</th>\n",
       "      <th>Ingroup</th>\n",
       "      <th>Authority</th>\n",
       "      <th>Purity</th>\n",
       "    </tr>\n",
       "    <tr>\n",
       "      <th>Labels</th>\n",
       "      <th></th>\n",
       "      <th></th>\n",
       "      <th></th>\n",
       "      <th></th>\n",
       "      <th></th>\n",
       "    </tr>\n",
       "  </thead>\n",
       "  <tbody>\n",
       "    <tr>\n",
       "      <th>0</th>\n",
       "      <td>0.003704</td>\n",
       "      <td>0.000416</td>\n",
       "      <td>0.000363</td>\n",
       "      <td>0.004674</td>\n",
       "      <td>-0.001465</td>\n",
       "    </tr>\n",
       "    <tr>\n",
       "      <th>1</th>\n",
       "      <td>0.014914</td>\n",
       "      <td>0.001128</td>\n",
       "      <td>0.001559</td>\n",
       "      <td>0.019060</td>\n",
       "      <td>-0.005127</td>\n",
       "    </tr>\n",
       "    <tr>\n",
       "      <th>2</th>\n",
       "      <td>-0.010540</td>\n",
       "      <td>-0.000714</td>\n",
       "      <td>-0.001311</td>\n",
       "      <td>-0.013006</td>\n",
       "      <td>0.004352</td>\n",
       "    </tr>\n",
       "  </tbody>\n",
       "</table>\n",
       "</div>"
      ],
      "text/plain": [
       "            Harm  Fairness   Ingroup  Authority    Purity\n",
       "Labels                                                   \n",
       "0       0.003704  0.000416  0.000363   0.004674 -0.001465\n",
       "1       0.014914  0.001128  0.001559   0.019060 -0.005127\n",
       "2      -0.010540 -0.000714 -0.001311  -0.013006  0.004352"
      ]
     },
     "execution_count": 623,
     "metadata": {},
     "output_type": "execute_result"
    }
   ],
   "source": [
    "clusters"
   ]
  },
  {
   "cell_type": "code",
   "execution_count": null,
   "metadata": {},
   "outputs": [],
   "source": []
  }
 ],
 "metadata": {
  "kernelspec": {
   "display_name": "Python 3",
   "language": "python",
   "name": "python3"
  },
  "language_info": {
   "codemirror_mode": {
    "name": "ipython",
    "version": 3
   },
   "file_extension": ".py",
   "mimetype": "text/x-python",
   "name": "python",
   "nbconvert_exporter": "python",
   "pygments_lexer": "ipython3",
   "version": "3.6.8"
  }
 },
 "nbformat": 4,
 "nbformat_minor": 4
}
