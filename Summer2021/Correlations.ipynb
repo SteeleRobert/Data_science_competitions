{
 "cells": [
  {
   "cell_type": "code",
   "execution_count": 1,
   "id": "6fe61eaa",
   "metadata": {},
   "outputs": [],
   "source": [
    "%load_ext autoreload\n",
    "%autoreload 2"
   ]
  },
  {
   "cell_type": "code",
   "execution_count": 7,
   "id": "42cd8724",
   "metadata": {},
   "outputs": [],
   "source": [
    "import pandas as pd\n",
    "import numpy as np\n",
    "\n",
    "\n",
    "from datetime import datetime as dt\n",
    "from tqdm import tqdm\n",
    "tqdm.pandas()"
   ]
  },
  {
   "cell_type": "code",
   "execution_count": 8,
   "id": "ca9306d5",
   "metadata": {},
   "outputs": [],
   "source": [
    "venues = pd.read_csv('data/venues.csv')\n",
    "listings = pd.read_csv('data/listings.csv')\n",
    "calendar = pd.read_csv('data/calendar.csv')"
   ]
  },
  {
   "cell_type": "code",
   "execution_count": null,
   "id": "06692294",
   "metadata": {},
   "outputs": [],
   "source": [
    "def top_business(row, clusters):\n",
    "    dist = clusters.apply(lambda x: geodesic((x['lat'],x['lon']), (row['latitude'], row['longitude'])).km,axis=1).sort_values(ascending=True).head(1)\n",
    "    return str(dist[dist.index[0]])\n",
    "\n",
    "def mega_dist(row, clusters):\n",
    "    mega = cluster_df.iloc[cluster_df['num'].astype('int').argmax()]\n",
    "    dist = geodesic((mega['lat'],mega['lon']), (row['latitude'], row['longitude'])).km\n",
    "    return str(dist)"
   ]
  },
  {
   "cell_type": "code",
   "execution_count": null,
   "id": "c433774e",
   "metadata": {},
   "outputs": [],
   "source": [
    "cities = ['asheville', 'nashville', 'austin', 'new orleans', 'los angeles']\n",
    "types = ['public_transport', 'night_life', 'minor_dest', 'major_dest', 'food']"
   ]
  },
  {
   "cell_type": "code",
   "execution_count": null,
   "id": "01c2f88e",
   "metadata": {},
   "outputs": [],
   "source": [
    "len(np.load('clusters/'+'public_transport'+'_'+'los angeles'+'_cluster_10.npy'))"
   ]
  },
  {
   "cell_type": "code",
   "execution_count": null,
   "id": "34bc48d8",
   "metadata": {},
   "outputs": [],
   "source": [
    "cluster_df.iloc[cluster_df['num'].astype('int').argmax()]"
   ]
  },
  {
   "cell_type": "code",
   "execution_count": null,
   "id": "9e135cfc",
   "metadata": {},
   "outputs": [],
   "source": [
    "cluster_df"
   ]
  },
  {
   "cell_type": "code",
   "execution_count": null,
   "id": "85d61af3",
   "metadata": {},
   "outputs": [],
   "source": [
    "multi_owner = listings.groupby('host_id').filter(lambda x:len(x) > 1)\n",
    "multi_owner['metropolitan'] = multi_owner['metropolitan'].replace('LA', 'los angeles')\n",
    "multi_owner['metropolitan'] = multi_owner['metropolitan'].replace('new_orleans', 'new orleans')\n",
    "distance_data = []\n",
    "for city in cities:\n",
    "    multi_owner_city = multi_owner[multi_owner['metropolitan'] == city]\n",
    "    print(city)\n",
    "    for type_dest in types:\n",
    "        print(type_dest)\n",
    "        cluster_np = np.load('clusters/'+type_dest+'_'+city+'_cluster_10.npy')\n",
    "        if len(cluster_np) == 0:\n",
    "            cluster_np = np.load('clusters/'+type_dest+'_'+city+'_cluster.npy')\n",
    "        print('clusters/'+type_dest+'_'+city+'_cluster.npy')\n",
    "        print(cluster_np)\n",
    "#         if len(cluster_np) > 0:\n",
    "#             cluster_df = pd.DataFrame(cluster_np, columns=['num','lat','lon','zipcode'])\n",
    "#             multi_owner_city[type_dest] = multi_owner_city.apply(top_business,axis = 1, clusters=cluster_df)\n",
    "#             multi_owner_city['mega_'+type_dest] = multi_owner_city.apply(mega_dist,axis = 1, clusters=cluster_df)\n",
    "#         else:\n",
    "#             multi_owner_city[type_dest] = np.nan\n",
    "#             multi_owner_city['mega_'+type_dest] = np.nan\n",
    "#     distance_data.append(multi_owner_city)\n",
    "\n"
   ]
  },
  {
   "cell_type": "code",
   "execution_count": null,
   "id": "e09f0120",
   "metadata": {},
   "outputs": [],
   "source": [
    "new_dist = pd.concat(distance_data)"
   ]
  },
  {
   "cell_type": "code",
   "execution_count": null,
   "id": "7d6c4f6f",
   "metadata": {},
   "outputs": [],
   "source": [
    "new_dist.columns"
   ]
  },
  {
   "cell_type": "code",
   "execution_count": null,
   "id": "0f5bd7c0",
   "metadata": {},
   "outputs": [],
   "source": [
    "all_dist[['major_dest', 'mega_major_dest']] = new_dist[['major_dest', 'mega_major_dest']]"
   ]
  },
  {
   "cell_type": "code",
   "execution_count": null,
   "id": "51ac0606",
   "metadata": {},
   "outputs": [],
   "source": [
    "import xgboost"
   ]
  },
  {
   "cell_type": "code",
   "execution_count": null,
   "id": "669799f7",
   "metadata": {},
   "outputs": [],
   "source": [
    "all_dist = pd.concat(distance_data)"
   ]
  },
  {
   "cell_type": "code",
   "execution_count": null,
   "id": "e59e4446",
   "metadata": {},
   "outputs": [],
   "source": [
    "all_dist = pd.read_csv('all_dist.csv')"
   ]
  },
  {
   "cell_type": "code",
   "execution_count": null,
   "id": "0f9724ad",
   "metadata": {},
   "outputs": [],
   "source": [
    "all_dist"
   ]
  },
  {
   "cell_type": "code",
   "execution_count": null,
   "id": "2eca39c9",
   "metadata": {},
   "outputs": [],
   "source": [
    "all_dist.columns"
   ]
  },
  {
   "cell_type": "code",
   "execution_count": null,
   "id": "918be917",
   "metadata": {},
   "outputs": [],
   "source": [
    "tree_data = all_dist_ratio[['accommodates', \n",
    "                     'bathrooms',\n",
    "                     'bed_type', \n",
    "                     'bedrooms', \n",
    "                     'beds',\n",
    "                     'cancellation_policy',\n",
    "                     'metropolitan',\n",
    "                     'property_type',\n",
    "                     'review_scores_checkin',\n",
    "                     'review_scores_cleanliness',\n",
    "                     'review_scores_communication', \n",
    "                     'review_scores_location',\n",
    "                     'review_scores_rating',\n",
    "                     'review_scores_value', \n",
    "                     'room_type',\n",
    "                     'public_transport',\n",
    "                     'mega_public_transport',\n",
    "                     'night_life', 'mega_night_life', 'minor_dest', 'mega_minor_dest',\n",
    "                     'major_dest', 'mega_major_dest', 'food', 'mega_food',\n",
    "                     'available',\n",
    "                    'price']]"
   ]
  },
  {
   "cell_type": "code",
   "execution_count": null,
   "id": "cb31f048",
   "metadata": {},
   "outputs": [],
   "source": [
    "tree_data['bed_type'] = tree_data['bed_type'].astype('category').cat.rename_categories([1, 2, 3, 4, 5])"
   ]
  },
  {
   "cell_type": "code",
   "execution_count": null,
   "id": "d2dc74b7",
   "metadata": {},
   "outputs": [],
   "source": [
    "tree_data['metropolitan'] = tree_data['metropolitan'].astype('category').cat.rename_categories([1, 2, 3, 4, 5])\n",
    "tree_data['property_type'] = tree_data['property_type'].astype('category').cat.rename_categories(list(range(35)))\n",
    "tree_data['room_type'] = tree_data['room_type'].astype('category').cat.rename_categories(list(range(3)))\n",
    "tree_data['cancellation_policy'] = tree_data['cancellation_policy'].astype('category').cat.rename_categories([1, 2, 3, 4, 5, 6])"
   ]
  },
  {
   "cell_type": "code",
   "execution_count": null,
   "id": "876c3cbf",
   "metadata": {},
   "outputs": [],
   "source": [
    "len(tree_data['room_type'].unique()) #= tree_data['bed_type'].astype('category').cat.rename_categories([1, 2, 3, 4, 5])"
   ]
  },
  {
   "cell_type": "code",
   "execution_count": null,
   "id": "aa0d89fb",
   "metadata": {},
   "outputs": [],
   "source": [
    "tree_data"
   ]
  },
  {
   "cell_type": "code",
   "execution_count": null,
   "id": "0e2de7bf",
   "metadata": {},
   "outputs": [],
   "source": [
    "tree_data[['public_transport',\n",
    "                     'mega_public_transport',\n",
    "                     'night_life', 'mega_night_life', 'minor_dest', 'mega_minor_dest',\n",
    "                     'major_dest', 'mega_major_dest', 'food', 'mega_food']] = tree_data[['public_transport',\n",
    "                     'mega_public_transport',\n",
    "                     'night_life', 'mega_night_life', 'minor_dest', 'mega_minor_dest',\n",
    "                     'major_dest', 'mega_major_dest', 'food', 'mega_food']].astype('float')"
   ]
  },
  {
   "cell_type": "code",
   "execution_count": null,
   "id": "f3b4061f",
   "metadata": {},
   "outputs": [],
   "source": [
    "old_data = tree_data[['major_dest', 'mega_major_dest']]"
   ]
  },
  {
   "cell_type": "code",
   "execution_count": null,
   "id": "4353a098",
   "metadata": {},
   "outputs": [],
   "source": [
    "tree_data.dtypes"
   ]
  },
  {
   "cell_type": "code",
   "execution_count": null,
   "id": "6e0e2428",
   "metadata": {},
   "outputs": [],
   "source": [
    "from xgboost import XGBRegressor\n",
    "X = tree_data.drop('available', axis=1).to_numpy()\n",
    "y = tree_data['available'].to_numpy()\n",
    "model = XGBRegressor()\n",
    "model.fit(X, y)\n",
    "# feature importance\n"
   ]
  },
  {
   "cell_type": "code",
   "execution_count": null,
   "id": "99409819",
   "metadata": {},
   "outputs": [],
   "source": [
    "feature_imp = np.array(model.feature_importances_)"
   ]
  },
  {
   "cell_type": "code",
   "execution_count": null,
   "id": "2057af8e",
   "metadata": {},
   "outputs": [],
   "source": [
    "feature_imp[feature_imp.argsort()[-10:][::-1]]"
   ]
  },
  {
   "cell_type": "code",
   "execution_count": null,
   "id": "2a979d31",
   "metadata": {},
   "outputs": [],
   "source": [
    "tree_data.drop('available', axis=1).columns[feature_imp.argsort()[-10:][::-1]]"
   ]
  },
  {
   "cell_type": "code",
   "execution_count": null,
   "id": "0160a46f",
   "metadata": {},
   "outputs": [],
   "source": [
    "from matplotlib import pyplot\n",
    "pyplot.bar(range(len(model.feature_importances_)), model.feature_importances_)\n",
    "pyplot.show()"
   ]
  },
  {
   "cell_type": "code",
   "execution_count": null,
   "id": "90793f01",
   "metadata": {},
   "outputs": [],
   "source": [
    "list(tree_data.drop('available', axis=1).columns[feature_imp.argsort()[-10:][::-1]])"
   ]
  },
  {
   "cell_type": "code",
   "execution_count": null,
   "id": "4222f119",
   "metadata": {},
   "outputs": [],
   "source": [
    "import seaborn as sns\n",
    "\n",
    "ax = sns.barplot(x=list(tree_data.drop('available', axis=1).columns[feature_imp.argsort()[-10:][::-1]]), y=feature_imp[feature_imp.argsort()[-10:][::-1]])\n",
    "plt.xticks(rotation = 90)\n",
    "plt.figure(figsize = (20, 10))"
   ]
  },
  {
   "cell_type": "code",
   "execution_count": null,
   "id": "e9494cc6",
   "metadata": {},
   "outputs": [],
   "source": [
    "arr.argsort()[-3:][::-1]"
   ]
  },
  {
   "cell_type": "code",
   "execution_count": null,
   "id": "11ab2e44",
   "metadata": {},
   "outputs": [],
   "source": [
    "all_dist.to_csv('all_dist.csv')"
   ]
  },
  {
   "cell_type": "code",
   "execution_count": 15,
   "id": "c535898b",
   "metadata": {},
   "outputs": [],
   "source": [
    "calendar['available'] = calendar['available'].replace('f', 0)\n",
    "calendar['available'] = calendar['available'].replace('t', 1)"
   ]
  },
  {
   "cell_type": "code",
   "execution_count": null,
   "id": "770c7ddd",
   "metadata": {},
   "outputs": [],
   "source": [
    "len(calendar)"
   ]
  },
  {
   "cell_type": "code",
   "execution_count": null,
   "id": "ebbb45d8",
   "metadata": {},
   "outputs": [],
   "source": [
    "calendar['available']"
   ]
  },
  {
   "cell_type": "code",
   "execution_count": 16,
   "id": "9dd9b7c9",
   "metadata": {},
   "outputs": [],
   "source": [
    "ratios = calendar.groupby(['listing_id'])['available'].sum()/calendar.groupby('listing_id')['available'].count()"
   ]
  },
  {
   "cell_type": "code",
   "execution_count": 18,
   "id": "a1e43ca4",
   "metadata": {},
   "outputs": [
    {
     "ename": "ModuleNotFoundError",
     "evalue": "No module named 'pandas.io.formats.csvs'",
     "output_type": "error",
     "traceback": [
      "\u001b[1;31m---------------------------------------------------------------------------\u001b[0m",
      "\u001b[1;31mModuleNotFoundError\u001b[0m                       Traceback (most recent call last)",
      "\u001b[1;32m<ipython-input-18-643032783862>\u001b[0m in \u001b[0;36m<module>\u001b[1;34m\u001b[0m\n\u001b[1;32m----> 1\u001b[1;33m \u001b[0mratios\u001b[0m\u001b[1;33m.\u001b[0m\u001b[0mto_csv\u001b[0m\u001b[1;33m(\u001b[0m\u001b[1;34m'ratios.csv'\u001b[0m\u001b[1;33m)\u001b[0m\u001b[1;33m\u001b[0m\u001b[1;33m\u001b[0m\u001b[0m\n\u001b[0m",
      "\u001b[1;32mc:\\users\\steel\\miniconda3\\lib\\site-packages\\pandas\\core\\generic.py\u001b[0m in \u001b[0;36mto_csv\u001b[1;34m(self, path_or_buf, sep, na_rep, float_format, columns, header, index, index_label, mode, encoding, compression, quoting, quotechar, line_terminator, chunksize, date_format, doublequote, escapechar, decimal, errors, storage_options)\u001b[0m\n",
      "\u001b[1;32mc:\\users\\steel\\miniconda3\\lib\\site-packages\\pandas\\io\\formats\\format.py\u001b[0m in \u001b[0;36mto_csv\u001b[1;34m(self, path_or_buf, encoding, sep, columns, index_label, mode, compression, quoting, quotechar, line_terminator, chunksize, date_format, doublequote, escapechar, errors, storage_options)\u001b[0m\n",
      "\u001b[1;31mModuleNotFoundError\u001b[0m: No module named 'pandas.io.formats.csvs'"
     ]
    }
   ],
   "source": [
    "ratios.to_csv('ratios.csv')"
   ]
  },
  {
   "cell_type": "code",
   "execution_count": 24,
   "id": "a93214ce",
   "metadata": {},
   "outputs": [],
   "source": [
    "np.save('ratios.npy',[np.array(ratios.index),ratios.to_numpy()])"
   ]
  },
  {
   "cell_type": "code",
   "execution_count": 23,
   "id": "bc46c717",
   "metadata": {},
   "outputs": [
    {
     "data": {
      "text/plain": [
       "[Int64Index([     109,      344,      941,     1078,     2265,     2404,\n",
       "                 2732,     2864,     3021,     3152,\n",
       "             ...\n",
       "             19013292, 19013896, 19014529, 19016073, 19032418, 19034190,\n",
       "             19035492, 19035679, 19037230, 19038571],\n",
       "            dtype='int64', name='listing_id', length=50364),\n",
       " array([0.        , 0.        , 0.43561644, ..., 0.98082192, 0.27945205,\n",
       "        0.38356164])]"
      ]
     },
     "execution_count": 23,
     "metadata": {},
     "output_type": "execute_result"
    }
   ],
   "source": [
    "[ratios.index,ratios.to_numpy()]"
   ]
  },
  {
   "cell_type": "code",
   "execution_count": null,
   "id": "c278f7f0",
   "metadata": {},
   "outputs": [],
   "source": [
    "ratios.reset_index()"
   ]
  },
  {
   "cell_type": "code",
   "execution_count": null,
   "id": "d58c79c3",
   "metadata": {},
   "outputs": [],
   "source": [
    "all_dist_ratio = all_dist.merge(ratios, how='inner', left_on='id', right_on='listing_id')"
   ]
  },
  {
   "cell_type": "code",
   "execution_count": null,
   "id": "a6031000",
   "metadata": {},
   "outputs": [],
   "source": [
    "all_dist_ratio.drop('Unnamed: 0', axis=1, inplace=True)"
   ]
  },
  {
   "cell_type": "code",
   "execution_count": null,
   "id": "c43e59b1",
   "metadata": {},
   "outputs": [],
   "source": [
    "all_dist_ratio.to_csv('all_dist_availablity.csv')"
   ]
  },
  {
   "cell_type": "code",
   "execution_count": null,
   "id": "d85e812b",
   "metadata": {},
   "outputs": [],
   "source": [
    "all_dist.columns"
   ]
  },
  {
   "cell_type": "code",
   "execution_count": 11,
   "id": "080b1eba",
   "metadata": {},
   "outputs": [
    {
     "name": "stderr",
     "output_type": "stream",
     "text": [
      "<ipython-input-11-15a5477df7bd>:1: FutureWarning: The default value of regex will change from True to False in a future version. In addition, single character regular expressions will *not* be treated as literal strings when regex=True.\n",
      "  all_dist_ratio['price'] = all_dist_ratio['price'].str.replace('$','').str.replace(',','').astype('float')\n",
      "<ipython-input-11-15a5477df7bd>:2: FutureWarning: The default value of regex will change from True to False in a future version. In addition, single character regular expressions will *not* be treated as literal strings when regex=True.\n",
      "  all_dist_ratio['weekly_price'] = all_dist_ratio['weekly_price'].str.replace('$','').str.replace(',','').astype('float')\n"
     ]
    }
   ],
   "source": [
    "all_dist_ratio['price'] = all_dist_ratio['price'].str.replace('$','').str.replace(',','').astype('float') \n",
    "all_dist_ratio['weekly_price'] = all_dist_ratio['weekly_price'].str.replace('$','').str.replace(',','').astype('float')"
   ]
  },
  {
   "cell_type": "code",
   "execution_count": null,
   "id": "c41505a1",
   "metadata": {},
   "outputs": [],
   "source": [
    "all_dist_ratio.dtypes"
   ]
  },
  {
   "cell_type": "code",
   "execution_count": null,
   "id": "952b16c6",
   "metadata": {},
   "outputs": [],
   "source": [
    "all_dist_ratio[['price', 'public_transport',\n",
    "                     'mega_public_transport',\n",
    "                     'night_life', 'mega_night_life', 'minor_dest', 'mega_minor_dest',\n",
    "                     'major_dest', 'mega_major_dest', 'food', 'mega_food','available']].astype('float').corr()"
   ]
  },
  {
   "cell_type": "code",
   "execution_count": null,
   "id": "21ab859b",
   "metadata": {},
   "outputs": [],
   "source": [
    "all_dist_ratio[['price', 'public_transport',\n",
    "                     'mega_public_transport',\n",
    "                     'night_life', 'mega_night_life', 'minor_dest', 'mega_minor_dest',\n",
    "                     'major_dest', 'mega_major_dest', 'food', 'mega_food',\n",
    "       'weekly_price', 'review_scores_value', 'available']].astype('float').corr(method='kendall')"
   ]
  },
  {
   "cell_type": "code",
   "execution_count": 12,
   "id": "f643487c",
   "metadata": {},
   "outputs": [],
   "source": [
    "correl = all_dist_ratio[['price','available','public_transport',\n",
    "                     'mega_public_transport',\n",
    "                     'night_life', 'mega_night_life', 'minor_dest', 'mega_minor_dest',\n",
    "                     'major_dest', 'mega_major_dest', 'food', 'mega_food']].astype('float').corr(method='spearman')"
   ]
  },
  {
   "cell_type": "code",
   "execution_count": 9,
   "id": "e9df64cf",
   "metadata": {},
   "outputs": [],
   "source": [
    "all_dist_ratio = pd.read_csv('data/all_dist_availablity2.csv')"
   ]
  },
  {
   "cell_type": "code",
   "execution_count": null,
   "id": "45cf75e4",
   "metadata": {},
   "outputs": [],
   "source": [
    "all_dist_ratio"
   ]
  },
  {
   "cell_type": "code",
   "execution_count": null,
   "id": "33e454e7",
   "metadata": {},
   "outputs": [],
   "source": [
    "correl"
   ]
  },
  {
   "cell_type": "code",
   "execution_count": 14,
   "id": "1d475082",
   "metadata": {},
   "outputs": [
    {
     "ename": "AttributeError",
     "evalue": "module 'seaborn' has no attribute 'heatmap'",
     "output_type": "error",
     "traceback": [
      "\u001b[1;31m---------------------------------------------------------------------------\u001b[0m",
      "\u001b[1;31mAttributeError\u001b[0m                            Traceback (most recent call last)",
      "\u001b[1;32m<ipython-input-14-f3c5d8332e5c>\u001b[0m in \u001b[0;36m<module>\u001b[1;34m\u001b[0m\n\u001b[0;32m      1\u001b[0m \u001b[1;32mimport\u001b[0m \u001b[0mseaborn\u001b[0m \u001b[1;32mas\u001b[0m \u001b[0msns\u001b[0m\u001b[1;33m\u001b[0m\u001b[1;33m\u001b[0m\u001b[0m\n\u001b[1;32m----> 2\u001b[1;33m \u001b[0msns\u001b[0m\u001b[1;33m.\u001b[0m\u001b[0mheatmap\u001b[0m\u001b[1;33m(\u001b[0m\u001b[0mcorrel\u001b[0m\u001b[1;33m,\u001b[0m\u001b[0mannot\u001b[0m\u001b[1;33m=\u001b[0m\u001b[1;32mTrue\u001b[0m\u001b[1;33m,\u001b[0m \u001b[0mfmt\u001b[0m \u001b[1;33m=\u001b[0m \u001b[1;34m\".2f\"\u001b[0m\u001b[1;33m,\u001b[0m \u001b[0mcmap\u001b[0m \u001b[1;33m=\u001b[0m \u001b[1;34m\"coolwarm\"\u001b[0m\u001b[1;33m)\u001b[0m\u001b[1;33m\u001b[0m\u001b[1;33m\u001b[0m\u001b[0m\n\u001b[0m\u001b[0;32m      3\u001b[0m \u001b[0mplt\u001b[0m\u001b[1;33m.\u001b[0m\u001b[0mxticks\u001b[0m\u001b[1;33m(\u001b[0m\u001b[0mrotation\u001b[0m \u001b[1;33m=\u001b[0m \u001b[1;36m90\u001b[0m\u001b[1;33m)\u001b[0m\u001b[1;33m\u001b[0m\u001b[1;33m\u001b[0m\u001b[0m\n\u001b[0;32m      4\u001b[0m \u001b[1;33m\u001b[0m\u001b[0m\n\u001b[0;32m      5\u001b[0m \u001b[0mplt\u001b[0m\u001b[1;33m.\u001b[0m\u001b[0mfigure\u001b[0m\u001b[1;33m(\u001b[0m\u001b[0mfigsize\u001b[0m \u001b[1;33m=\u001b[0m \u001b[1;33m(\u001b[0m\u001b[1;36m160\u001b[0m\u001b[1;33m,\u001b[0m \u001b[1;36m80\u001b[0m\u001b[1;33m)\u001b[0m\u001b[1;33m)\u001b[0m\u001b[1;33m\u001b[0m\u001b[1;33m\u001b[0m\u001b[0m\n",
      "\u001b[1;31mAttributeError\u001b[0m: module 'seaborn' has no attribute 'heatmap'"
     ]
    }
   ],
   "source": [
    "import seaborn as sns\n",
    "sns.heatmap(correl,annot=True, fmt = \".2f\", cmap = \"coolwarm\")\n",
    "plt.xticks(rotation = 90)\n",
    "\n",
    "plt.figure(figsize = (160, 80))\n",
    "plt.savefig('cluster_dist.pdf')"
   ]
  },
  {
   "cell_type": "code",
   "execution_count": null,
   "id": "0b3271a2",
   "metadata": {},
   "outputs": [],
   "source": [
    "import geopandas"
   ]
  },
  {
   "cell_type": "code",
   "execution_count": null,
   "id": "3316b927",
   "metadata": {},
   "outputs": [],
   "source": [
    "from scipy.stats import pearsonr\n",
    "import pandas as pd\n",
    "\n",
    "def calculate_pvalues(df):\n",
    "    df = df.dropna()._get_numeric_data()\n",
    "    dfcols = pd.DataFrame(columns=df.columns)\n",
    "    pvalues = dfcols.transpose().join(dfcols, how='outer')\n",
    "    for r in df.columns:\n",
    "        for c in df.columns:\n",
    "            pvalues[r][c] = round(pearsonr(df[r], df[c])[1], 10)\n",
    "    return pvalues\n",
    "\n"
   ]
  },
  {
   "cell_type": "code",
   "execution_count": null,
   "id": "a59ce154",
   "metadata": {},
   "outputs": [],
   "source": [
    "vars_df = all_dist_ratio[all_dist_ratio['metropolitan'] == 'los angeles'][['price', 'public_transport',\n",
    "                     'mega_public_transport',\n",
    "                     'night_life', 'mega_night_life', 'minor_dest', 'mega_minor_dest',\n",
    "                     'major_dest', 'mega_major_dest', 'food', 'mega_food',\n",
    "       'weekly_price', 'review_scores_value', 'available']].astype('float')\n",
    "calculate_pvalues(vars_df)"
   ]
  },
  {
   "cell_type": "code",
   "execution_count": null,
   "id": "4790fc9e",
   "metadata": {},
   "outputs": [],
   "source": [
    "venues['city'].unique()"
   ]
  },
  {
   "cell_type": "code",
   "execution_count": null,
   "id": "94e46e82",
   "metadata": {},
   "outputs": [],
   "source": [
    "newo_food"
   ]
  },
  {
   "cell_type": "code",
   "execution_count": null,
   "id": "c979ce67",
   "metadata": {},
   "outputs": [],
   "source": [
    "austin_major_dest"
   ]
  },
  {
   "cell_type": "code",
   "execution_count": null,
   "id": "d6fd9c67",
   "metadata": {},
   "outputs": [],
   "source": [
    "ashe_major_dest\n"
   ]
  },
  {
   "cell_type": "code",
   "execution_count": null,
   "id": "b12cd299",
   "metadata": {},
   "outputs": [],
   "source": [
    "night_life_cluster"
   ]
  },
  {
   "cell_type": "code",
   "execution_count": null,
   "id": "e0519dea",
   "metadata": {},
   "outputs": [],
   "source": [
    "multi_owner_ashe.apply(top_business,axis = 1, clusters=minor_dest_cluster)"
   ]
  },
  {
   "cell_type": "code",
   "execution_count": null,
   "id": "eff6aa75",
   "metadata": {},
   "outputs": [],
   "source": [
    "major_dest_cluster\n"
   ]
  },
  {
   "cell_type": "code",
   "execution_count": null,
   "id": "b2067ffa",
   "metadata": {},
   "outputs": [],
   "source": [
    "multi_owner_ashe"
   ]
  },
  {
   "cell_type": "code",
   "execution_count": null,
   "id": "efcd4dbd",
   "metadata": {},
   "outputs": [],
   "source": [
    "multi_owner.merge(calendar, how='inner', left_on='id', right_on='listing_id')"
   ]
  }
 ],
 "metadata": {
  "kernelspec": {
   "display_name": "Python 3",
   "language": "python",
   "name": "python3"
  },
  "language_info": {
   "codemirror_mode": {
    "name": "ipython",
    "version": 3
   },
   "file_extension": ".py",
   "mimetype": "text/x-python",
   "name": "python",
   "nbconvert_exporter": "python",
   "pygments_lexer": "ipython3",
   "version": "3.8.5"
  }
 },
 "nbformat": 4,
 "nbformat_minor": 5
}
