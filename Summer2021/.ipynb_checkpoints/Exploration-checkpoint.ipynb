{
 "cells": [
  {
   "cell_type": "code",
   "execution_count": 2,
   "id": "b4c8d2a3",
   "metadata": {},
   "outputs": [],
   "source": [
    "%load_ext autoreload\n",
    "%autoreload 2"
   ]
  },
  {
   "cell_type": "code",
   "execution_count": 3,
   "id": "433e51c4",
   "metadata": {},
   "outputs": [],
   "source": [
    "import pandas as pd\n",
    "import numpy as np"
   ]
  },
  {
   "cell_type": "code",
   "execution_count": 4,
   "id": "3e0d389a",
   "metadata": {},
   "outputs": [],
   "source": [
    "calendar = pd.read_csv('data/calendar.csv')\n",
    "demographics = pd.read_csv('data/demographics.csv')\n",
    "econ_state = pd.read_csv('data/econ_state.csv')\n",
    "listings = pd.read_csv('data/listings.csv')\n",
    "venues = pd.read_csv('data/venues.csv')\n",
    "real_estate = pd.read_csv('data/real_estate.csv')"
   ]
  },
  {
   "cell_type": "code",
   "execution_count": 4,
   "id": "f30122e0",
   "metadata": {},
   "outputs": [
    {
     "data": {
      "text/plain": [
       "array(['asheville', 'austin', 'nashville', 'new orleans', 'los angeles'],\n",
       "      dtype=object)"
      ]
     },
     "execution_count": 4,
     "metadata": {},
     "output_type": "execute_result"
    }
   ],
   "source": [
    "venues['city'].unique()"
   ]
  },
  {
   "cell_type": "code",
   "execution_count": 5,
   "id": "0368f7b3",
   "metadata": {},
   "outputs": [],
   "source": [
    "import ast"
   ]
  },
  {
   "cell_type": "code",
   "execution_count": null,
   "id": "8a441e50",
   "metadata": {},
   "outputs": [],
   "source": [
    "public_transport = ['train_station','transit_station','subway_station','light_rail_station','bus_station']\n",
    "major_dest = ['zoo','stadium','museum','amusement_park','aquarium','natural_feature']\n",
    "food = ['restaurant','grocery_or_supermarket','food','bakery']\n",
    "night_life = ['night_club','bar']\n"
   ]
  },
  {
   "cell_type": "code",
   "execution_count": 6,
   "id": "11a65516",
   "metadata": {},
   "outputs": [],
   "source": [
    "types = set()\n",
    "for ind, i in venues.iterrows():\n",
    "    res = ast.literal_eval(i['types'])\n",
    "    for j in res:\n",
    "        types.add(j)"
   ]
  },
  {
   "cell_type": "code",
   "execution_count": 7,
   "id": "b3350127",
   "metadata": {},
   "outputs": [
    {
     "ename": "NameError",
     "evalue": "name 'public_transport' is not defined",
     "output_type": "error",
     "traceback": [
      "\u001b[1;31m---------------------------------------------------------------------------\u001b[0m",
      "\u001b[1;31mNameError\u001b[0m                                 Traceback (most recent call last)",
      "\u001b[1;32m<ipython-input-7-447b50876956>\u001b[0m in \u001b[0;36m<module>\u001b[1;34m\u001b[0m\n\u001b[1;32m----> 1\u001b[1;33m \u001b[1;33m[\u001b[0m\u001b[0mx\u001b[0m \u001b[1;32mfor\u001b[0m \u001b[0mx\u001b[0m \u001b[1;32min\u001b[0m \u001b[0mtypes\u001b[0m \u001b[1;32mif\u001b[0m \u001b[0mx\u001b[0m \u001b[1;32mnot\u001b[0m \u001b[1;32min\u001b[0m \u001b[0mpublic_transport\u001b[0m \u001b[1;33m+\u001b[0m \u001b[0mmajor_dest\u001b[0m \u001b[1;33m+\u001b[0m \u001b[0mfood\u001b[0m \u001b[1;33m+\u001b[0m \u001b[0mnight_life\u001b[0m\u001b[1;33m]\u001b[0m\u001b[1;33m\u001b[0m\u001b[1;33m\u001b[0m\u001b[0m\n\u001b[0m",
      "\u001b[1;32m<ipython-input-7-447b50876956>\u001b[0m in \u001b[0;36m<listcomp>\u001b[1;34m(.0)\u001b[0m\n\u001b[1;32m----> 1\u001b[1;33m \u001b[1;33m[\u001b[0m\u001b[0mx\u001b[0m \u001b[1;32mfor\u001b[0m \u001b[0mx\u001b[0m \u001b[1;32min\u001b[0m \u001b[0mtypes\u001b[0m \u001b[1;32mif\u001b[0m \u001b[0mx\u001b[0m \u001b[1;32mnot\u001b[0m \u001b[1;32min\u001b[0m \u001b[0mpublic_transport\u001b[0m \u001b[1;33m+\u001b[0m \u001b[0mmajor_dest\u001b[0m \u001b[1;33m+\u001b[0m \u001b[0mfood\u001b[0m \u001b[1;33m+\u001b[0m \u001b[0mnight_life\u001b[0m\u001b[1;33m]\u001b[0m\u001b[1;33m\u001b[0m\u001b[1;33m\u001b[0m\u001b[0m\n\u001b[0m",
      "\u001b[1;31mNameError\u001b[0m: name 'public_transport' is not defined"
     ]
    }
   ],
   "source": [
    "[x for x in types if x not in public_transport + major_dest + food + night_life]"
   ]
  },
  {
   "cell_type": "code",
   "execution_count": null,
   "id": "fc97e507",
   "metadata": {},
   "outputs": [],
   "source": [
    "venues['city'].unique()"
   ]
  },
  {
   "cell_type": "code",
   "execution_count": null,
   "id": "d1dab371",
   "metadata": {},
   "outputs": [],
   "source": [
    "venues.columns"
   ]
  },
  {
   "cell_type": "code",
   "execution_count": null,
   "id": "347db627",
   "metadata": {},
   "outputs": [],
   "source": [
    "real_estate"
   ]
  },
  {
   "cell_type": "code",
   "execution_count": 8,
   "id": "a7e70a25",
   "metadata": {},
   "outputs": [
    {
     "data": {
      "text/plain": [
       "50321"
      ]
     },
     "execution_count": 8,
     "metadata": {},
     "output_type": "execute_result"
    }
   ],
   "source": [
    "len(listings)"
   ]
  },
  {
   "cell_type": "code",
   "execution_count": null,
   "id": "b4f491e1",
   "metadata": {},
   "outputs": [],
   "source": []
  }
 ],
 "metadata": {
  "kernelspec": {
   "display_name": "Python 3",
   "language": "python",
   "name": "python3"
  },
  "language_info": {
   "codemirror_mode": {
    "name": "ipython",
    "version": 3
   },
   "file_extension": ".py",
   "mimetype": "text/x-python",
   "name": "python",
   "nbconvert_exporter": "python",
   "pygments_lexer": "ipython3",
   "version": "3.8.5"
  }
 },
 "nbformat": 4,
 "nbformat_minor": 5
}
