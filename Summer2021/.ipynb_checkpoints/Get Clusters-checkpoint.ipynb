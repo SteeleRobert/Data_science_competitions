{
 "cells": [
  {
   "cell_type": "code",
   "execution_count": 1,
   "id": "50be17cf",
   "metadata": {},
   "outputs": [],
   "source": [
    "%load_ext autoreload\n",
    "%autoreload 2"
   ]
  },
  {
   "cell_type": "code",
   "execution_count": 2,
   "id": "39aeb1cd",
   "metadata": {},
   "outputs": [
    {
     "name": "stderr",
     "output_type": "stream",
     "text": [
      "c:\\users\\steel\\miniconda3\\lib\\site-packages\\tqdm\\std.py:703: FutureWarning: The Panel class is removed from pandas. Accessing it from the top-level namespace will also be removed in the next version\n",
      "  from pandas import Panel\n"
     ]
    }
   ],
   "source": [
    "import pandas as pd\n",
    "import numpy as np\n",
    "from tqdm import tqdm\n",
    "from geopy.distance import geodesic\n",
    "# import geopandas as gp\n",
    "from scipy.spatial.distance import pdist, squareform\n",
    "from sklearn.cluster import DBSCAN \n",
    "tqdm.pandas()"
   ]
  },
  {
   "cell_type": "code",
   "execution_count": 3,
   "id": "c9c5dc55",
   "metadata": {},
   "outputs": [],
   "source": [
    "venues = pd.read_csv('data/venues.csv')\n",
    "listings = pd.read_csv('data/listings.csv')"
   ]
  },
  {
   "cell_type": "code",
   "execution_count": null,
   "id": "f5dc9b20",
   "metadata": {},
   "outputs": [],
   "source": [
    "import geopandas as gp"
   ]
  },
  {
   "cell_type": "code",
   "execution_count": 4,
   "id": "d1fb92fd",
   "metadata": {},
   "outputs": [],
   "source": [
    "public_transport = ['train_station','transit_station','subway_station','light_rail_station','bus_station']\n",
    "major_dest = ['zoo','stadium','museum','amusement_park','aquarium','natural_feature']\n",
    "food = ['restaurant','grocery_or_supermarket','food','bakery','meal_takeaway','meal_delivery','cafe',\n",
    "]\n",
    "night_life = ['night_club','bar']\n",
    "shopping = ['department_store','electronics_store','home_goods_store','shoe_store',\n",
    "            'convenience_store','book_store','clothing_store','furniture_store','hardware_store',\n",
    "           'pet_store','jewelry_store','bicycle_store','store','liquor_store',\n",
    "            'shopping_mall','movie_rental','atm',]\n",
    "minor_dest = ['hair_care','spa','art_gallery','movie_theater','park','beauty_salon','casino','bowling_alley',]\n",
    "business = ['accounting',\n",
    " 'pharmacy',\n",
    " 'funeral_home',\n",
    " 'electrician',\n",
    " 'locksmith',\n",
    " 'finance',\n",
    " 'storage',\n",
    " 'laundry',\n",
    "'insurance_agency',\n",
    " 'hospital',\n",
    " 'health',\n",
    " 'real_estate_agency',\n",
    " 'roofing_contractor',\n",
    "'car_repair',\n",
    " 'lawyer',\n",
    " 'bank',\n",
    "'car_rental',\n",
    " 'moving_company',\n",
    " 'gym',\n",
    "'plumber',\n",
    " 'establishment',\n",
    " 'physiotherapist',\n",
    " 'gas_station',\n",
    " 'car_wash',\n",
    " 'general_contractor',\n",
    " 'car_dealer',\n",
    " 'dentist',\n",
    " 'travel_agency',\n",
    "  'doctor',\n",
    " 'subpremise',\n",
    "  'veterinary_care','painter','premise','florist',\n",
    "]\n",
    "govt = ['courthouse',\n",
    " 'local_government_office',\n",
    "       'post_office',\n",
    " 'political',\n",
    " 'embassy',\n",
    " 'police','airport',\n",
    " 'library', 'city_hall',]\n",
    "religion = ['place_of_worship','cemetery', 'synagogue',\n",
    " 'church',]\n",
    "lodging = ['rv_park',\n",
    " 'lodging','campground',]\n",
    "edu = ['university','school',  ]"
   ]
  },
  {
   "cell_type": "code",
   "execution_count": null,
   "id": "8cec21ef",
   "metadata": {},
   "outputs": [],
   "source": [
    "public_trans = venues[venues['types'].str.contains('|'.join(public_transport))]"
   ]
  },
  {
   "cell_type": "code",
   "execution_count": null,
   "id": "84b4c5ff",
   "metadata": {},
   "outputs": [],
   "source": [
    "public_tran_dic = dict()\n",
    "for i in public_trans['city'].unique():\n",
    "    public_tran_dic[i] = public_trans[public_trans['city'] == i]\n"
   ]
  },
  {
   "cell_type": "code",
   "execution_count": null,
   "id": "76446ee1",
   "metadata": {},
   "outputs": [],
   "source": [
    "coords = public_tran_dic['asheville'][['latitude', 'longitude']].to_numpy()"
   ]
  },
  {
   "cell_type": "code",
   "execution_count": null,
   "id": "76184f26",
   "metadata": {},
   "outputs": [],
   "source": [
    "coords"
   ]
  },
  {
   "cell_type": "code",
   "execution_count": null,
   "id": "9ddf0512",
   "metadata": {},
   "outputs": [],
   "source": [
    "distance_matrix = squareform(pdist(coords, (lambda u,v: geodesic(u,v).km)))"
   ]
  },
  {
   "cell_type": "code",
   "execution_count": null,
   "id": "0d6f288d",
   "metadata": {},
   "outputs": [],
   "source": [
    "from sklearn.cluster import DBSCAN \n",
    "    \n",
    "db = DBSCAN(eps=.2,min_samples=5, metric=\"precomputed\")\n",
    "y_db = db.fit_predict(distance_matrix)"
   ]
  },
  {
   "cell_type": "code",
   "execution_count": null,
   "id": "57728293",
   "metadata": {},
   "outputs": [],
   "source": [
    "y_db"
   ]
  },
  {
   "cell_type": "code",
   "execution_count": null,
   "id": "e1d3bee6",
   "metadata": {},
   "outputs": [],
   "source": [
    "pub_list = public_trans.merge(listings, how='inner', left_on='city', right_on='metropolitan')\n"
   ]
  },
  {
   "cell_type": "code",
   "execution_count": null,
   "id": "11a68eb8",
   "metadata": {},
   "outputs": [],
   "source": [
    "venues"
   ]
  },
  {
   "cell_type": "code",
   "execution_count": null,
   "id": "75b92d38",
   "metadata": {},
   "outputs": [],
   "source": [
    "food"
   ]
  },
  {
   "cell_type": "code",
   "execution_count": null,
   "id": "af4569d8",
   "metadata": {},
   "outputs": [],
   "source": [
    "food_ven  = venues[venues['types'].str.contains('|'.join(food))]\n"
   ]
  },
  {
   "cell_type": "code",
   "execution_count": null,
   "id": "e1a1e27c",
   "metadata": {},
   "outputs": [],
   "source": [
    "food_ven"
   ]
  },
  {
   "cell_type": "code",
   "execution_count": null,
   "id": "6d3ed977",
   "metadata": {},
   "outputs": [],
   "source": [
    "food_dic = dict()\n",
    "for i in food_ven['city'].unique():\n",
    "    food_dic[i] = food_ven[food_ven['city'] == i]\n",
    "food_coords = food_dic['asheville'][['latitude', 'longitude']].to_numpy()\n",
    "food_distance_matrix = squareform(pdist(food_coords, (lambda u,v: geodesic(u,v).km)))\n",
    "from sklearn.cluster import DBSCAN \n",
    "    \n",
    "\n"
   ]
  },
  {
   "cell_type": "code",
   "execution_count": null,
   "id": "fff71e78",
   "metadata": {},
   "outputs": [],
   "source": [
    "db = DBSCAN(eps=.1,min_samples=5, metric=\"precomputed\")\n",
    "y_db = db.fit_predict(food_distance_matrix)"
   ]
  },
  {
   "cell_type": "code",
   "execution_count": null,
   "id": "7ead26fc",
   "metadata": {},
   "outputs": [],
   "source": [
    "for i in range(0, len(y_db), 20):\n",
    "    print(y_db[i:i+20])"
   ]
  },
  {
   "cell_type": "code",
   "execution_count": null,
   "id": "6fdb5dc3",
   "metadata": {},
   "outputs": [],
   "source": [
    "import geopandas"
   ]
  },
  {
   "cell_type": "code",
   "execution_count": 5,
   "id": "013887f7",
   "metadata": {},
   "outputs": [],
   "source": [
    "import geopy\n",
    "geolocator = geopy.Nominatim(user_agent='DataCompetition')\n",
    "def get_zipcode(lat, long, geolocator):\n",
    "    try:\n",
    "        location = geolocator.reverse((lat, long))\n",
    "    except:\n",
    "        return 'N/A'\n",
    "    if 'address' in location.raw:\n",
    "        if 'postcode' in location.raw['address']:\n",
    "            return location.raw['address']['postcode']\n",
    "    return 'N/A'"
   ]
  },
  {
   "cell_type": "code",
   "execution_count": 6,
   "id": "714291e6",
   "metadata": {},
   "outputs": [],
   "source": [
    "\n",
    "def get_cluster_zips(city,dest_type,epsilon=0.1,min_samples=5):\n",
    "    venues_types = {'public_transport':public_transport,\n",
    "                    'major_dest':major_dest,\n",
    "                    'food':food,\n",
    "                    #'shopping':shopping,\n",
    "                    'night_life':night_life,\n",
    "                    'minor_dest':minor_dest}\n",
    "    ven = venues[venues['types'].str.contains('|'.join(venues_types[dest_type]))]\n",
    "    distance_matrix = np.load(dest_type+'_'+city+'.npy')\n",
    "    db = DBSCAN(eps=epsilon,min_samples=min_samples, metric=\"precomputed\")\n",
    "    labels = db.fit_predict(distance_matrix)\n",
    "    cluster_stats = []\n",
    "    \n",
    "    for i in range(max(labels)):\n",
    "        cluster = ven.iloc[np.where(labels == i)]\n",
    "        cluster_stats.append([len(cluster), cluster['latitude'].mean(), \n",
    "                              cluster['longitude'].mean(),\n",
    "                              get_zipcode(cluster['latitude'].mean(), \n",
    "                                          cluster['longitude'].mean(), geolocator)])\n",
    "    np.save('clusters/'+dest_type+'_'+city+'_cluster_10.npy',np.array(cluster_stats))"
   ]
  },
  {
   "cell_type": "code",
   "execution_count": null,
   "id": "51479b5c",
   "metadata": {},
   "outputs": [],
   "source": [
    "venues_types = {'public_transport':public_transport,\n",
    "                    'major_dest':major_dest,\n",
    "                    'food':food,\n",
    "                    #'shopping':shopping,\n",
    "                    'night_life':night_life,\n",
    "                    'minor_dest':minor_dest}"
   ]
  },
  {
   "cell_type": "code",
   "execution_count": 8,
   "id": "8d3d728b",
   "metadata": {},
   "outputs": [
    {
     "name": "stdout",
     "output_type": "stream",
     "text": [
      "minor_dest\n",
      "los angeles\n",
      "night_life\n",
      "los angeles\n",
      "food\n",
      "los angeles\n",
      "public_transport\n",
      "los angeles\n"
     ]
    }
   ],
   "source": [
    "\n",
    "for dest_type in ['minor_dest','night_life','food','public_transport']:\n",
    "    print(dest_type)\n",
    "    for city in ['los angeles']:\n",
    "        print(city)\n",
    "        get_cluster_zips(city,dest_type, epsilon=.1, min_samples=10)"
   ]
  },
  {
   "cell_type": "code",
   "execution_count": null,
   "id": "aa1c9fda",
   "metadata": {},
   "outputs": [],
   "source": [
    "distance_matrix = np.load('food_asheville.npy')"
   ]
  },
  {
   "cell_type": "code",
   "execution_count": null,
   "id": "8f58c3b9",
   "metadata": {},
   "outputs": [],
   "source": [
    "db = DBSCAN(eps=0.1,min_samples=5, metric=\"precomputed\")\n",
    "labels = db.fit_predict(distance_matrix)"
   ]
  },
  {
   "cell_type": "code",
   "execution_count": null,
   "id": "6a1a82b3",
   "metadata": {},
   "outputs": [],
   "source": [
    "cluster_stats = []\n",
    "\n",
    "for i in range(max(labels)):\n",
    "    cluster = ven.iloc[np.where(labels == i)]\n",
    "    cluster_stats.append([len(cluster), cluster['latitude'].mean(), \n",
    "                          cluster['longitude'].mean(),\n",
    "                          get_zipcode(cluster['latitude'].mean(), cluster['longitude'].mean(), geolocator)])"
   ]
  },
  {
   "cell_type": "code",
   "execution_count": null,
   "id": "e799c86a",
   "metadata": {},
   "outputs": [],
   "source": [
    "np.array(cluster_stats)"
   ]
  },
  {
   "cell_type": "code",
   "execution_count": null,
   "id": "682814aa",
   "metadata": {},
   "outputs": [],
   "source": [
    "def get_dbscan_labels(venue_list, epsilon=0.1, min_samples=5):\n",
    "    ven = venues[venues['types'].str.contains('|'.join(venue_list))]\n",
    "    dic = dict()\n",
    "    for i in ven['city'].unique():\n",
    "        dic[i] = ven[ven['city'] == i]\n",
    "    labels_dict = dict()\n",
    "    for city in ven['city'].unique():\n",
    "        print(city)\n",
    "        coords = dic[city][['latitude', 'longitude']].to_numpy()\n",
    "        print('compute distance')\n",
    "        distance_matrix = squareform(pdist(coords, (lambda u,v: geodesic(u,v).km)))\n",
    "        print('DBscan')\n",
    "        db = DBSCAN(eps=epsilon,min_samples=5, metric=\"precomputed\")\n",
    "        labels_dict[city] = db.fit_predict(distance_matrix)\n",
    "    return labels_dict"
   ]
  },
  {
   "cell_type": "code",
   "execution_count": null,
   "id": "76804b70",
   "metadata": {},
   "outputs": [],
   "source": [
    "shopping_clusters = get_dbscan_labels(shopping, 0.1, 5)"
   ]
  },
  {
   "cell_type": "code",
   "execution_count": null,
   "id": "4b3eb365",
   "metadata": {},
   "outputs": [],
   "source": [
    "shopping_ven = venues[venues['types'].str.contains('|'.join(shopping))]\n",
    "shopping_dic = dict()\n",
    "for i in shopping_ven['city'].unique():\n",
    "    shopping_dic[i] = shopping_ven[shopping_ven['city'] == i]\n",
    "shopping_coords = shopping_dic['asheville'][['latitude', 'longitude']].to_numpy()\n",
    "shopping_distance_matrix = squareform(pdist(shopping_coords, (lambda u,v: geodesic(u,v).km)))\n",
    "from sklearn.cluster import DBSCAN "
   ]
  },
  {
   "cell_type": "code",
   "execution_count": null,
   "id": "f677966e",
   "metadata": {},
   "outputs": [],
   "source": [
    "db = DBSCAN(eps=.1,min_samples=5, metric=\"precomputed\")\n",
    "y_db = db.fit_predict(food_distance_matrix)\n",
    "for i in range(0, len(y_db), 20):\n",
    "    print(y_db[i:i+20])"
   ]
  },
  {
   "cell_type": "code",
   "execution_count": null,
   "id": "1126b9c7",
   "metadata": {},
   "outputs": [],
   "source": []
  },
  {
   "cell_type": "code",
   "execution_count": null,
   "id": "53dd8fec",
   "metadata": {},
   "outputs": [],
   "source": [
    "\n",
    "major_dest_ven = venues[venues['types'].str.contains('|'.join(major_dest))]\n",
    "major_dest_dic = dict()\n",
    "for i in major_dest_ven['city'].unique():\n",
    "    major_dest_dic[i] = major_dest_ven[major_dest_ven['city'] == i]\n",
    "major_dest_coords = major_dest_dic['los angeles'][['latitude', 'longitude']].to_numpy()\n",
    "major_dest_distance_matrix = squareform(pdist(major_dest_coords, (lambda u,v: geodesic(u,v).km)))\n",
    "from sklearn.cluster import DBSCAN "
   ]
  },
  {
   "cell_type": "code",
   "execution_count": null,
   "id": "e7bbe3c8",
   "metadata": {},
   "outputs": [],
   "source": [
    "db = DBSCAN(eps=1,min_samples=5, metric=\"precomputed\")\n",
    "y_db = db.fit_predict(major_dest_distance_matrix)\n",
    "y_db"
   ]
  },
  {
   "cell_type": "code",
   "execution_count": null,
   "id": "6b29cbb1",
   "metadata": {},
   "outputs": [],
   "source": [
    "\n",
    "minor_dest_ven = venues[venues['types'].str.contains('|'.join(minor_dest))]\n",
    "minor_dest_dic = dict()\n",
    "for i in minor_dest_ven['city'].unique():\n",
    "    minor_dest_dic[i] = minor_dest_ven[minor_dest_ven['city'] == i]\n",
    "minor_dest_coords = minor_dest_dic['asheville'][['latitude', 'longitude']].to_numpy()\n",
    "minor_dest_distance_matrix = squareform(pdist(minor_dest_coords, (lambda u,v: geodesic(u,v).km)))\n",
    "from sklearn.cluster import DBSCAN "
   ]
  },
  {
   "cell_type": "code",
   "execution_count": null,
   "id": "ccfe9071",
   "metadata": {},
   "outputs": [],
   "source": [
    "db = DBSCAN(eps=.1,min_samples=5, metric=\"precomputed\")\n",
    "y_db = db.fit_predict(food_distance_matrix)\n",
    "for i in range(0, len(y_db), 20):\n",
    "    print(y_db[i:i+20])"
   ]
  }
 ],
 "metadata": {
  "kernelspec": {
   "display_name": "Python 3",
   "language": "python",
   "name": "python3"
  },
  "language_info": {
   "codemirror_mode": {
    "name": "ipython",
    "version": 3
   },
   "file_extension": ".py",
   "mimetype": "text/x-python",
   "name": "python",
   "nbconvert_exporter": "python",
   "pygments_lexer": "ipython3",
   "version": "3.8.5"
  }
 },
 "nbformat": 4,
 "nbformat_minor": 5
}
