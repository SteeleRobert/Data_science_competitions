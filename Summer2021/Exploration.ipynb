{
 "cells": [
  {
   "cell_type": "code",
   "execution_count": 1,
   "id": "b4c8d2a3",
   "metadata": {},
   "outputs": [],
   "source": [
    "%load_ext autoreload\n",
    "%autoreload 2"
   ]
  },
  {
   "cell_type": "code",
   "execution_count": 2,
   "id": "433e51c4",
   "metadata": {},
   "outputs": [],
   "source": [
    "import pandas as pd\n",
    "import numpy as np"
   ]
  },
  {
   "cell_type": "code",
   "execution_count": 3,
   "id": "3e0d389a",
   "metadata": {},
   "outputs": [],
   "source": [
    "calendar = pd.read_csv('data/calendar.csv')\n",
    "demographics = pd.read_csv('data/demographics.csv')\n",
    "econ_state = pd.read_csv('data/econ_state.csv')\n",
    "listings = pd.read_csv('data/listings.csv')\n",
    "venues = pd.read_csv('data/venues.csv')\n",
    "real_estate = pd.read_csv('data/real_estate.csv')"
   ]
  },
  {
   "cell_type": "code",
   "execution_count": 4,
   "id": "f30122e0",
   "metadata": {},
   "outputs": [
    {
     "data": {
      "text/plain": [
       "array(['asheville', 'austin', 'nashville', 'new orleans', 'los angeles'],\n",
       "      dtype=object)"
      ]
     },
     "execution_count": 4,
     "metadata": {},
     "output_type": "execute_result"
    }
   ],
   "source": [
    "venues['city'].unique()"
   ]
  },
  {
   "cell_type": "code",
   "execution_count": 5,
   "id": "0368f7b3",
   "metadata": {},
   "outputs": [],
   "source": [
    "import ast"
   ]
  },
  {
   "cell_type": "code",
   "execution_count": 6,
   "id": "8a441e50",
   "metadata": {},
   "outputs": [],
   "source": [
    "public_transport = ['train_station','transit_station','subway_station','light_rail_station','bus_station']\n",
    "major_dest = ['zoo','stadium','museum','amusement_park','aquarium','natural_feature']\n",
    "food = ['restaurant','grocery_or_supermarket','food','bakery','meal_takeaway','meal_delivery','cafe',\n",
    "]\n",
    "night_life = ['night_club','bar']\n",
    "shopping = ['department_store','electronics_store','home_goods_store','shoe_store',\n",
    "            'convenience_store','book_store','clothing_store','furniture_store','hardware_store',\n",
    "           'pet_store','jewelry_store','bicycle_store','store','liquor_store',\n",
    "            'shopping_mall','movie_rental','atm',]\n",
    "minor_dest = ['hair_care','spa','art_gallery','movie_theater','park','beauty_salon','casino','bowling_alley',]\n",
    "business = ['accounting',\n",
    " 'pharmacy',\n",
    " 'funeral_home',\n",
    " 'electrician',\n",
    " 'locksmith',\n",
    " 'finance',\n",
    " 'storage',\n",
    " 'laundry',\n",
    "'insurance_agency',\n",
    " 'hospital',\n",
    " 'health',\n",
    " 'real_estate_agency',\n",
    " 'roofing_contractor',\n",
    "'car_repair',\n",
    " 'lawyer',\n",
    " 'bank',\n",
    "'car_rental',\n",
    " 'moving_company',\n",
    " 'gym',\n",
    "'plumber',\n",
    " 'establishment',\n",
    " 'physiotherapist',\n",
    " 'gas_station',\n",
    " 'car_wash',\n",
    " 'general_contractor',\n",
    " 'car_dealer',\n",
    " 'dentist',\n",
    " 'travel_agency',\n",
    "  'doctor',\n",
    " 'subpremise',\n",
    "  'veterinary_care','painter','premise','florist',\n",
    "]\n",
    "govt = ['courthouse',\n",
    " 'local_government_office',\n",
    "       'post_office',\n",
    " 'political',\n",
    " 'embassy',\n",
    " 'police','airport',\n",
    " 'library', 'city_hall',]\n",
    "religion = ['place_of_worship','cemetery', 'synagogue',\n",
    " 'church',]\n",
    "lodging = ['rv_park',\n",
    " 'lodging','campground',]\n",
    "edu = ['university','school',  ]"
   ]
  },
  {
   "cell_type": "code",
   "execution_count": 7,
   "id": "11a65516",
   "metadata": {},
   "outputs": [],
   "source": [
    "types = set()\n",
    "for ind, i in venues.iterrows():\n",
    "    res = ast.literal_eval(i['types'])\n",
    "    for j in res:\n",
    "        types.add(j)"
   ]
  },
  {
   "cell_type": "code",
   "execution_count": 8,
   "id": "b3350127",
   "metadata": {},
   "outputs": [
    {
     "data": {
      "text/plain": [
       "['point_of_interest', 'school', 'university', 'neighborhood', 'parking']"
      ]
     },
     "execution_count": 8,
     "metadata": {},
     "output_type": "execute_result"
    }
   ],
   "source": [
    "[x for x in types if x not in public_transport + major_dest + food + night_life + shopping + minor_dest + business + govt + religion + lodging]"
   ]
  },
  {
   "cell_type": "code",
   "execution_count": null,
   "id": "fc97e507",
   "metadata": {},
   "outputs": [],
   "source": [
    "venues['city'].unique()"
   ]
  },
  {
   "cell_type": "code",
   "execution_count": 15,
   "id": "63274d6c",
   "metadata": {},
   "outputs": [
    {
     "data": {
      "text/html": [
       "<div>\n",
       "<style scoped>\n",
       "    .dataframe tbody tr th:only-of-type {\n",
       "        vertical-align: middle;\n",
       "    }\n",
       "\n",
       "    .dataframe tbody tr th {\n",
       "        vertical-align: top;\n",
       "    }\n",
       "\n",
       "    .dataframe thead th {\n",
       "        text-align: right;\n",
       "    }\n",
       "</style>\n",
       "<table border=\"1\" class=\"dataframe\">\n",
       "  <thead>\n",
       "    <tr style=\"text-align: right;\">\n",
       "      <th></th>\n",
       "      <th>city</th>\n",
       "      <th>id</th>\n",
       "      <th>latitude</th>\n",
       "      <th>longitude</th>\n",
       "      <th>name</th>\n",
       "      <th>rating</th>\n",
       "      <th>types</th>\n",
       "    </tr>\n",
       "  </thead>\n",
       "  <tbody>\n",
       "    <tr>\n",
       "      <th>0</th>\n",
       "      <td>asheville</td>\n",
       "      <td>8736e812595db852ccab223019a477b918b64d4d</td>\n",
       "      <td>35.442805</td>\n",
       "      <td>-82.264081</td>\n",
       "      <td>The Esmeralda Inn &amp; Restaurant</td>\n",
       "      <td>4.4</td>\n",
       "      <td>['lodging', 'restaurant', 'food', 'point_of_in...</td>\n",
       "    </tr>\n",
       "    <tr>\n",
       "      <th>1</th>\n",
       "      <td>asheville</td>\n",
       "      <td>479c99c6cc5aa91a6161fecc48bd24258a74bd58</td>\n",
       "      <td>35.564035</td>\n",
       "      <td>-82.278943</td>\n",
       "      <td>Straightaway Cafe</td>\n",
       "      <td>4.5</td>\n",
       "      <td>['restaurant', 'food', 'point_of_interest', 'e...</td>\n",
       "    </tr>\n",
       "    <tr>\n",
       "      <th>2</th>\n",
       "      <td>asheville</td>\n",
       "      <td>3e41ce673ee203416cb6f44894e49b2ee93347b1</td>\n",
       "      <td>35.564140</td>\n",
       "      <td>-82.278953</td>\n",
       "      <td>straightaway cafe</td>\n",
       "      <td>NaN</td>\n",
       "      <td>['restaurant', 'food', 'point_of_interest', 'e...</td>\n",
       "    </tr>\n",
       "    <tr>\n",
       "      <th>3</th>\n",
       "      <td>asheville</td>\n",
       "      <td>ce0b0e6fc251f546370fed20d39778ea796e5475</td>\n",
       "      <td>35.646791</td>\n",
       "      <td>-82.299074</td>\n",
       "      <td>The Huckleberry Cafe</td>\n",
       "      <td>5.0</td>\n",
       "      <td>['restaurant', 'food', 'point_of_interest', 'e...</td>\n",
       "    </tr>\n",
       "    <tr>\n",
       "      <th>4</th>\n",
       "      <td>asheville</td>\n",
       "      <td>f60446561634f4d44e6563dcf17f2b65eb4096f2</td>\n",
       "      <td>35.752135</td>\n",
       "      <td>-82.273258</td>\n",
       "      <td>Mount Mitchell State Park- Restaurant</td>\n",
       "      <td>4.0</td>\n",
       "      <td>['restaurant', 'food', 'point_of_interest', 'e...</td>\n",
       "    </tr>\n",
       "    <tr>\n",
       "      <th>...</th>\n",
       "      <td>...</td>\n",
       "      <td>...</td>\n",
       "      <td>...</td>\n",
       "      <td>...</td>\n",
       "      <td>...</td>\n",
       "      <td>...</td>\n",
       "      <td>...</td>\n",
       "    </tr>\n",
       "    <tr>\n",
       "      <th>121002</th>\n",
       "      <td>los angeles</td>\n",
       "      <td>011132e6cc3e3a0040e89b9ac1b91804ad57b544</td>\n",
       "      <td>34.149800</td>\n",
       "      <td>-118.400532</td>\n",
       "      <td>Henry Films Inc</td>\n",
       "      <td>5.0</td>\n",
       "      <td>['amusement_park', 'point_of_interest', 'estab...</td>\n",
       "    </tr>\n",
       "    <tr>\n",
       "      <th>121003</th>\n",
       "      <td>los angeles</td>\n",
       "      <td>824cbcf1d371e1594220b32bfd905c3f21bec09f</td>\n",
       "      <td>34.154163</td>\n",
       "      <td>-118.415763</td>\n",
       "      <td>Boney Island</td>\n",
       "      <td>4.8</td>\n",
       "      <td>['amusement_park', 'point_of_interest', 'estab...</td>\n",
       "    </tr>\n",
       "    <tr>\n",
       "      <th>121004</th>\n",
       "      <td>los angeles</td>\n",
       "      <td>46106265190691f9e91e1cd0bc95dab12cd2dffd</td>\n",
       "      <td>34.008576</td>\n",
       "      <td>-118.498101</td>\n",
       "      <td>Pacific Park</td>\n",
       "      <td>4.5</td>\n",
       "      <td>['amusement_park', 'point_of_interest', 'estab...</td>\n",
       "    </tr>\n",
       "    <tr>\n",
       "      <th>121005</th>\n",
       "      <td>los angeles</td>\n",
       "      <td>53a98917cb8f751b1ccfa16d06b4003168431bb4</td>\n",
       "      <td>34.211193</td>\n",
       "      <td>-118.492984</td>\n",
       "      <td>Sky Zone Trampoline Park</td>\n",
       "      <td>4.3</td>\n",
       "      <td>['amusement_park', 'point_of_interest', 'estab...</td>\n",
       "    </tr>\n",
       "    <tr>\n",
       "      <th>121006</th>\n",
       "      <td>los angeles</td>\n",
       "      <td>03fcf3a371bb34f159eb47dd06ab0a9b06a4487c</td>\n",
       "      <td>34.228863</td>\n",
       "      <td>-118.501569</td>\n",
       "      <td>Amazing Escape Room</td>\n",
       "      <td>4.6</td>\n",
       "      <td>['amusement_park', 'point_of_interest', 'estab...</td>\n",
       "    </tr>\n",
       "  </tbody>\n",
       "</table>\n",
       "<p>121007 rows × 7 columns</p>\n",
       "</div>"
      ],
      "text/plain": [
       "               city                                        id   latitude  \\\n",
       "0         asheville  8736e812595db852ccab223019a477b918b64d4d  35.442805   \n",
       "1         asheville  479c99c6cc5aa91a6161fecc48bd24258a74bd58  35.564035   \n",
       "2         asheville  3e41ce673ee203416cb6f44894e49b2ee93347b1  35.564140   \n",
       "3         asheville  ce0b0e6fc251f546370fed20d39778ea796e5475  35.646791   \n",
       "4         asheville  f60446561634f4d44e6563dcf17f2b65eb4096f2  35.752135   \n",
       "...             ...                                       ...        ...   \n",
       "121002  los angeles  011132e6cc3e3a0040e89b9ac1b91804ad57b544  34.149800   \n",
       "121003  los angeles  824cbcf1d371e1594220b32bfd905c3f21bec09f  34.154163   \n",
       "121004  los angeles  46106265190691f9e91e1cd0bc95dab12cd2dffd  34.008576   \n",
       "121005  los angeles  53a98917cb8f751b1ccfa16d06b4003168431bb4  34.211193   \n",
       "121006  los angeles  03fcf3a371bb34f159eb47dd06ab0a9b06a4487c  34.228863   \n",
       "\n",
       "         longitude                                   name  rating  \\\n",
       "0       -82.264081         The Esmeralda Inn & Restaurant     4.4   \n",
       "1       -82.278943                      Straightaway Cafe     4.5   \n",
       "2       -82.278953                      straightaway cafe     NaN   \n",
       "3       -82.299074                   The Huckleberry Cafe     5.0   \n",
       "4       -82.273258  Mount Mitchell State Park- Restaurant     4.0   \n",
       "...            ...                                    ...     ...   \n",
       "121002 -118.400532                        Henry Films Inc     5.0   \n",
       "121003 -118.415763                           Boney Island     4.8   \n",
       "121004 -118.498101                           Pacific Park     4.5   \n",
       "121005 -118.492984               Sky Zone Trampoline Park     4.3   \n",
       "121006 -118.501569                    Amazing Escape Room     4.6   \n",
       "\n",
       "                                                    types  \n",
       "0       ['lodging', 'restaurant', 'food', 'point_of_in...  \n",
       "1       ['restaurant', 'food', 'point_of_interest', 'e...  \n",
       "2       ['restaurant', 'food', 'point_of_interest', 'e...  \n",
       "3       ['restaurant', 'food', 'point_of_interest', 'e...  \n",
       "4       ['restaurant', 'food', 'point_of_interest', 'e...  \n",
       "...                                                   ...  \n",
       "121002  ['amusement_park', 'point_of_interest', 'estab...  \n",
       "121003  ['amusement_park', 'point_of_interest', 'estab...  \n",
       "121004  ['amusement_park', 'point_of_interest', 'estab...  \n",
       "121005  ['amusement_park', 'point_of_interest', 'estab...  \n",
       "121006  ['amusement_park', 'point_of_interest', 'estab...  \n",
       "\n",
       "[121007 rows x 7 columns]"
      ]
     },
     "execution_count": 15,
     "metadata": {},
     "output_type": "execute_result"
    }
   ],
   "source": [
    "venues"
   ]
  },
  {
   "cell_type": "code",
   "execution_count": null,
   "id": "8de482e5",
   "metadata": {},
   "outputs": [],
   "source": [
    "venues[venues['types'].str.countains('|'.join(public_transport))]"
   ]
  },
  {
   "cell_type": "code",
   "execution_count": 16,
   "id": "95a2df24",
   "metadata": {},
   "outputs": [],
   "source": [
    "location = geolocator.reverse((35.442805, -82.264081))"
   ]
  },
  {
   "cell_type": "code",
   "execution_count": 19,
   "id": "3db1f152",
   "metadata": {},
   "outputs": [
    {
     "data": {
      "text/plain": [
       "{'place_id': 74230247,\n",
       " 'licence': 'Data © OpenStreetMap contributors, ODbL 1.0. https://osm.org/copyright',\n",
       " 'osm_type': 'node',\n",
       " 'osm_id': 6848000955,\n",
       " 'lat': '35.4428074',\n",
       " 'lon': '-82.2641753',\n",
       " 'display_name': 'The Esmeralda Inn & Restaurant, 910, Main Street, Chimney Rock, Rutherford County, North Carolina, 28720, United States',\n",
       " 'address': {'amenity': 'The Esmeralda Inn & Restaurant',\n",
       "  'house_number': '910',\n",
       "  'road': 'Main Street',\n",
       "  'village': 'Chimney Rock',\n",
       "  'county': 'Rutherford County',\n",
       "  'state': 'North Carolina',\n",
       "  'postcode': '28720',\n",
       "  'country': 'United States',\n",
       "  'country_code': 'us'},\n",
       " 'boundingbox': ['35.4427574', '35.4428574', '-82.2642253', '-82.2641253']}"
      ]
     },
     "execution_count": 19,
     "metadata": {},
     "output_type": "execute_result"
    }
   ],
   "source": [
    "location.raw"
   ]
  },
  {
   "cell_type": "code",
   "execution_count": 26,
   "id": "c104e81b",
   "metadata": {},
   "outputs": [
    {
     "name": "stderr",
     "output_type": "stream",
     "text": [
      "  1%|▌                                         | 8/546 [06:39<7:28:04, 49.97s/it]"
     ]
    },
    {
     "name": "stdout",
     "output_type": "stream",
     "text": [
      "{'place_id': 186520734, 'licence': 'Data © OpenStreetMap contributors, ODbL 1.0. https://osm.org/copyright', 'osm_type': 'way', 'osm_id': 422477118, 'lat': '34.0646084', 'lon': '-118.4698702265761', 'display_name': '115, Barrington Court, Westgate Heights, Brentwood, Los Angeles, California, United States', 'address': {'house_number': '115', 'road': 'Barrington Court', 'neighbourhood': 'Westgate Heights', 'suburb': 'Brentwood', 'city': 'Los Angeles', 'state': 'California', 'country': 'United States', 'country_code': 'us'}, 'boundingbox': ['34.064378', '34.0647259', '-118.4700083', '-118.4697503']}\n",
      "{'place_id': 186520734, 'licence': 'Data © OpenStreetMap contributors, ODbL 1.0. https://osm.org/copyright', 'osm_type': 'way', 'osm_id': 422477118, 'lat': '34.0646084', 'lon': '-118.4698702265761', 'display_name': '115, Barrington Court, Westgate Heights, Brentwood, Los Angeles, California, United States', 'address': {'house_number': '115', 'road': 'Barrington Court', 'neighbourhood': 'Westgate Heights', 'suburb': 'Brentwood', 'city': 'Los Angeles', 'state': 'California', 'country': 'United States', 'country_code': 'us'}, 'boundingbox': ['34.064378', '34.0647259', '-118.4700083', '-118.4697503']}\n",
      "{'place_id': 187543226, 'licence': 'Data © OpenStreetMap contributors, ODbL 1.0. https://osm.org/copyright', 'osm_type': 'way', 'osm_id': 422477207, 'lat': '34.065179900000004', 'lon': '-118.46956804942565', 'display_name': '110, Barrington Court, Westgate Heights, Brentwood, Los Angeles, California, United States', 'address': {'house_number': '110', 'road': 'Barrington Court', 'neighbourhood': 'Westgate Heights', 'suburb': 'Brentwood', 'city': 'Los Angeles', 'state': 'California', 'country': 'United States', 'country_code': 'us'}, 'boundingbox': ['34.0650122', '34.0653377', '-118.4697586', '-118.4693949']}\n",
      "{'place_id': 187543226, 'licence': 'Data © OpenStreetMap contributors, ODbL 1.0. https://osm.org/copyright', 'osm_type': 'way', 'osm_id': 422477207, 'lat': '34.065179900000004', 'lon': '-118.46956804942565', 'display_name': '110, Barrington Court, Westgate Heights, Brentwood, Los Angeles, California, United States', 'address': {'house_number': '110', 'road': 'Barrington Court', 'neighbourhood': 'Westgate Heights', 'suburb': 'Brentwood', 'city': 'Los Angeles', 'state': 'California', 'country': 'United States', 'country_code': 'us'}, 'boundingbox': ['34.0650122', '34.0653377', '-118.4697586', '-118.4693949']}\n"
     ]
    },
    {
     "name": "stderr",
     "output_type": "stream",
     "text": [
      "  2%|▊                                        | 10/546 [08:19<7:26:32, 49.99s/it]"
     ]
    },
    {
     "name": "stdout",
     "output_type": "stream",
     "text": [
      "{'place_id': 186520734, 'licence': 'Data © OpenStreetMap contributors, ODbL 1.0. https://osm.org/copyright', 'osm_type': 'way', 'osm_id': 422477118, 'lat': '34.0646084', 'lon': '-118.4698702265761', 'display_name': '115, Barrington Court, Westgate Heights, Brentwood, Los Angeles, California, United States', 'address': {'house_number': '115', 'road': 'Barrington Court', 'neighbourhood': 'Westgate Heights', 'suburb': 'Brentwood', 'city': 'Los Angeles', 'state': 'California', 'country': 'United States', 'country_code': 'us'}, 'boundingbox': ['34.064378', '34.0647259', '-118.4700083', '-118.4697503']}\n",
      "{'place_id': 186520734, 'licence': 'Data © OpenStreetMap contributors, ODbL 1.0. https://osm.org/copyright', 'osm_type': 'way', 'osm_id': 422477118, 'lat': '34.0646084', 'lon': '-118.4698702265761', 'display_name': '115, Barrington Court, Westgate Heights, Brentwood, Los Angeles, California, United States', 'address': {'house_number': '115', 'road': 'Barrington Court', 'neighbourhood': 'Westgate Heights', 'suburb': 'Brentwood', 'city': 'Los Angeles', 'state': 'California', 'country': 'United States', 'country_code': 'us'}, 'boundingbox': ['34.064378', '34.0647259', '-118.4700083', '-118.4697503']}\n",
      "{'place_id': 186520734, 'licence': 'Data © OpenStreetMap contributors, ODbL 1.0. https://osm.org/copyright', 'osm_type': 'way', 'osm_id': 422477118, 'lat': '34.0646084', 'lon': '-118.4698702265761', 'display_name': '115, Barrington Court, Westgate Heights, Brentwood, Los Angeles, California, United States', 'address': {'house_number': '115', 'road': 'Barrington Court', 'neighbourhood': 'Westgate Heights', 'suburb': 'Brentwood', 'city': 'Los Angeles', 'state': 'California', 'country': 'United States', 'country_code': 'us'}, 'boundingbox': ['34.064378', '34.0647259', '-118.4700083', '-118.4697503']}\n",
      "{'place_id': 258955683, 'licence': 'Data © OpenStreetMap contributors, ODbL 1.0. https://osm.org/copyright', 'osm_type': 'relation', 'osm_id': 7088230, 'lat': '34.07785165', 'lon': '-118.47576749045993', 'display_name': 'Brentwood, Los Angeles, California, United States', 'address': {'suburb': 'Brentwood', 'city': 'Los Angeles', 'state': 'California', 'country': 'United States', 'country_code': 'us'}, 'boundingbox': ['34.0774822', '34.0781725', '-118.4757896', '-118.4753509']}\n"
     ]
    },
    {
     "name": "stderr",
     "output_type": "stream",
     "text": [
      "  3%|█                                        | 14/546 [11:39<7:23:17, 50.00s/it]"
     ]
    },
    {
     "name": "stdout",
     "output_type": "stream",
     "text": [
      "{'place_id': 187845543, 'licence': 'Data © OpenStreetMap contributors, ODbL 1.0. https://osm.org/copyright', 'osm_type': 'way', 'osm_id': 427817541, 'lat': '34.04926385', 'lon': '-118.240334805294', 'display_name': 'Koyasan Beikoku Betsuin of Los Angeles, Japanese Village Plaza, Little Tokyo, Downtown, Los Angeles, California, United States', 'address': {'amenity': 'Koyasan Beikoku Betsuin of Los Angeles', 'road': 'Japanese Village Plaza', 'suburb': 'Little Tokyo', 'city': 'Los Angeles', 'state': 'California', 'country': 'United States', 'country_code': 'us'}, 'boundingbox': ['34.0490521', '34.0494915', '-118.2405409', '-118.2400888']}\n"
     ]
    },
    {
     "name": "stderr",
     "output_type": "stream",
     "text": [
      "  5%|█▉                                       | 25/546 [20:49<7:14:09, 50.00s/it]"
     ]
    },
    {
     "name": "stdout",
     "output_type": "stream",
     "text": [
      "{'place_id': 303505222, 'licence': 'Data © OpenStreetMap contributors, ODbL 1.0. https://osm.org/copyright', 'osm_type': 'way', 'osm_id': 905248726, 'lat': '34.05682275', 'lon': '-118.23810013582668', 'display_name': 'Biscailuz Building, El Pueblo Los Angeles Plaza Historic Park, El Pueblo, Downtown, Los Angeles, California, United States', 'address': {'historic': 'Biscailuz Building', 'road': 'El Pueblo Los Angeles Plaza Historic Park', 'neighbourhood': 'El Pueblo', 'suburb': 'Downtown', 'city': 'Los Angeles', 'state': 'California', 'country': 'United States', 'country_code': 'us'}, 'boundingbox': ['34.0566798', '34.0569677', '-118.2382781', '-118.2379302']}\n",
      "{'place_id': 187845543, 'licence': 'Data © OpenStreetMap contributors, ODbL 1.0. https://osm.org/copyright', 'osm_type': 'way', 'osm_id': 427817541, 'lat': '34.04926385', 'lon': '-118.240334805294', 'display_name': 'Koyasan Beikoku Betsuin of Los Angeles, Japanese Village Plaza, Little Tokyo, Downtown, Los Angeles, California, United States', 'address': {'amenity': 'Koyasan Beikoku Betsuin of Los Angeles', 'road': 'Japanese Village Plaza', 'suburb': 'Little Tokyo', 'city': 'Los Angeles', 'state': 'California', 'country': 'United States', 'country_code': 'us'}, 'boundingbox': ['34.0490521', '34.0494915', '-118.2405409', '-118.2400888']}\n"
     ]
    },
    {
     "name": "stderr",
     "output_type": "stream",
     "text": [
      "  6%|██▎                                      | 31/546 [25:49<7:09:08, 50.00s/it]"
     ]
    },
    {
     "name": "stdout",
     "output_type": "stream",
     "text": [
      "{'place_id': 175015552, 'licence': 'Data © OpenStreetMap contributors, ODbL 1.0. https://osm.org/copyright', 'osm_type': 'way', 'osm_id': 358731585, 'lat': '34.063736199999994', 'lon': '-118.35890315746158', 'display_name': 'Los Angeles County Museum of Art, Smidt Welcome Plaza, Mid-Wilshire, Los Angeles, California, United States', 'address': {'tourism': 'Los Angeles County Museum of Art', 'road': 'Smidt Welcome Plaza', 'suburb': 'Mid-Wilshire', 'city': 'Los Angeles', 'state': 'California', 'country': 'United States', 'country_code': 'us'}, 'boundingbox': ['34.062646', '34.0647496', '-118.3612362', '-118.3564215']}\n",
      "{'place_id': 175015552, 'licence': 'Data © OpenStreetMap contributors, ODbL 1.0. https://osm.org/copyright', 'osm_type': 'way', 'osm_id': 358731585, 'lat': '34.063736199999994', 'lon': '-118.35890315746158', 'display_name': 'Los Angeles County Museum of Art, Smidt Welcome Plaza, Mid-Wilshire, Los Angeles, California, United States', 'address': {'tourism': 'Los Angeles County Museum of Art', 'road': 'Smidt Welcome Plaza', 'suburb': 'Mid-Wilshire', 'city': 'Los Angeles', 'state': 'California', 'country': 'United States', 'country_code': 'us'}, 'boundingbox': ['34.062646', '34.0647496', '-118.3612362', '-118.3564215']}\n"
     ]
    },
    {
     "name": "stderr",
     "output_type": "stream",
     "text": [
      "  8%|███▏                                     | 42/546 [34:59<6:59:59, 50.00s/it]"
     ]
    },
    {
     "name": "stdout",
     "output_type": "stream",
     "text": [
      "{'place_id': 187845543, 'licence': 'Data © OpenStreetMap contributors, ODbL 1.0. https://osm.org/copyright', 'osm_type': 'way', 'osm_id': 427817541, 'lat': '34.04926385', 'lon': '-118.240334805294', 'display_name': 'Koyasan Beikoku Betsuin of Los Angeles, Japanese Village Plaza, Little Tokyo, Downtown, Los Angeles, California, United States', 'address': {'amenity': 'Koyasan Beikoku Betsuin of Los Angeles', 'road': 'Japanese Village Plaza', 'suburb': 'Little Tokyo', 'city': 'Los Angeles', 'state': 'California', 'country': 'United States', 'country_code': 'us'}, 'boundingbox': ['34.0490521', '34.0494915', '-118.2405409', '-118.2400888']}\n"
     ]
    },
    {
     "name": "stderr",
     "output_type": "stream",
     "text": [
      "  8%|███▍                                     | 45/546 [37:29<6:57:30, 50.00s/it]"
     ]
    },
    {
     "name": "stdout",
     "output_type": "stream",
     "text": [
      "{'place_id': 186519653, 'licence': 'Data © OpenStreetMap contributors, ODbL 1.0. https://osm.org/copyright', 'osm_type': 'way', 'osm_id': 420201585, 'lat': '34.0892119', 'lon': '-118.29282287985811', 'display_name': 'Martin Luther King Library, Northeast Quad, Bicycle District, East Hollywood, Los Angeles, California, United States', 'address': {'amenity': 'Martin Luther King Library', 'road': 'Northeast Quad', 'neighbourhood': 'Bicycle District', 'suburb': 'East Hollywood', 'city': 'Los Angeles', 'state': 'California', 'country': 'United States', 'country_code': 'us'}, 'boundingbox': ['34.0891233', '34.0893405', '-118.2932785', '-118.2923066']}\n"
     ]
    },
    {
     "name": "stderr",
     "output_type": "stream",
     "text": [
      "  9%|███▌                                     | 48/546 [39:59<6:55:00, 50.00s/it]"
     ]
    },
    {
     "name": "stdout",
     "output_type": "stream",
     "text": [
      "{'place_id': 175015552, 'licence': 'Data © OpenStreetMap contributors, ODbL 1.0. https://osm.org/copyright', 'osm_type': 'way', 'osm_id': 358731585, 'lat': '34.063736199999994', 'lon': '-118.35890315746158', 'display_name': 'Los Angeles County Museum of Art, Smidt Welcome Plaza, Mid-Wilshire, Los Angeles, California, United States', 'address': {'tourism': 'Los Angeles County Museum of Art', 'road': 'Smidt Welcome Plaza', 'suburb': 'Mid-Wilshire', 'city': 'Los Angeles', 'state': 'California', 'country': 'United States', 'country_code': 'us'}, 'boundingbox': ['34.062646', '34.0647496', '-118.3612362', '-118.3564215']}\n",
      "{'place_id': 175015552, 'licence': 'Data © OpenStreetMap contributors, ODbL 1.0. https://osm.org/copyright', 'osm_type': 'way', 'osm_id': 358731585, 'lat': '34.063736199999994', 'lon': '-118.35890315746158', 'display_name': 'Los Angeles County Museum of Art, Smidt Welcome Plaza, Mid-Wilshire, Los Angeles, California, United States', 'address': {'tourism': 'Los Angeles County Museum of Art', 'road': 'Smidt Welcome Plaza', 'suburb': 'Mid-Wilshire', 'city': 'Los Angeles', 'state': 'California', 'country': 'United States', 'country_code': 'us'}, 'boundingbox': ['34.062646', '34.0647496', '-118.3612362', '-118.3564215']}\n"
     ]
    },
    {
     "name": "stderr",
     "output_type": "stream",
     "text": [
      "\r",
      "  9%|███▋                                     | 49/546 [40:49<6:54:09, 50.00s/it]"
     ]
    },
    {
     "name": "stdout",
     "output_type": "stream",
     "text": [
      "{'place_id': 311554235, 'licence': 'Data © OpenStreetMap contributors, ODbL 1.0. https://osm.org/copyright', 'osm_type': 'way', 'osm_id': 482932575, 'lat': '34.140875699999995', 'lon': '-118.35627922374407', 'display_name': 'Revenge of the Mummy - The Ride, USH Lower Lot Walkways, Universal City, California, United States', 'address': {'tourism': 'Revenge of the Mummy - The Ride', 'road': 'USH Lower Lot Walkways', 'neighbourhood': 'Universal City', 'suburb': 'Universal City', 'state': 'California', 'country': 'United States', 'country_code': 'us'}, 'boundingbox': ['34.1405491', '34.1412063', '-118.3568323', '-118.3557364']}\n",
      "{'place_id': 174579177, 'licence': 'Data © OpenStreetMap contributors, ODbL 1.0. https://osm.org/copyright', 'osm_type': 'way', 'osm_id': 359239560, 'lat': '33.9278411', 'lon': '-118.37286389205175', 'display_name': 'Pacific Concourse Drive, Pacific Concourse, Del Aire, California, United States', 'address': {'road': 'Pacific Concourse Drive', 'commercial': 'Pacific Concourse', 'suburb': 'Del Aire', 'state': 'California', 'country': 'United States', 'country_code': 'us'}, 'boundingbox': ['33.9277015', '33.9279807', '-118.3730321', '-118.3726957']}\n"
     ]
    },
    {
     "name": "stderr",
     "output_type": "stream",
     "text": [
      " 10%|███▉                                     | 53/546 [44:09<6:50:48, 50.00s/it]"
     ]
    },
    {
     "name": "stdout",
     "output_type": "stream",
     "text": [
      "{'place_id': 187093939, 'licence': 'Data © OpenStreetMap contributors, ODbL 1.0. https://osm.org/copyright', 'osm_type': 'way', 'osm_id': 422477122, 'lat': '34.064715199999995', 'lon': '-118.46917231102992', 'display_name': '134, Barrington Court, Westgate Heights, Brentwood, Los Angeles, California, United States', 'address': {'house_number': '134', 'road': 'Barrington Court', 'neighbourhood': 'Westgate Heights', 'suburb': 'Brentwood', 'city': 'Los Angeles', 'state': 'California', 'country': 'United States', 'country_code': 'us'}, 'boundingbox': ['34.0646594', '34.0648625', '-118.4693337', '-118.469078']}\n"
     ]
    },
    {
     "name": "stderr",
     "output_type": "stream",
     "text": [
      "\r",
      " 10%|████                                     | 54/546 [44:59<6:50:00, 50.00s/it]"
     ]
    },
    {
     "name": "stdout",
     "output_type": "stream",
     "text": [
      "{'place_id': 106043510, 'licence': 'Data © OpenStreetMap contributors, ODbL 1.0. https://osm.org/copyright', 'osm_type': 'way', 'osm_id': 60863345, 'lat': '34.145278899999994', 'lon': '-118.11684952945205', 'display_name': 'Shatford Library, Galloway Plaza, Pasadena, California, United States', 'address': {'amenity': 'Shatford Library', 'road': 'Galloway Plaza', 'city': 'Pasadena', 'state': 'California', 'country': 'United States', 'country_code': 'us'}, 'boundingbox': ['34.1450907', '34.1455118', '-118.1173425', '-118.1163596']}\n",
      "{'place_id': 111276782, 'licence': 'Data © OpenStreetMap contributors, ODbL 1.0. https://osm.org/copyright', 'osm_type': 'way', 'osm_id': 101206880, 'lat': '34.14409095', 'lon': '-118.11808489398827', 'display_name': 'Howard E. Marvin Technical Building, Galloway Plaza, Pasadena, California, United States', 'address': {'building': 'Howard E. Marvin Technical Building', 'road': 'Galloway Plaza', 'city': 'Pasadena', 'state': 'California', 'country': 'United States', 'country_code': 'us'}, 'boundingbox': ['34.1439778', '34.1442008', '-118.1185927', '-118.1175778']}\n"
     ]
    },
    {
     "name": "stderr",
     "output_type": "stream",
     "text": [
      "\r",
      " 10%|████▏                                    | 55/546 [45:49<6:49:10, 50.00s/it]"
     ]
    },
    {
     "name": "stdout",
     "output_type": "stream",
     "text": [
      "{'place_id': 138724570, 'licence': 'Data © OpenStreetMap contributors, ODbL 1.0. https://osm.org/copyright', 'osm_type': 'way', 'osm_id': 203432681, 'lat': '34.0474878', 'lon': '-118.21962886606127', 'display_name': 'Mariachi Plaza, Metro Gold Line Entrance, Brooklyn Heights, Boyle Heights, Los Angeles, California, United States', 'address': {'tourism': 'Mariachi Plaza', 'road': 'Metro Gold Line Entrance', 'neighbourhood': 'Brooklyn Heights', 'suburb': 'Boyle Heights', 'city': 'Los Angeles', 'state': 'California', 'country': 'United States', 'country_code': 'us'}, 'boundingbox': ['34.0472969', '34.0475891', '-118.2197627', '-118.2190329']}\n"
     ]
    },
    {
     "name": "stderr",
     "output_type": "stream",
     "text": [
      "\r",
      " 10%|████▏                                    | 56/546 [46:39<6:48:21, 50.00s/it]"
     ]
    },
    {
     "name": "stdout",
     "output_type": "stream",
     "text": [
      "{'place_id': 186519653, 'licence': 'Data © OpenStreetMap contributors, ODbL 1.0. https://osm.org/copyright', 'osm_type': 'way', 'osm_id': 420201585, 'lat': '34.0892119', 'lon': '-118.29282287985811', 'display_name': 'Martin Luther King Library, Northeast Quad, Bicycle District, East Hollywood, Los Angeles, California, United States', 'address': {'amenity': 'Martin Luther King Library', 'road': 'Northeast Quad', 'neighbourhood': 'Bicycle District', 'suburb': 'East Hollywood', 'city': 'Los Angeles', 'state': 'California', 'country': 'United States', 'country_code': 'us'}, 'boundingbox': ['34.0891233', '34.0893405', '-118.2932785', '-118.2923066']}\n"
     ]
    },
    {
     "name": "stderr",
     "output_type": "stream",
     "text": [
      "\r",
      " 10%|████▎                                    | 57/546 [47:29<6:47:29, 50.00s/it]"
     ]
    },
    {
     "name": "stdout",
     "output_type": "stream",
     "text": [
      "{'place_id': 175015552, 'licence': 'Data © OpenStreetMap contributors, ODbL 1.0. https://osm.org/copyright', 'osm_type': 'way', 'osm_id': 358731585, 'lat': '34.063736199999994', 'lon': '-118.35890315746158', 'display_name': 'Los Angeles County Museum of Art, Smidt Welcome Plaza, Mid-Wilshire, Los Angeles, California, United States', 'address': {'tourism': 'Los Angeles County Museum of Art', 'road': 'Smidt Welcome Plaza', 'suburb': 'Mid-Wilshire', 'city': 'Los Angeles', 'state': 'California', 'country': 'United States', 'country_code': 'us'}, 'boundingbox': ['34.062646', '34.0647496', '-118.3612362', '-118.3564215']}\n",
      "{'place_id': 212324989, 'licence': 'Data © OpenStreetMap contributors, ODbL 1.0. https://osm.org/copyright', 'osm_type': 'way', 'osm_id': 588912656, 'lat': '34.141097099999996', 'lon': '-118.44262910293166', 'display_name': 'Sherman Oaks, Los Angeles, California, United States', 'address': {'suburb': 'Sherman Oaks', 'city': 'Los Angeles', 'state': 'California', 'country': 'United States', 'country_code': 'us'}, 'boundingbox': ['34.1406653', '34.1414534', '-118.4430256', '-118.4424194']}\n"
     ]
    },
    {
     "name": "stderr",
     "output_type": "stream",
     "text": [
      " 12%|████▋                                    | 63/546 [52:29<6:42:30, 50.00s/it]"
     ]
    },
    {
     "name": "stdout",
     "output_type": "stream",
     "text": [
      "{'place_id': 188026108, 'licence': 'Data © OpenStreetMap contributors, ODbL 1.0. https://osm.org/copyright', 'osm_type': 'way', 'osm_id': 428812913, 'lat': '34.06105375', 'lon': '-118.24608026340883', 'display_name': 'Orsini II, Boston Street, Civic Center, Downtown, Los Angeles, California, United States', 'address': {'building': 'Orsini II', 'road': 'Boston Street', 'neighbourhood': 'Civic Center', 'suburb': 'Downtown', 'city': 'Los Angeles', 'state': 'California', 'country': 'United States', 'country_code': 'us'}, 'boundingbox': ['34.0609056', '34.0612122', '-118.2462607', '-118.2459']}\n"
     ]
    },
    {
     "name": "stderr",
     "output_type": "stream",
     "text": [
      " 12%|█████                                    | 68/546 [57:09<7:26:31, 56.05s/it]"
     ]
    },
    {
     "name": "stdout",
     "output_type": "stream",
     "text": [
      "{'place_id': 314957176, 'licence': 'Data © OpenStreetMap contributors, ODbL 1.0. https://osm.org/copyright', 'osm_type': 'way', 'osm_id': 422145257, 'lat': '34.101175999999995', 'lon': '-118.32599667695948', 'display_name': 'W Hotel, Metro Red Line Entrance, Hollywood, Los Angeles, California, United States', 'address': {'building': 'W Hotel', 'road': 'Metro Red Line Entrance', 'suburb': 'Hollywood', 'city': 'Los Angeles', 'state': 'California', 'country': 'United States', 'country_code': 'us'}, 'boundingbox': ['34.1008125', '34.1014965', '-118.3265164', '-118.325631']}\n",
      "{'place_id': 314957176, 'licence': 'Data © OpenStreetMap contributors, ODbL 1.0. https://osm.org/copyright', 'osm_type': 'way', 'osm_id': 422145257, 'lat': '34.101175999999995', 'lon': '-118.32599667695948', 'display_name': 'W Hotel, Metro Red Line Entrance, Hollywood, Los Angeles, California, United States', 'address': {'building': 'W Hotel', 'road': 'Metro Red Line Entrance', 'suburb': 'Hollywood', 'city': 'Los Angeles', 'state': 'California', 'country': 'United States', 'country_code': 'us'}, 'boundingbox': ['34.1008125', '34.1014965', '-118.3265164', '-118.325631']}\n"
     ]
    },
    {
     "name": "stderr",
     "output_type": "stream",
     "text": [
      " 14%|█████▌                                 | 78/546 [1:05:29<6:31:20, 50.17s/it]"
     ]
    },
    {
     "name": "stdout",
     "output_type": "stream",
     "text": [
      "{'place_id': 303505228, 'licence': 'Data © OpenStreetMap contributors, ODbL 1.0. https://osm.org/copyright', 'osm_type': 'way', 'osm_id': 905248736, 'lat': '34.0559731', 'lon': '-118.23887137704446', 'display_name': 'Plaza Fire House, El Pueblo Los Angeles Plaza Historic Park, El Pueblo, Downtown, Los Angeles, California, United States', 'address': {'historic': 'Plaza Fire House', 'road': 'El Pueblo Los Angeles Plaza Historic Park', 'neighbourhood': 'El Pueblo', 'suburb': 'Downtown', 'city': 'Los Angeles', 'state': 'California', 'country': 'United States', 'country_code': 'us'}, 'boundingbox': ['34.0558852', '34.0560606', '-118.2389611', '-118.2387802']}\n"
     ]
    },
    {
     "name": "stderr",
     "output_type": "stream",
     "text": [
      "\r",
      " 14%|█████▋                                 | 79/546 [1:06:19<6:30:05, 50.12s/it]"
     ]
    },
    {
     "name": "stdout",
     "output_type": "stream",
     "text": [
      "{'place_id': 175015552, 'licence': 'Data © OpenStreetMap contributors, ODbL 1.0. https://osm.org/copyright', 'osm_type': 'way', 'osm_id': 358731585, 'lat': '34.063736199999994', 'lon': '-118.35890315746158', 'display_name': 'Los Angeles County Museum of Art, Smidt Welcome Plaza, Mid-Wilshire, Los Angeles, California, United States', 'address': {'tourism': 'Los Angeles County Museum of Art', 'road': 'Smidt Welcome Plaza', 'suburb': 'Mid-Wilshire', 'city': 'Los Angeles', 'state': 'California', 'country': 'United States', 'country_code': 'us'}, 'boundingbox': ['34.062646', '34.0647496', '-118.3612362', '-118.3564215']}\n",
      "{'place_id': 175015552, 'licence': 'Data © OpenStreetMap contributors, ODbL 1.0. https://osm.org/copyright', 'osm_type': 'way', 'osm_id': 358731585, 'lat': '34.063736199999994', 'lon': '-118.35890315746158', 'display_name': 'Los Angeles County Museum of Art, Smidt Welcome Plaza, Mid-Wilshire, Los Angeles, California, United States', 'address': {'tourism': 'Los Angeles County Museum of Art', 'road': 'Smidt Welcome Plaza', 'suburb': 'Mid-Wilshire', 'city': 'Los Angeles', 'state': 'California', 'country': 'United States', 'country_code': 'us'}, 'boundingbox': ['34.062646', '34.0647496', '-118.3612362', '-118.3564215']}\n",
      "{'place_id': 175015552, 'licence': 'Data © OpenStreetMap contributors, ODbL 1.0. https://osm.org/copyright', 'osm_type': 'way', 'osm_id': 358731585, 'lat': '34.063736199999994', 'lon': '-118.35890315746158', 'display_name': 'Los Angeles County Museum of Art, Smidt Welcome Plaza, Mid-Wilshire, Los Angeles, California, United States', 'address': {'tourism': 'Los Angeles County Museum of Art', 'road': 'Smidt Welcome Plaza', 'suburb': 'Mid-Wilshire', 'city': 'Los Angeles', 'state': 'California', 'country': 'United States', 'country_code': 'us'}, 'boundingbox': ['34.062646', '34.0647496', '-118.3612362', '-118.3564215']}\n"
     ]
    },
    {
     "name": "stderr",
     "output_type": "stream",
     "text": [
      " 15%|█████▊                                 | 81/546 [1:07:59<6:27:57, 50.06s/it]"
     ]
    },
    {
     "name": "stdout",
     "output_type": "stream",
     "text": [
      "{'place_id': 180444520, 'licence': 'Data © OpenStreetMap contributors, ODbL 1.0. https://osm.org/copyright', 'osm_type': 'way', 'osm_id': 385445150, 'lat': '34.0514553', 'lon': '-118.24303814262818', 'display_name': '12, Broad Plaza, Little Tokyo, Downtown, Los Angeles, California, United States', 'address': {'aeroway': '12', 'road': 'Broad Plaza', 'suburb': 'Little Tokyo', 'city': 'Los Angeles', 'state': 'California', 'country': 'United States', 'country_code': 'us'}, 'boundingbox': ['34.0513176', '34.0515929', '-118.2432017', '-118.2428746']}\n"
     ]
    },
    {
     "name": "stderr",
     "output_type": "stream",
     "text": [
      " 16%|██████                                 | 85/546 [1:11:19<6:24:15, 50.01s/it]"
     ]
    },
    {
     "name": "stdout",
     "output_type": "stream",
     "text": [
      "{'place_id': 110456720, 'licence': 'Data © OpenStreetMap contributors, ODbL 1.0. https://osm.org/copyright', 'osm_type': 'way', 'osm_id': 86296659, 'lat': '34.12022585', 'lon': '-118.1221128814515', 'display_name': 'Lacy Park inner loop, San Marino, California, United States', 'address': {'road': 'Lacy Park inner loop', 'town': 'San Marino', 'state': 'California', 'country': 'United States', 'country_code': 'us'}, 'boundingbox': ['34.1194525', '34.1210025', '-118.1234126', '-118.1207677']}\n"
     ]
    },
    {
     "name": "stderr",
     "output_type": "stream",
     "text": [
      " 16%|██████▏                                | 87/546 [1:12:59<6:22:33, 50.01s/it]"
     ]
    },
    {
     "name": "stdout",
     "output_type": "stream",
     "text": [
      "{'place_id': 125978792, 'licence': 'Data © OpenStreetMap contributors, ODbL 1.0. https://osm.org/copyright', 'osm_type': 'way', 'osm_id': 160176574, 'lat': '33.93221905', 'lon': '-118.21616451837454', 'display_name': 'Lynwood, California, United States', 'address': {'town': 'Lynwood', 'state': 'California', 'country': 'United States', 'country_code': 'us'}, 'boundingbox': ['33.931747', '33.9325687', '-118.2166605', '-118.2156683']}\n",
      "{'place_id': 128150348, 'licence': 'Data © OpenStreetMap contributors, ODbL 1.0. https://osm.org/copyright', 'osm_type': 'way', 'osm_id': 160177187, 'lat': '33.926287', 'lon': '-118.21777926014138', 'display_name': 'Lynwood, California, United States', 'address': {'town': 'Lynwood', 'state': 'California', 'country': 'United States', 'country_code': 'us'}, 'boundingbox': ['33.9258878', '33.9267416', '-118.2182934', '-118.2172629']}\n"
     ]
    },
    {
     "name": "stderr",
     "output_type": "stream",
     "text": [
      "\r",
      " 16%|██████▎                                | 88/546 [1:13:49<6:21:41, 50.00s/it]"
     ]
    },
    {
     "name": "stdout",
     "output_type": "stream",
     "text": [
      "{'place_id': 303505222, 'licence': 'Data © OpenStreetMap contributors, ODbL 1.0. https://osm.org/copyright', 'osm_type': 'way', 'osm_id': 905248726, 'lat': '34.05682275', 'lon': '-118.23810013582668', 'display_name': 'Biscailuz Building, El Pueblo Los Angeles Plaza Historic Park, El Pueblo, Downtown, Los Angeles, California, United States', 'address': {'historic': 'Biscailuz Building', 'road': 'El Pueblo Los Angeles Plaza Historic Park', 'neighbourhood': 'El Pueblo', 'suburb': 'Downtown', 'city': 'Los Angeles', 'state': 'California', 'country': 'United States', 'country_code': 'us'}, 'boundingbox': ['34.0566798', '34.0569677', '-118.2382781', '-118.2379302']}\n"
     ]
    },
    {
     "name": "stderr",
     "output_type": "stream",
     "text": [
      "\r",
      " 16%|██████▎                                | 89/546 [1:14:39<6:20:50, 50.00s/it]"
     ]
    },
    {
     "name": "stdout",
     "output_type": "stream",
     "text": [
      "{'place_id': 184978731, 'licence': 'Data © OpenStreetMap contributors, ODbL 1.0. https://osm.org/copyright', 'osm_type': 'way', 'osm_id': 406923905, 'lat': '34.02289555', 'lon': '-118.2839644985705', 'display_name': 'Joint Educational Project House, 801, Herbert Plaza, University Park, Los Angeles, California, United States', 'address': {'building': 'Joint Educational Project House', 'house_number': '801', 'road': 'Herbert Plaza', 'suburb': 'University Park', 'city': 'Los Angeles', 'state': 'California', 'country': 'United States', 'country_code': 'us'}, 'boundingbox': ['34.022814', '34.0230161', '-118.2840593', '-118.2838697']}\n"
     ]
    },
    {
     "name": "stderr",
     "output_type": "stream",
     "text": [
      "\r",
      " 16%|██████▍                                | 90/546 [1:15:29<6:20:01, 50.00s/it]"
     ]
    },
    {
     "name": "stdout",
     "output_type": "stream",
     "text": [
      "{'place_id': 184090430, 'licence': 'Data © OpenStreetMap contributors, ODbL 1.0. https://osm.org/copyright', 'osm_type': 'way', 'osm_id': 406923885, 'lat': '34.0210314', 'lon': '-118.28557579051609', 'display_name': 'Bovard Administration Building, 3551, Hahn Plaza, University Park, Los Angeles, California, United States', 'address': {'building': 'Bovard Administration Building', 'house_number': '3551', 'road': 'Hahn Plaza', 'suburb': 'University Park', 'city': 'Los Angeles', 'state': 'California', 'country': 'United States', 'country_code': 'us'}, 'boundingbox': ['34.0205662', '34.0213921', '-118.2859846', '-118.2851258']}\n"
     ]
    },
    {
     "name": "stderr",
     "output_type": "stream",
     "text": [
      "\r",
      " 17%|██████▌                                | 91/546 [1:16:19<6:19:10, 50.00s/it]"
     ]
    },
    {
     "name": "stdout",
     "output_type": "stream",
     "text": [
      "{'place_id': 207526233, 'licence': 'Data © OpenStreetMap contributors, ODbL 1.0. https://osm.org/copyright', 'osm_type': 'way', 'osm_id': 548784310, 'lat': '34.2093406', 'lon': '-118.29177137529183', 'display_name': 'Wildwood Canyon Road, Burbank, California, United States', 'address': {'road': 'Wildwood Canyon Road', 'city': 'Burbank', 'state': 'California', 'country': 'United States', 'country_code': 'us'}, 'boundingbox': ['34.2092665', '34.2094146', '-118.2918596', '-118.2916832']}\n",
      "{'place_id': 225814457, 'licence': 'Data © OpenStreetMap contributors, ODbL 1.0. https://osm.org/copyright', 'osm_type': 'way', 'osm_id': 670477039, 'lat': '34.003956099999996', 'lon': '-118.33148415878901', 'display_name': 'Leimert Park, Los Angeles, California, United States', 'address': {'suburb': 'Leimert Park', 'city': 'Los Angeles', 'state': 'California', 'country': 'United States', 'country_code': 'us'}, 'boundingbox': ['34.0038979', '34.0040061', '-118.3315496', '-118.3314188']}\n"
     ]
    },
    {
     "name": "stderr",
     "output_type": "stream",
     "text": [
      " 17%|██████▊                                | 95/546 [1:20:49<8:48:17, 70.28s/it]"
     ]
    },
    {
     "name": "stdout",
     "output_type": "stream",
     "text": [
      "{'place_id': 218572509, 'licence': 'Data © OpenStreetMap contributors, ODbL 1.0. https://osm.org/copyright', 'osm_type': 'way', 'osm_id': 630550214, 'lat': '33.963771699999995', 'lon': '-118.42885605000001', 'display_name': 'Westchester, Los Angeles, California, United States', 'address': {'suburb': 'Westchester', 'city': 'Los Angeles', 'state': 'California', 'country': 'United States', 'country_code': 'us'}, 'boundingbox': ['33.9636986', '33.9638448', '-118.4289446', '-118.4287675']}\n"
     ]
    },
    {
     "name": "stderr",
     "output_type": "stream",
     "text": [
      "\r",
      " 18%|██████▋                               | 96/546 [1:22:40<10:18:42, 82.49s/it]"
     ]
    },
    {
     "name": "stdout",
     "output_type": "stream",
     "text": [
      "{'place_id': 101397683, 'licence': 'Data © OpenStreetMap contributors, ODbL 1.0. https://osm.org/copyright', 'osm_type': 'way', 'osm_id': 43993022, 'lat': '33.99131225', 'lon': '-118.46105093695462', 'display_name': 'Venice, Los Angeles, California, United States', 'address': {'neighbourhood': 'Venice', 'suburb': 'Venice', 'city': 'Los Angeles', 'state': 'California', 'country': 'United States', 'country_code': 'us'}, 'boundingbox': ['33.991203', '33.9914179', '-118.4611801', '-118.4609211']}\n"
     ]
    },
    {
     "name": "stderr",
     "output_type": "stream",
     "text": [
      " 19%|██████▊                             | 103/546 [1:35:54<13:38:59, 110.92s/it]"
     ]
    },
    {
     "name": "stdout",
     "output_type": "stream",
     "text": [
      "{'place_id': 314957176, 'licence': 'Data © OpenStreetMap contributors, ODbL 1.0. https://osm.org/copyright', 'osm_type': 'way', 'osm_id': 422145257, 'lat': '34.101175999999995', 'lon': '-118.32599667695948', 'display_name': 'W Hotel, Metro Red Line Entrance, Hollywood, Los Angeles, California, United States', 'address': {'building': 'W Hotel', 'road': 'Metro Red Line Entrance', 'suburb': 'Hollywood', 'city': 'Los Angeles', 'state': 'California', 'country': 'United States', 'country_code': 'us'}, 'boundingbox': ['34.1008125', '34.1014965', '-118.3265164', '-118.325631']}\n"
     ]
    },
    {
     "name": "stderr",
     "output_type": "stream",
     "text": [
      " 21%|███████▊                              | 112/546 [1:43:46<6:22:08, 52.83s/it]"
     ]
    },
    {
     "name": "stdout",
     "output_type": "stream",
     "text": [
      "{'place_id': 187093939, 'licence': 'Data © OpenStreetMap contributors, ODbL 1.0. https://osm.org/copyright', 'osm_type': 'way', 'osm_id': 422477122, 'lat': '34.064715199999995', 'lon': '-118.46917231102992', 'display_name': '134, Barrington Court, Westgate Heights, Brentwood, Los Angeles, California, United States', 'address': {'house_number': '134', 'road': 'Barrington Court', 'neighbourhood': 'Westgate Heights', 'suburb': 'Brentwood', 'city': 'Los Angeles', 'state': 'California', 'country': 'United States', 'country_code': 'us'}, 'boundingbox': ['34.0646594', '34.0648625', '-118.4693337', '-118.469078']}\n"
     ]
    },
    {
     "name": "stderr",
     "output_type": "stream",
     "text": [
      "\r",
      " 21%|███████▊                              | 113/546 [1:44:36<6:15:08, 51.98s/it]"
     ]
    },
    {
     "name": "stdout",
     "output_type": "stream",
     "text": [
      "{'place_id': 198354676, 'licence': 'Data © OpenStreetMap contributors, ODbL 1.0. https://osm.org/copyright', 'osm_type': 'way', 'osm_id': 490390112, 'lat': '34.0612902', 'lon': '-118.30119128156109', 'display_name': 'Metroplex Wilshire, Metro Purple Line Entrance, Koreatown, Los Angeles, California, United States', 'address': {'building': 'Metroplex Wilshire', 'road': 'Metro Purple Line Entrance', 'neighbourhood': 'Koreatown', 'city': 'Los Angeles', 'state': 'California', 'country': 'United States', 'country_code': 'us'}, 'boundingbox': ['34.0610606', '34.0615925', '-118.301397', '-118.3009857']}\n"
     ]
    },
    {
     "name": "stderr",
     "output_type": "stream",
     "text": [
      "\r",
      " 21%|███████▉                              | 114/546 [1:45:26<6:09:58, 51.39s/it]"
     ]
    },
    {
     "name": "stdout",
     "output_type": "stream",
     "text": [
      "{'place_id': 314957195, 'licence': 'Data © OpenStreetMap contributors, ODbL 1.0. https://osm.org/copyright', 'osm_type': 'way', 'osm_id': 937473001, 'lat': '34.100960099999995', 'lon': '-118.325929158125', 'display_name': 'W Hotel, Metro Red Line Entrance, Hollywood, Los Angeles, California, United States', 'address': {'tourism': 'W Hotel', 'road': 'Metro Red Line Entrance', 'suburb': 'Hollywood', 'city': 'Los Angeles', 'state': 'California', 'country': 'United States', 'country_code': 'us'}, 'boundingbox': ['34.1004877', '34.1014965', '-118.3265164', '-118.3253242']}\n"
     ]
    },
    {
     "name": "stderr",
     "output_type": "stream",
     "text": [
      " 27%|██████████▍                           | 150/546 [2:15:26<5:29:59, 50.00s/it]"
     ]
    },
    {
     "name": "stdout",
     "output_type": "stream",
     "text": [
      "{'place_id': 182037692, 'licence': 'Data © OpenStreetMap contributors, ODbL 1.0. https://osm.org/copyright', 'osm_type': 'way', 'osm_id': 390667789, 'lat': '34.141537850000006', 'lon': '-118.13355283140179', 'display_name': 'Loading Dock, Corporate Plaza, South Lake Ave, Pasadena, California, United States', 'address': {'amenity': 'Loading Dock', 'road': 'Corporate Plaza', 'retail': 'South Lake Ave', 'city': 'Pasadena', 'state': 'California', 'country': 'United States', 'country_code': 'us'}, 'boundingbox': ['34.1413605', '34.1416472', '-118.1337082', '-118.1334026']}\n"
     ]
    },
    {
     "name": "stderr",
     "output_type": "stream",
     "text": [
      " 40%|███████████████▍                      | 221/546 [3:14:36<4:30:50, 50.00s/it]"
     ]
    },
    {
     "name": "stdout",
     "output_type": "stream",
     "text": [
      "{'place_id': 174579177, 'licence': 'Data © OpenStreetMap contributors, ODbL 1.0. https://osm.org/copyright', 'osm_type': 'way', 'osm_id': 359239560, 'lat': '33.9278411', 'lon': '-118.37286389205175', 'display_name': 'Pacific Concourse Drive, Pacific Concourse, Del Aire, California, United States', 'address': {'road': 'Pacific Concourse Drive', 'commercial': 'Pacific Concourse', 'suburb': 'Del Aire', 'state': 'California', 'country': 'United States', 'country_code': 'us'}, 'boundingbox': ['33.9277015', '33.9279807', '-118.3730321', '-118.3726957']}\n",
      "{'place_id': 174579177, 'licence': 'Data © OpenStreetMap contributors, ODbL 1.0. https://osm.org/copyright', 'osm_type': 'way', 'osm_id': 359239560, 'lat': '33.9278411', 'lon': '-118.37286389205175', 'display_name': 'Pacific Concourse Drive, Pacific Concourse, Del Aire, California, United States', 'address': {'road': 'Pacific Concourse Drive', 'commercial': 'Pacific Concourse', 'suburb': 'Del Aire', 'state': 'California', 'country': 'United States', 'country_code': 'us'}, 'boundingbox': ['33.9277015', '33.9279807', '-118.3730321', '-118.3726957']}\n",
      "{'place_id': 174579177, 'licence': 'Data © OpenStreetMap contributors, ODbL 1.0. https://osm.org/copyright', 'osm_type': 'way', 'osm_id': 359239560, 'lat': '33.9278411', 'lon': '-118.37286389205175', 'display_name': 'Pacific Concourse Drive, Pacific Concourse, Del Aire, California, United States', 'address': {'road': 'Pacific Concourse Drive', 'commercial': 'Pacific Concourse', 'suburb': 'Del Aire', 'state': 'California', 'country': 'United States', 'country_code': 'us'}, 'boundingbox': ['33.9277015', '33.9279807', '-118.3730321', '-118.3726957']}\n",
      "{'place_id': 174579177, 'licence': 'Data © OpenStreetMap contributors, ODbL 1.0. https://osm.org/copyright', 'osm_type': 'way', 'osm_id': 359239560, 'lat': '33.9278411', 'lon': '-118.37286389205175', 'display_name': 'Pacific Concourse Drive, Pacific Concourse, Del Aire, California, United States', 'address': {'road': 'Pacific Concourse Drive', 'commercial': 'Pacific Concourse', 'suburb': 'Del Aire', 'state': 'California', 'country': 'United States', 'country_code': 'us'}, 'boundingbox': ['33.9277015', '33.9279807', '-118.3730321', '-118.3726957']}\n",
      "{'place_id': 174579177, 'licence': 'Data © OpenStreetMap contributors, ODbL 1.0. https://osm.org/copyright', 'osm_type': 'way', 'osm_id': 359239560, 'lat': '33.9278411', 'lon': '-118.37286389205175', 'display_name': 'Pacific Concourse Drive, Pacific Concourse, Del Aire, California, United States', 'address': {'road': 'Pacific Concourse Drive', 'commercial': 'Pacific Concourse', 'suburb': 'Del Aire', 'state': 'California', 'country': 'United States', 'country_code': 'us'}, 'boundingbox': ['33.9277015', '33.9279807', '-118.3730321', '-118.3726957']}\n",
      "{'place_id': 174579177, 'licence': 'Data © OpenStreetMap contributors, ODbL 1.0. https://osm.org/copyright', 'osm_type': 'way', 'osm_id': 359239560, 'lat': '33.9278411', 'lon': '-118.37286389205175', 'display_name': 'Pacific Concourse Drive, Pacific Concourse, Del Aire, California, United States', 'address': {'road': 'Pacific Concourse Drive', 'commercial': 'Pacific Concourse', 'suburb': 'Del Aire', 'state': 'California', 'country': 'United States', 'country_code': 'us'}, 'boundingbox': ['33.9277015', '33.9279807', '-118.3730321', '-118.3726957']}\n",
      "{'place_id': 174579177, 'licence': 'Data © OpenStreetMap contributors, ODbL 1.0. https://osm.org/copyright', 'osm_type': 'way', 'osm_id': 359239560, 'lat': '33.9278411', 'lon': '-118.37286389205175', 'display_name': 'Pacific Concourse Drive, Pacific Concourse, Del Aire, California, United States', 'address': {'road': 'Pacific Concourse Drive', 'commercial': 'Pacific Concourse', 'suburb': 'Del Aire', 'state': 'California', 'country': 'United States', 'country_code': 'us'}, 'boundingbox': ['33.9277015', '33.9279807', '-118.3730321', '-118.3726957']}\n"
     ]
    },
    {
     "name": "stderr",
     "output_type": "stream",
     "text": [
      " 41%|███████████████▋                      | 226/546 [3:18:46<4:26:39, 50.00s/it]"
     ]
    },
    {
     "name": "stdout",
     "output_type": "stream",
     "text": [
      "{'place_id': 251329963, 'licence': 'Data © OpenStreetMap contributors, ODbL 1.0. https://osm.org/copyright', 'osm_type': 'way', 'osm_id': 823940381, 'lat': '34.16556415', 'lon': '-118.37540610226814', 'display_name': 'NoHo Plaza, NoHo, North Hollywood, Los Angeles, California, United States', 'address': {'leisure': 'NoHo Plaza', 'road': 'NoHo Plaza', 'neighbourhood': 'NoHo', 'suburb': 'North Hollywood', 'city': 'Los Angeles', 'state': 'California', 'country': 'United States', 'country_code': 'us'}, 'boundingbox': ['34.1655449', '34.1656092', '-118.3756407', '-118.3751903']}\n"
     ]
    },
    {
     "name": "stderr",
     "output_type": "stream",
     "text": [
      " 47%|█████████████████▊                    | 256/546 [3:43:46<4:01:39, 50.00s/it]"
     ]
    },
    {
     "name": "stdout",
     "output_type": "stream",
     "text": [
      "{'place_id': 103680216, 'licence': 'Data © OpenStreetMap contributors, ODbL 1.0. https://osm.org/copyright', 'osm_type': 'way', 'osm_id': 48144161, 'lat': '33.9763669', 'lon': '-118.39137032775', 'display_name': 'Westchester, Los Angeles, California, United States', 'address': {'suburb': 'Westchester', 'city': 'Los Angeles', 'state': 'California', 'country': 'United States', 'country_code': 'us'}, 'boundingbox': ['33.9762935', '33.9764559', '-118.3914727', '-118.3912635']}\n",
      "{'place_id': 103680216, 'licence': 'Data © OpenStreetMap contributors, ODbL 1.0. https://osm.org/copyright', 'osm_type': 'way', 'osm_id': 48144161, 'lat': '33.9763669', 'lon': '-118.39137032775', 'display_name': 'Westchester, Los Angeles, California, United States', 'address': {'suburb': 'Westchester', 'city': 'Los Angeles', 'state': 'California', 'country': 'United States', 'country_code': 'us'}, 'boundingbox': ['33.9762935', '33.9764559', '-118.3914727', '-118.3912635']}\n"
     ]
    },
    {
     "name": "stderr",
     "output_type": "stream",
     "text": [
      " 64%|████████████████████████▎             | 350/546 [5:02:05<2:43:19, 50.00s/it]"
     ]
    },
    {
     "name": "stdout",
     "output_type": "stream",
     "text": [
      "{'place_id': 187093939, 'licence': 'Data © OpenStreetMap contributors, ODbL 1.0. https://osm.org/copyright', 'osm_type': 'way', 'osm_id': 422477122, 'lat': '34.064715199999995', 'lon': '-118.46917231102992', 'display_name': '134, Barrington Court, Westgate Heights, Brentwood, Los Angeles, California, United States', 'address': {'house_number': '134', 'road': 'Barrington Court', 'neighbourhood': 'Westgate Heights', 'suburb': 'Brentwood', 'city': 'Los Angeles', 'state': 'California', 'country': 'United States', 'country_code': 'us'}, 'boundingbox': ['34.0646594', '34.0648625', '-118.4693337', '-118.469078']}\n",
      "{'place_id': 187543226, 'licence': 'Data © OpenStreetMap contributors, ODbL 1.0. https://osm.org/copyright', 'osm_type': 'way', 'osm_id': 422477207, 'lat': '34.065179900000004', 'lon': '-118.46956804942565', 'display_name': '110, Barrington Court, Westgate Heights, Brentwood, Los Angeles, California, United States', 'address': {'house_number': '110', 'road': 'Barrington Court', 'neighbourhood': 'Westgate Heights', 'suburb': 'Brentwood', 'city': 'Los Angeles', 'state': 'California', 'country': 'United States', 'country_code': 'us'}, 'boundingbox': ['34.0650122', '34.0653377', '-118.4697586', '-118.4693949']}\n",
      "{'place_id': 187093939, 'licence': 'Data © OpenStreetMap contributors, ODbL 1.0. https://osm.org/copyright', 'osm_type': 'way', 'osm_id': 422477122, 'lat': '34.064715199999995', 'lon': '-118.46917231102992', 'display_name': '134, Barrington Court, Westgate Heights, Brentwood, Los Angeles, California, United States', 'address': {'house_number': '134', 'road': 'Barrington Court', 'neighbourhood': 'Westgate Heights', 'suburb': 'Brentwood', 'city': 'Los Angeles', 'state': 'California', 'country': 'United States', 'country_code': 'us'}, 'boundingbox': ['34.0646594', '34.0648625', '-118.4693337', '-118.469078']}\n",
      "{'place_id': 187543226, 'licence': 'Data © OpenStreetMap contributors, ODbL 1.0. https://osm.org/copyright', 'osm_type': 'way', 'osm_id': 422477207, 'lat': '34.065179900000004', 'lon': '-118.46956804942565', 'display_name': '110, Barrington Court, Westgate Heights, Brentwood, Los Angeles, California, United States', 'address': {'house_number': '110', 'road': 'Barrington Court', 'neighbourhood': 'Westgate Heights', 'suburb': 'Brentwood', 'city': 'Los Angeles', 'state': 'California', 'country': 'United States', 'country_code': 'us'}, 'boundingbox': ['34.0650122', '34.0653377', '-118.4697586', '-118.4693949']}\n",
      "{'place_id': 187543226, 'licence': 'Data © OpenStreetMap contributors, ODbL 1.0. https://osm.org/copyright', 'osm_type': 'way', 'osm_id': 422477207, 'lat': '34.065179900000004', 'lon': '-118.46956804942565', 'display_name': '110, Barrington Court, Westgate Heights, Brentwood, Los Angeles, California, United States', 'address': {'house_number': '110', 'road': 'Barrington Court', 'neighbourhood': 'Westgate Heights', 'suburb': 'Brentwood', 'city': 'Los Angeles', 'state': 'California', 'country': 'United States', 'country_code': 'us'}, 'boundingbox': ['34.0650122', '34.0653377', '-118.4697586', '-118.4693949']}\n",
      "{'place_id': 187093939, 'licence': 'Data © OpenStreetMap contributors, ODbL 1.0. https://osm.org/copyright', 'osm_type': 'way', 'osm_id': 422477122, 'lat': '34.064715199999995', 'lon': '-118.46917231102992', 'display_name': '134, Barrington Court, Westgate Heights, Brentwood, Los Angeles, California, United States', 'address': {'house_number': '134', 'road': 'Barrington Court', 'neighbourhood': 'Westgate Heights', 'suburb': 'Brentwood', 'city': 'Los Angeles', 'state': 'California', 'country': 'United States', 'country_code': 'us'}, 'boundingbox': ['34.0646594', '34.0648625', '-118.4693337', '-118.469078']}\n",
      "{'place_id': 187543226, 'licence': 'Data © OpenStreetMap contributors, ODbL 1.0. https://osm.org/copyright', 'osm_type': 'way', 'osm_id': 422477207, 'lat': '34.065179900000004', 'lon': '-118.46956804942565', 'display_name': '110, Barrington Court, Westgate Heights, Brentwood, Los Angeles, California, United States', 'address': {'house_number': '110', 'road': 'Barrington Court', 'neighbourhood': 'Westgate Heights', 'suburb': 'Brentwood', 'city': 'Los Angeles', 'state': 'California', 'country': 'United States', 'country_code': 'us'}, 'boundingbox': ['34.0650122', '34.0653377', '-118.4697586', '-118.4693949']}\n"
     ]
    },
    {
     "name": "stderr",
     "output_type": "stream",
     "text": [
      "\r",
      " 64%|████████████████████████▍             | 351/546 [5:02:55<2:42:29, 50.00s/it]"
     ]
    },
    {
     "name": "stdout",
     "output_type": "stream",
     "text": [
      "{'place_id': 186520734, 'licence': 'Data © OpenStreetMap contributors, ODbL 1.0. https://osm.org/copyright', 'osm_type': 'way', 'osm_id': 422477118, 'lat': '34.0646084', 'lon': '-118.4698702265761', 'display_name': '115, Barrington Court, Westgate Heights, Brentwood, Los Angeles, California, United States', 'address': {'house_number': '115', 'road': 'Barrington Court', 'neighbourhood': 'Westgate Heights', 'suburb': 'Brentwood', 'city': 'Los Angeles', 'state': 'California', 'country': 'United States', 'country_code': 'us'}, 'boundingbox': ['34.064378', '34.0647259', '-118.4700083', '-118.4697503']}\n",
      "{'place_id': 186520734, 'licence': 'Data © OpenStreetMap contributors, ODbL 1.0. https://osm.org/copyright', 'osm_type': 'way', 'osm_id': 422477118, 'lat': '34.0646084', 'lon': '-118.4698702265761', 'display_name': '115, Barrington Court, Westgate Heights, Brentwood, Los Angeles, California, United States', 'address': {'house_number': '115', 'road': 'Barrington Court', 'neighbourhood': 'Westgate Heights', 'suburb': 'Brentwood', 'city': 'Los Angeles', 'state': 'California', 'country': 'United States', 'country_code': 'us'}, 'boundingbox': ['34.064378', '34.0647259', '-118.4700083', '-118.4697503']}\n",
      "{'place_id': 186520734, 'licence': 'Data © OpenStreetMap contributors, ODbL 1.0. https://osm.org/copyright', 'osm_type': 'way', 'osm_id': 422477118, 'lat': '34.0646084', 'lon': '-118.4698702265761', 'display_name': '115, Barrington Court, Westgate Heights, Brentwood, Los Angeles, California, United States', 'address': {'house_number': '115', 'road': 'Barrington Court', 'neighbourhood': 'Westgate Heights', 'suburb': 'Brentwood', 'city': 'Los Angeles', 'state': 'California', 'country': 'United States', 'country_code': 'us'}, 'boundingbox': ['34.064378', '34.0647259', '-118.4700083', '-118.4697503']}\n",
      "{'place_id': 186520734, 'licence': 'Data © OpenStreetMap contributors, ODbL 1.0. https://osm.org/copyright', 'osm_type': 'way', 'osm_id': 422477118, 'lat': '34.0646084', 'lon': '-118.4698702265761', 'display_name': '115, Barrington Court, Westgate Heights, Brentwood, Los Angeles, California, United States', 'address': {'house_number': '115', 'road': 'Barrington Court', 'neighbourhood': 'Westgate Heights', 'suburb': 'Brentwood', 'city': 'Los Angeles', 'state': 'California', 'country': 'United States', 'country_code': 'us'}, 'boundingbox': ['34.064378', '34.0647259', '-118.4700083', '-118.4697503']}\n",
      "{'place_id': 186520734, 'licence': 'Data © OpenStreetMap contributors, ODbL 1.0. https://osm.org/copyright', 'osm_type': 'way', 'osm_id': 422477118, 'lat': '34.0646084', 'lon': '-118.4698702265761', 'display_name': '115, Barrington Court, Westgate Heights, Brentwood, Los Angeles, California, United States', 'address': {'house_number': '115', 'road': 'Barrington Court', 'neighbourhood': 'Westgate Heights', 'suburb': 'Brentwood', 'city': 'Los Angeles', 'state': 'California', 'country': 'United States', 'country_code': 'us'}, 'boundingbox': ['34.064378', '34.0647259', '-118.4700083', '-118.4697503']}\n",
      "{'place_id': 186520734, 'licence': 'Data © OpenStreetMap contributors, ODbL 1.0. https://osm.org/copyright', 'osm_type': 'way', 'osm_id': 422477118, 'lat': '34.0646084', 'lon': '-118.4698702265761', 'display_name': '115, Barrington Court, Westgate Heights, Brentwood, Los Angeles, California, United States', 'address': {'house_number': '115', 'road': 'Barrington Court', 'neighbourhood': 'Westgate Heights', 'suburb': 'Brentwood', 'city': 'Los Angeles', 'state': 'California', 'country': 'United States', 'country_code': 'us'}, 'boundingbox': ['34.064378', '34.0647259', '-118.4700083', '-118.4697503']}\n",
      "{'place_id': 186520734, 'licence': 'Data © OpenStreetMap contributors, ODbL 1.0. https://osm.org/copyright', 'osm_type': 'way', 'osm_id': 422477118, 'lat': '34.0646084', 'lon': '-118.4698702265761', 'display_name': '115, Barrington Court, Westgate Heights, Brentwood, Los Angeles, California, United States', 'address': {'house_number': '115', 'road': 'Barrington Court', 'neighbourhood': 'Westgate Heights', 'suburb': 'Brentwood', 'city': 'Los Angeles', 'state': 'California', 'country': 'United States', 'country_code': 'us'}, 'boundingbox': ['34.064378', '34.0647259', '-118.4700083', '-118.4697503']}\n",
      "{'place_id': 187543226, 'licence': 'Data © OpenStreetMap contributors, ODbL 1.0. https://osm.org/copyright', 'osm_type': 'way', 'osm_id': 422477207, 'lat': '34.065179900000004', 'lon': '-118.46956804942565', 'display_name': '110, Barrington Court, Westgate Heights, Brentwood, Los Angeles, California, United States', 'address': {'house_number': '110', 'road': 'Barrington Court', 'neighbourhood': 'Westgate Heights', 'suburb': 'Brentwood', 'city': 'Los Angeles', 'state': 'California', 'country': 'United States', 'country_code': 'us'}, 'boundingbox': ['34.0650122', '34.0653377', '-118.4697586', '-118.4693949']}\n",
      "{'place_id': 187543226, 'licence': 'Data © OpenStreetMap contributors, ODbL 1.0. https://osm.org/copyright', 'osm_type': 'way', 'osm_id': 422477207, 'lat': '34.065179900000004', 'lon': '-118.46956804942565', 'display_name': '110, Barrington Court, Westgate Heights, Brentwood, Los Angeles, California, United States', 'address': {'house_number': '110', 'road': 'Barrington Court', 'neighbourhood': 'Westgate Heights', 'suburb': 'Brentwood', 'city': 'Los Angeles', 'state': 'California', 'country': 'United States', 'country_code': 'us'}, 'boundingbox': ['34.0650122', '34.0653377', '-118.4697586', '-118.4693949']}\n",
      "{'place_id': 187543226, 'licence': 'Data © OpenStreetMap contributors, ODbL 1.0. https://osm.org/copyright', 'osm_type': 'way', 'osm_id': 422477207, 'lat': '34.065179900000004', 'lon': '-118.46956804942565', 'display_name': '110, Barrington Court, Westgate Heights, Brentwood, Los Angeles, California, United States', 'address': {'house_number': '110', 'road': 'Barrington Court', 'neighbourhood': 'Westgate Heights', 'suburb': 'Brentwood', 'city': 'Los Angeles', 'state': 'California', 'country': 'United States', 'country_code': 'us'}, 'boundingbox': ['34.0650122', '34.0653377', '-118.4697586', '-118.4693949']}\n",
      "{'place_id': 187543226, 'licence': 'Data © OpenStreetMap contributors, ODbL 1.0. https://osm.org/copyright', 'osm_type': 'way', 'osm_id': 422477207, 'lat': '34.065179900000004', 'lon': '-118.46956804942565', 'display_name': '110, Barrington Court, Westgate Heights, Brentwood, Los Angeles, California, United States', 'address': {'house_number': '110', 'road': 'Barrington Court', 'neighbourhood': 'Westgate Heights', 'suburb': 'Brentwood', 'city': 'Los Angeles', 'state': 'California', 'country': 'United States', 'country_code': 'us'}, 'boundingbox': ['34.0650122', '34.0653377', '-118.4697586', '-118.4693949']}\n",
      "{'place_id': 187543226, 'licence': 'Data © OpenStreetMap contributors, ODbL 1.0. https://osm.org/copyright', 'osm_type': 'way', 'osm_id': 422477207, 'lat': '34.065179900000004', 'lon': '-118.46956804942565', 'display_name': '110, Barrington Court, Westgate Heights, Brentwood, Los Angeles, California, United States', 'address': {'house_number': '110', 'road': 'Barrington Court', 'neighbourhood': 'Westgate Heights', 'suburb': 'Brentwood', 'city': 'Los Angeles', 'state': 'California', 'country': 'United States', 'country_code': 'us'}, 'boundingbox': ['34.0650122', '34.0653377', '-118.4697586', '-118.4693949']}\n",
      "{'place_id': 187543226, 'licence': 'Data © OpenStreetMap contributors, ODbL 1.0. https://osm.org/copyright', 'osm_type': 'way', 'osm_id': 422477207, 'lat': '34.065179900000004', 'lon': '-118.46956804942565', 'display_name': '110, Barrington Court, Westgate Heights, Brentwood, Los Angeles, California, United States', 'address': {'house_number': '110', 'road': 'Barrington Court', 'neighbourhood': 'Westgate Heights', 'suburb': 'Brentwood', 'city': 'Los Angeles', 'state': 'California', 'country': 'United States', 'country_code': 'us'}, 'boundingbox': ['34.0650122', '34.0653377', '-118.4697586', '-118.4693949']}\n"
     ]
    },
    {
     "name": "stderr",
     "output_type": "stream",
     "text": [
      " 72%|███████████████████████████▎          | 393/546 [5:37:55<2:07:29, 50.00s/it]"
     ]
    },
    {
     "name": "stdout",
     "output_type": "stream",
     "text": [
      "{'place_id': 255404299, 'licence': 'Data © OpenStreetMap contributors, ODbL 1.0. https://osm.org/copyright', 'osm_type': 'way', 'osm_id': 848678125, 'lat': '33.9523515', 'lon': '-118.21834477058823', 'display_name': 'Park Walkway, South Gate, California, United States', 'address': {'road': 'Park Walkway', 'city': 'South Gate', 'state': 'California', 'country': 'United States', 'country_code': 'us'}, 'boundingbox': ['33.9522395', '33.9524627', '-118.218542', '-118.2181521']}\n"
     ]
    },
    {
     "name": "stderr",
     "output_type": "stream",
     "text": [
      " 73%|███████████████████████████▋          | 397/546 [5:41:15<2:04:09, 50.00s/it]"
     ]
    },
    {
     "name": "stdout",
     "output_type": "stream",
     "text": [
      "{'place_id': 214644689, 'licence': 'Data © OpenStreetMap contributors, ODbL 1.0. https://osm.org/copyright', 'osm_type': 'way', 'osm_id': 603568518, 'lat': '34.08149495', 'lon': '-118.22577561031574', 'display_name': 'Dayton Avenue, Los Angeles, California, United States', 'address': {'neighbourhood': 'Dayton Avenue', 'city': 'Los Angeles', 'state': 'California', 'country': 'United States', 'country_code': 'us'}, 'boundingbox': ['34.0813143', '34.0816606', '-118.225986', '-118.225566']}\n"
     ]
    },
    {
     "name": "stderr",
     "output_type": "stream",
     "text": [
      " 75%|████████████████████████████▎         | 407/546 [5:49:35<1:55:50, 50.00s/it]"
     ]
    },
    {
     "name": "stdout",
     "output_type": "stream",
     "text": [
      "{'place_id': 258919201, 'licence': 'Data © OpenStreetMap contributors, ODbL 1.0. https://osm.org/copyright', 'osm_type': 'relation', 'osm_id': 6670748, 'lat': '34.0563433', 'lon': '-118.25036017946064', 'display_name': 'Promenade Plaza, Bunker Hill, Downtown, Los Angeles, California, United States', 'address': {'road': 'Promenade Plaza', 'neighbourhood': 'Bunker Hill', 'suburb': 'Downtown', 'city': 'Los Angeles', 'state': 'California', 'country': 'United States', 'country_code': 'us'}, 'boundingbox': ['34.0561085', '34.0565849', '-118.2507767', '-118.2501886']}\n",
      "{'place_id': 258919201, 'licence': 'Data © OpenStreetMap contributors, ODbL 1.0. https://osm.org/copyright', 'osm_type': 'relation', 'osm_id': 6670748, 'lat': '34.0563433', 'lon': '-118.25036017946064', 'display_name': 'Promenade Plaza, Bunker Hill, Downtown, Los Angeles, California, United States', 'address': {'road': 'Promenade Plaza', 'neighbourhood': 'Bunker Hill', 'suburb': 'Downtown', 'city': 'Los Angeles', 'state': 'California', 'country': 'United States', 'country_code': 'us'}, 'boundingbox': ['34.0561085', '34.0565849', '-118.2507767', '-118.2501886']}\n"
     ]
    },
    {
     "name": "stderr",
     "output_type": "stream",
     "text": [
      " 80%|██████████████████████████████▍       | 437/546 [6:14:35<1:30:49, 50.00s/it]"
     ]
    },
    {
     "name": "stdout",
     "output_type": "stream",
     "text": [
      "{'place_id': 158701730, 'licence': 'Data © OpenStreetMap contributors, ODbL 1.0. https://osm.org/copyright', 'osm_type': 'way', 'osm_id': 282184291, 'lat': '34.0051551', 'lon': '-118.33074768411242', 'display_name': 'Sidewalk, Leimert Park, Los Angeles, California, United States', 'address': {'road': 'Sidewalk', 'suburb': 'Leimert Park', 'city': 'Los Angeles', 'state': 'California', 'country': 'United States', 'country_code': 'us'}, 'boundingbox': ['34.0043168', '34.0059177', '-118.3313694', '-118.3298781']}\n"
     ]
    },
    {
     "name": "stderr",
     "output_type": "stream",
     "text": [
      " 82%|███████████████████████████████       | 447/546 [6:22:55<1:22:29, 50.00s/it]"
     ]
    },
    {
     "name": "stdout",
     "output_type": "stream",
     "text": [
      "{'place_id': 175015552, 'licence': 'Data © OpenStreetMap contributors, ODbL 1.0. https://osm.org/copyright', 'osm_type': 'way', 'osm_id': 358731585, 'lat': '34.063736199999994', 'lon': '-118.35890315746158', 'display_name': 'Los Angeles County Museum of Art, Smidt Welcome Plaza, Mid-Wilshire, Los Angeles, California, United States', 'address': {'tourism': 'Los Angeles County Museum of Art', 'road': 'Smidt Welcome Plaza', 'suburb': 'Mid-Wilshire', 'city': 'Los Angeles', 'state': 'California', 'country': 'United States', 'country_code': 'us'}, 'boundingbox': ['34.062646', '34.0647496', '-118.3612362', '-118.3564215']}\n"
     ]
    },
    {
     "name": "stderr",
     "output_type": "stream",
     "text": [
      " 85%|████████████████████████████████▏     | 462/546 [6:35:25<1:09:59, 50.00s/it]"
     ]
    },
    {
     "name": "stdout",
     "output_type": "stream",
     "text": [
      "{'place_id': 227437107, 'licence': 'Data © OpenStreetMap contributors, ODbL 1.0. https://osm.org/copyright', 'osm_type': 'way', 'osm_id': 691302470, 'lat': '34.18674225', 'lon': '-118.41817130725752', 'display_name': 'Tujunga Wash Path, Valley Glen, Los Angeles, California, United States', 'address': {'road': 'Tujunga Wash Path', 'suburb': 'Valley Glen', 'city': 'Los Angeles', 'state': 'California', 'country': 'United States', 'country_code': 'us'}, 'boundingbox': ['34.1865612', '34.1868071', '-118.4182703', '-118.4180734']}\n",
      "{'place_id': 227437107, 'licence': 'Data © OpenStreetMap contributors, ODbL 1.0. https://osm.org/copyright', 'osm_type': 'way', 'osm_id': 691302470, 'lat': '34.18674225', 'lon': '-118.41817130725752', 'display_name': 'Tujunga Wash Path, Valley Glen, Los Angeles, California, United States', 'address': {'road': 'Tujunga Wash Path', 'suburb': 'Valley Glen', 'city': 'Los Angeles', 'state': 'California', 'country': 'United States', 'country_code': 'us'}, 'boundingbox': ['34.1865612', '34.1868071', '-118.4182703', '-118.4180734']}\n"
     ]
    },
    {
     "name": "stderr",
     "output_type": "stream",
     "text": [
      " 87%|██████████████████████████████████▉     | 477/546 [6:47:55<57:29, 50.00s/it]"
     ]
    },
    {
     "name": "stdout",
     "output_type": "stream",
     "text": [
      "{'place_id': 187845543, 'licence': 'Data © OpenStreetMap contributors, ODbL 1.0. https://osm.org/copyright', 'osm_type': 'way', 'osm_id': 427817541, 'lat': '34.04926385', 'lon': '-118.240334805294', 'display_name': 'Koyasan Beikoku Betsuin of Los Angeles, Japanese Village Plaza, Little Tokyo, Downtown, Los Angeles, California, United States', 'address': {'amenity': 'Koyasan Beikoku Betsuin of Los Angeles', 'road': 'Japanese Village Plaza', 'suburb': 'Little Tokyo', 'city': 'Los Angeles', 'state': 'California', 'country': 'United States', 'country_code': 'us'}, 'boundingbox': ['34.0490521', '34.0494915', '-118.2405409', '-118.2400888']}\n"
     ]
    },
    {
     "name": "stderr",
     "output_type": "stream",
     "text": [
      " 89%|███████████████████████████████████▍    | 484/546 [6:53:45<51:40, 50.00s/it]"
     ]
    },
    {
     "name": "stdout",
     "output_type": "stream",
     "text": [
      "{'place_id': 187845543, 'licence': 'Data © OpenStreetMap contributors, ODbL 1.0. https://osm.org/copyright', 'osm_type': 'way', 'osm_id': 427817541, 'lat': '34.04926385', 'lon': '-118.240334805294', 'display_name': 'Koyasan Beikoku Betsuin of Los Angeles, Japanese Village Plaza, Little Tokyo, Downtown, Los Angeles, California, United States', 'address': {'amenity': 'Koyasan Beikoku Betsuin of Los Angeles', 'road': 'Japanese Village Plaza', 'suburb': 'Little Tokyo', 'city': 'Los Angeles', 'state': 'California', 'country': 'United States', 'country_code': 'us'}, 'boundingbox': ['34.0490521', '34.0494915', '-118.2405409', '-118.2400888']}\n"
     ]
    },
    {
     "name": "stderr",
     "output_type": "stream",
     "text": [
      " 90%|███████████████████████████████████▊    | 489/546 [6:57:55<47:30, 50.00s/it]"
     ]
    },
    {
     "name": "stdout",
     "output_type": "stream",
     "text": [
      "{'place_id': 187093939, 'licence': 'Data © OpenStreetMap contributors, ODbL 1.0. https://osm.org/copyright', 'osm_type': 'way', 'osm_id': 422477122, 'lat': '34.064715199999995', 'lon': '-118.46917231102992', 'display_name': '134, Barrington Court, Westgate Heights, Brentwood, Los Angeles, California, United States', 'address': {'house_number': '134', 'road': 'Barrington Court', 'neighbourhood': 'Westgate Heights', 'suburb': 'Brentwood', 'city': 'Los Angeles', 'state': 'California', 'country': 'United States', 'country_code': 'us'}, 'boundingbox': ['34.0646594', '34.0648625', '-118.4693337', '-118.469078']}\n"
     ]
    },
    {
     "name": "stderr",
     "output_type": "stream",
     "text": [
      " 91%|████████████████████████████████████▌   | 499/546 [7:06:15<39:10, 50.00s/it]"
     ]
    },
    {
     "name": "stdout",
     "output_type": "stream",
     "text": [
      "{'place_id': 255404299, 'licence': 'Data © OpenStreetMap contributors, ODbL 1.0. https://osm.org/copyright', 'osm_type': 'way', 'osm_id': 848678125, 'lat': '33.9523515', 'lon': '-118.21834477058823', 'display_name': 'Park Walkway, South Gate, California, United States', 'address': {'road': 'Park Walkway', 'city': 'South Gate', 'state': 'California', 'country': 'United States', 'country_code': 'us'}, 'boundingbox': ['33.9522395', '33.9524627', '-118.218542', '-118.2181521']}\n"
     ]
    },
    {
     "name": "stderr",
     "output_type": "stream",
     "text": [
      " 93%|█████████████████████████████████████▎  | 510/546 [7:15:25<29:59, 50.00s/it]"
     ]
    },
    {
     "name": "stdout",
     "output_type": "stream",
     "text": [
      "{'place_id': 198354676, 'licence': 'Data © OpenStreetMap contributors, ODbL 1.0. https://osm.org/copyright', 'osm_type': 'way', 'osm_id': 490390112, 'lat': '34.0612902', 'lon': '-118.30119128156109', 'display_name': 'Metroplex Wilshire, Metro Purple Line Entrance, Koreatown, Los Angeles, California, United States', 'address': {'building': 'Metroplex Wilshire', 'road': 'Metro Purple Line Entrance', 'neighbourhood': 'Koreatown', 'city': 'Los Angeles', 'state': 'California', 'country': 'United States', 'country_code': 'us'}, 'boundingbox': ['34.0610606', '34.0615925', '-118.301397', '-118.3009857']}\n"
     ]
    },
    {
     "name": "stderr",
     "output_type": "stream",
     "text": [
      " 94%|█████████████████████████████████████▌  | 513/546 [7:17:55<27:30, 50.00s/it]"
     ]
    },
    {
     "name": "stdout",
     "output_type": "stream",
     "text": [
      "{'place_id': 314957195, 'licence': 'Data © OpenStreetMap contributors, ODbL 1.0. https://osm.org/copyright', 'osm_type': 'way', 'osm_id': 937473001, 'lat': '34.100960099999995', 'lon': '-118.325929158125', 'display_name': 'W Hotel, Metro Red Line Entrance, Hollywood, Los Angeles, California, United States', 'address': {'tourism': 'W Hotel', 'road': 'Metro Red Line Entrance', 'suburb': 'Hollywood', 'city': 'Los Angeles', 'state': 'California', 'country': 'United States', 'country_code': 'us'}, 'boundingbox': ['34.1004877', '34.1014965', '-118.3265164', '-118.3253242']}\n"
     ]
    },
    {
     "name": "stderr",
     "output_type": "stream",
     "text": [
      " 97%|██████████████████████████████████████▊ | 530/546 [7:32:05<13:19, 50.00s/it]"
     ]
    },
    {
     "name": "stdout",
     "output_type": "stream",
     "text": [
      "{'place_id': 187845543, 'licence': 'Data © OpenStreetMap contributors, ODbL 1.0. https://osm.org/copyright', 'osm_type': 'way', 'osm_id': 427817541, 'lat': '34.04926385', 'lon': '-118.240334805294', 'display_name': 'Koyasan Beikoku Betsuin of Los Angeles, Japanese Village Plaza, Little Tokyo, Downtown, Los Angeles, California, United States', 'address': {'amenity': 'Koyasan Beikoku Betsuin of Los Angeles', 'road': 'Japanese Village Plaza', 'suburb': 'Little Tokyo', 'city': 'Los Angeles', 'state': 'California', 'country': 'United States', 'country_code': 'us'}, 'boundingbox': ['34.0490521', '34.0494915', '-118.2405409', '-118.2400888']}\n"
     ]
    },
    {
     "name": "stderr",
     "output_type": "stream",
     "text": [
      " 99%|███████████████████████████████████████▊| 543/546 [7:42:55<02:29, 50.00s/it]"
     ]
    },
    {
     "name": "stdout",
     "output_type": "stream",
     "text": [
      "{'place_id': 186520734, 'licence': 'Data © OpenStreetMap contributors, ODbL 1.0. https://osm.org/copyright', 'osm_type': 'way', 'osm_id': 422477118, 'lat': '34.0646084', 'lon': '-118.4698702265761', 'display_name': '115, Barrington Court, Westgate Heights, Brentwood, Los Angeles, California, United States', 'address': {'house_number': '115', 'road': 'Barrington Court', 'neighbourhood': 'Westgate Heights', 'suburb': 'Brentwood', 'city': 'Los Angeles', 'state': 'California', 'country': 'United States', 'country_code': 'us'}, 'boundingbox': ['34.064378', '34.0647259', '-118.4700083', '-118.4697503']}\n"
     ]
    },
    {
     "name": "stderr",
     "output_type": "stream",
     "text": [
      "\r",
      "100%|███████████████████████████████████████▊| 544/546 [7:43:45<01:40, 50.00s/it]"
     ]
    },
    {
     "name": "stdout",
     "output_type": "stream",
     "text": [
      "{'place_id': 311683992, 'licence': 'Data © OpenStreetMap contributors, ODbL 1.0. https://osm.org/copyright', 'osm_type': 'way', 'osm_id': 926486031, 'lat': '34.1383625', 'lon': '-118.3539422460908', 'display_name': 'Butterbeer Cart, USH Upper Lot Walkways, Universal City, California, United States', 'address': {'shop': 'Butterbeer Cart', 'road': 'USH Upper Lot Walkways', 'neighbourhood': 'Universal City', 'suburb': 'Universal City', 'state': 'California', 'country': 'United States', 'country_code': 'us'}, 'boundingbox': ['34.1383504', '34.1383745', '-118.3539628', '-118.3539217']}\n"
     ]
    },
    {
     "name": "stderr",
     "output_type": "stream",
     "text": [
      "100%|████████████████████████████████████████| 546/546 [7:44:39<00:00, 51.06s/it]\n"
     ]
    }
   ],
   "source": [
    "def get_zipcode(df, geolocator):\n",
    "    try:\n",
    "        location = geolocator.reverse((df['latitude'], df['longitude']))\n",
    "    except:\n",
    "        return 'N/A'\n",
    "    if 'address' in location.raw:\n",
    "        if 'postcode' in location.raw['address']:\n",
    "            return location.raw['address']['postcode']\n",
    "    print(location.raw)\n",
    "    return 'N/A'\n",
    "    \n",
    "from tqdm import tqdm    \n",
    "tqdm.pandas()\n",
    "geolocator = geopy.Nominatim(user_agent='DataCompetition')\n",
    "for i in tqdm(range(len(zips)*100,len(venues), 100)):\n",
    "    zips.append(venues[i:i+100].apply(get_zipcode, axis=1, geolocator=geolocator))"
   ]
  },
  {
   "cell_type": "code",
   "execution_count": 31,
   "id": "4c9b736a",
   "metadata": {},
   "outputs": [],
   "source": [
    "flat_list = [item for sublist in zips for item in sublist]"
   ]
  },
  {
   "cell_type": "code",
   "execution_count": 32,
   "id": "f564e198",
   "metadata": {},
   "outputs": [
    {
     "data": {
      "text/plain": [
       "121007"
      ]
     },
     "execution_count": 32,
     "metadata": {},
     "output_type": "execute_result"
    }
   ],
   "source": [
    "len(flat_list)"
   ]
  },
  {
   "cell_type": "code",
   "execution_count": 33,
   "id": "86f7138f",
   "metadata": {},
   "outputs": [],
   "source": [
    "venues['zipcodes'] = flat_list"
   ]
  },
  {
   "cell_type": "code",
   "execution_count": 34,
   "id": "6ccbb68b",
   "metadata": {},
   "outputs": [],
   "source": [
    "venues.to_csv('data/venues_w_zip.csv')\n"
   ]
  },
  {
   "cell_type": "code",
   "execution_count": 25,
   "id": "63ecdab0",
   "metadata": {},
   "outputs": [
    {
     "data": {
      "text/plain": [
       "0     28720\n",
       "1     28711\n",
       "2     28711\n",
       "3     28757\n",
       "4     28714\n",
       "      ...  \n",
       "95    28815\n",
       "96      N/A\n",
       "97    28791\n",
       "98    28791\n",
       "99    28791\n",
       "Length: 100, dtype: object"
      ]
     },
     "execution_count": 25,
     "metadata": {},
     "output_type": "execute_result"
    }
   ],
   "source": [
    "zips[0]"
   ]
  },
  {
   "cell_type": "code",
   "execution_count": 27,
   "id": "7dfe5db4",
   "metadata": {},
   "outputs": [
    {
     "data": {
      "text/html": [
       "<div>\n",
       "<style scoped>\n",
       "    .dataframe tbody tr th:only-of-type {\n",
       "        vertical-align: middle;\n",
       "    }\n",
       "\n",
       "    .dataframe tbody tr th {\n",
       "        vertical-align: top;\n",
       "    }\n",
       "\n",
       "    .dataframe thead th {\n",
       "        text-align: right;\n",
       "    }\n",
       "</style>\n",
       "<table border=\"1\" class=\"dataframe\">\n",
       "  <thead>\n",
       "    <tr style=\"text-align: right;\">\n",
       "      <th></th>\n",
       "      <th>accommodates</th>\n",
       "      <th>amenities</th>\n",
       "      <th>availability_30</th>\n",
       "      <th>bathrooms</th>\n",
       "      <th>bed_type</th>\n",
       "      <th>bedrooms</th>\n",
       "      <th>beds</th>\n",
       "      <th>cancellation_policy</th>\n",
       "      <th>city</th>\n",
       "      <th>has_availability</th>\n",
       "      <th>...</th>\n",
       "      <th>review_scores_checkin</th>\n",
       "      <th>review_scores_cleanliness</th>\n",
       "      <th>review_scores_communication</th>\n",
       "      <th>review_scores_location</th>\n",
       "      <th>review_scores_rating</th>\n",
       "      <th>review_scores_value</th>\n",
       "      <th>room_type</th>\n",
       "      <th>state</th>\n",
       "      <th>weekly_price</th>\n",
       "      <th>zipcode</th>\n",
       "    </tr>\n",
       "  </thead>\n",
       "  <tbody>\n",
       "    <tr>\n",
       "      <th>0</th>\n",
       "      <td>2.0</td>\n",
       "      <td>{\"Wireless Internet\",\"Air Conditioning\",Kitche...</td>\n",
       "      <td>0</td>\n",
       "      <td>1.0</td>\n",
       "      <td>Real Bed</td>\n",
       "      <td>1.0</td>\n",
       "      <td>1.0</td>\n",
       "      <td>moderate</td>\n",
       "      <td>Asheville</td>\n",
       "      <td>NaN</td>\n",
       "      <td>...</td>\n",
       "      <td>10.0</td>\n",
       "      <td>9.0</td>\n",
       "      <td>10.0</td>\n",
       "      <td>9.0</td>\n",
       "      <td>96.0</td>\n",
       "      <td>10.0</td>\n",
       "      <td>Entire home/apt</td>\n",
       "      <td>NC</td>\n",
       "      <td>$650.00</td>\n",
       "      <td>28806.0</td>\n",
       "    </tr>\n",
       "    <tr>\n",
       "      <th>1</th>\n",
       "      <td>4.0</td>\n",
       "      <td>{TV,\"Cable TV\",Internet,\"Wireless Internet\",\"A...</td>\n",
       "      <td>17</td>\n",
       "      <td>1.0</td>\n",
       "      <td>Real Bed</td>\n",
       "      <td>1.0</td>\n",
       "      <td>2.0</td>\n",
       "      <td>strict</td>\n",
       "      <td>Asheville</td>\n",
       "      <td>NaN</td>\n",
       "      <td>...</td>\n",
       "      <td>10.0</td>\n",
       "      <td>10.0</td>\n",
       "      <td>10.0</td>\n",
       "      <td>9.0</td>\n",
       "      <td>96.0</td>\n",
       "      <td>9.0</td>\n",
       "      <td>Entire home/apt</td>\n",
       "      <td>NC</td>\n",
       "      <td>NaN</td>\n",
       "      <td>28806.0</td>\n",
       "    </tr>\n",
       "    <tr>\n",
       "      <th>2</th>\n",
       "      <td>1.0</td>\n",
       "      <td>{TV,\"Wireless Internet\",\"Air Conditioning\",Kit...</td>\n",
       "      <td>29</td>\n",
       "      <td>1.0</td>\n",
       "      <td>Real Bed</td>\n",
       "      <td>1.0</td>\n",
       "      <td>1.0</td>\n",
       "      <td>flexible</td>\n",
       "      <td>Asheville</td>\n",
       "      <td>NaN</td>\n",
       "      <td>...</td>\n",
       "      <td>NaN</td>\n",
       "      <td>NaN</td>\n",
       "      <td>NaN</td>\n",
       "      <td>NaN</td>\n",
       "      <td>NaN</td>\n",
       "      <td>NaN</td>\n",
       "      <td>Private room</td>\n",
       "      <td>NC</td>\n",
       "      <td>NaN</td>\n",
       "      <td>28806.0</td>\n",
       "    </tr>\n",
       "    <tr>\n",
       "      <th>3</th>\n",
       "      <td>6.0</td>\n",
       "      <td>{Internet,\"Wireless Internet\",\"Air Conditionin...</td>\n",
       "      <td>28</td>\n",
       "      <td>2.5</td>\n",
       "      <td>Real Bed</td>\n",
       "      <td>1.0</td>\n",
       "      <td>6.0</td>\n",
       "      <td>moderate</td>\n",
       "      <td>Asheville</td>\n",
       "      <td>NaN</td>\n",
       "      <td>...</td>\n",
       "      <td>NaN</td>\n",
       "      <td>NaN</td>\n",
       "      <td>NaN</td>\n",
       "      <td>NaN</td>\n",
       "      <td>NaN</td>\n",
       "      <td>NaN</td>\n",
       "      <td>Shared room</td>\n",
       "      <td>NC</td>\n",
       "      <td>NaN</td>\n",
       "      <td>28806.0</td>\n",
       "    </tr>\n",
       "    <tr>\n",
       "      <th>4</th>\n",
       "      <td>6.0</td>\n",
       "      <td>{Internet,\"Wireless Internet\",\"Free Parking on...</td>\n",
       "      <td>25</td>\n",
       "      <td>2.5</td>\n",
       "      <td>Real Bed</td>\n",
       "      <td>1.0</td>\n",
       "      <td>6.0</td>\n",
       "      <td>moderate</td>\n",
       "      <td>Asheville</td>\n",
       "      <td>NaN</td>\n",
       "      <td>...</td>\n",
       "      <td>10.0</td>\n",
       "      <td>9.0</td>\n",
       "      <td>9.0</td>\n",
       "      <td>9.0</td>\n",
       "      <td>93.0</td>\n",
       "      <td>10.0</td>\n",
       "      <td>Shared room</td>\n",
       "      <td>NC</td>\n",
       "      <td>NaN</td>\n",
       "      <td>28806.0</td>\n",
       "    </tr>\n",
       "    <tr>\n",
       "      <th>...</th>\n",
       "      <td>...</td>\n",
       "      <td>...</td>\n",
       "      <td>...</td>\n",
       "      <td>...</td>\n",
       "      <td>...</td>\n",
       "      <td>...</td>\n",
       "      <td>...</td>\n",
       "      <td>...</td>\n",
       "      <td>...</td>\n",
       "      <td>...</td>\n",
       "      <td>...</td>\n",
       "      <td>...</td>\n",
       "      <td>...</td>\n",
       "      <td>...</td>\n",
       "      <td>...</td>\n",
       "      <td>...</td>\n",
       "      <td>...</td>\n",
       "      <td>...</td>\n",
       "      <td>...</td>\n",
       "      <td>...</td>\n",
       "      <td>...</td>\n",
       "    </tr>\n",
       "    <tr>\n",
       "      <th>50316</th>\n",
       "      <td>2.0</td>\n",
       "      <td>{TV,\"Cable TV\",\"Wireless Internet\",\"Pets live ...</td>\n",
       "      <td>29</td>\n",
       "      <td>1.0</td>\n",
       "      <td>Real Bed</td>\n",
       "      <td>1.0</td>\n",
       "      <td>1.0</td>\n",
       "      <td>flexible</td>\n",
       "      <td>la habra</td>\n",
       "      <td>NaN</td>\n",
       "      <td>...</td>\n",
       "      <td>NaN</td>\n",
       "      <td>NaN</td>\n",
       "      <td>NaN</td>\n",
       "      <td>NaN</td>\n",
       "      <td>NaN</td>\n",
       "      <td>NaN</td>\n",
       "      <td>Private room</td>\n",
       "      <td>CA</td>\n",
       "      <td>NaN</td>\n",
       "      <td>90631</td>\n",
       "    </tr>\n",
       "    <tr>\n",
       "      <th>50317</th>\n",
       "      <td>2.0</td>\n",
       "      <td>{\"Wireless Internet\",Kitchen,\"Free parking on ...</td>\n",
       "      <td>29</td>\n",
       "      <td>1.0</td>\n",
       "      <td>Real Bed</td>\n",
       "      <td>1.0</td>\n",
       "      <td>1.0</td>\n",
       "      <td>strict</td>\n",
       "      <td>malibu</td>\n",
       "      <td>NaN</td>\n",
       "      <td>...</td>\n",
       "      <td>NaN</td>\n",
       "      <td>NaN</td>\n",
       "      <td>NaN</td>\n",
       "      <td>NaN</td>\n",
       "      <td>NaN</td>\n",
       "      <td>NaN</td>\n",
       "      <td>Private room</td>\n",
       "      <td>CA</td>\n",
       "      <td>NaN</td>\n",
       "      <td>90265</td>\n",
       "    </tr>\n",
       "    <tr>\n",
       "      <th>50318</th>\n",
       "      <td>10.0</td>\n",
       "      <td>{TV,\"Wireless Internet\",\"Air conditioning\",Kit...</td>\n",
       "      <td>29</td>\n",
       "      <td>5.0</td>\n",
       "      <td>Real Bed</td>\n",
       "      <td>5.0</td>\n",
       "      <td>5.0</td>\n",
       "      <td>flexible</td>\n",
       "      <td>malibu</td>\n",
       "      <td>NaN</td>\n",
       "      <td>...</td>\n",
       "      <td>NaN</td>\n",
       "      <td>NaN</td>\n",
       "      <td>NaN</td>\n",
       "      <td>NaN</td>\n",
       "      <td>NaN</td>\n",
       "      <td>NaN</td>\n",
       "      <td>Entire home/apt</td>\n",
       "      <td>CA</td>\n",
       "      <td>NaN</td>\n",
       "      <td>90265</td>\n",
       "    </tr>\n",
       "    <tr>\n",
       "      <th>50319</th>\n",
       "      <td>4.0</td>\n",
       "      <td>{TV,Internet,\"Wireless Internet\",\"Air conditio...</td>\n",
       "      <td>28</td>\n",
       "      <td>1.0</td>\n",
       "      <td>Real Bed</td>\n",
       "      <td>2.0</td>\n",
       "      <td>2.0</td>\n",
       "      <td>moderate</td>\n",
       "      <td>la habra</td>\n",
       "      <td>NaN</td>\n",
       "      <td>...</td>\n",
       "      <td>NaN</td>\n",
       "      <td>NaN</td>\n",
       "      <td>NaN</td>\n",
       "      <td>NaN</td>\n",
       "      <td>NaN</td>\n",
       "      <td>NaN</td>\n",
       "      <td>Private room</td>\n",
       "      <td>CA</td>\n",
       "      <td>NaN</td>\n",
       "      <td>90631</td>\n",
       "    </tr>\n",
       "    <tr>\n",
       "      <th>50320</th>\n",
       "      <td>8.0</td>\n",
       "      <td>{TV,\"Wireless Internet\",\"Air conditioning\",Kit...</td>\n",
       "      <td>24</td>\n",
       "      <td>4.0</td>\n",
       "      <td>Real Bed</td>\n",
       "      <td>3.0</td>\n",
       "      <td>6.0</td>\n",
       "      <td>flexible</td>\n",
       "      <td>malibu</td>\n",
       "      <td>NaN</td>\n",
       "      <td>...</td>\n",
       "      <td>NaN</td>\n",
       "      <td>NaN</td>\n",
       "      <td>NaN</td>\n",
       "      <td>NaN</td>\n",
       "      <td>NaN</td>\n",
       "      <td>NaN</td>\n",
       "      <td>Entire home/apt</td>\n",
       "      <td>CA</td>\n",
       "      <td>NaN</td>\n",
       "      <td>90265</td>\n",
       "    </tr>\n",
       "  </tbody>\n",
       "</table>\n",
       "<p>50321 rows × 29 columns</p>\n",
       "</div>"
      ],
      "text/plain": [
       "       accommodates                                          amenities  \\\n",
       "0               2.0  {\"Wireless Internet\",\"Air Conditioning\",Kitche...   \n",
       "1               4.0  {TV,\"Cable TV\",Internet,\"Wireless Internet\",\"A...   \n",
       "2               1.0  {TV,\"Wireless Internet\",\"Air Conditioning\",Kit...   \n",
       "3               6.0  {Internet,\"Wireless Internet\",\"Air Conditionin...   \n",
       "4               6.0  {Internet,\"Wireless Internet\",\"Free Parking on...   \n",
       "...             ...                                                ...   \n",
       "50316           2.0  {TV,\"Cable TV\",\"Wireless Internet\",\"Pets live ...   \n",
       "50317           2.0  {\"Wireless Internet\",Kitchen,\"Free parking on ...   \n",
       "50318          10.0  {TV,\"Wireless Internet\",\"Air conditioning\",Kit...   \n",
       "50319           4.0  {TV,Internet,\"Wireless Internet\",\"Air conditio...   \n",
       "50320           8.0  {TV,\"Wireless Internet\",\"Air conditioning\",Kit...   \n",
       "\n",
       "       availability_30  bathrooms  bed_type  bedrooms  beds  \\\n",
       "0                    0        1.0  Real Bed       1.0   1.0   \n",
       "1                   17        1.0  Real Bed       1.0   2.0   \n",
       "2                   29        1.0  Real Bed       1.0   1.0   \n",
       "3                   28        2.5  Real Bed       1.0   6.0   \n",
       "4                   25        2.5  Real Bed       1.0   6.0   \n",
       "...                ...        ...       ...       ...   ...   \n",
       "50316               29        1.0  Real Bed       1.0   1.0   \n",
       "50317               29        1.0  Real Bed       1.0   1.0   \n",
       "50318               29        5.0  Real Bed       5.0   5.0   \n",
       "50319               28        1.0  Real Bed       2.0   2.0   \n",
       "50320               24        4.0  Real Bed       3.0   6.0   \n",
       "\n",
       "      cancellation_policy       city  has_availability  ...  \\\n",
       "0                moderate  Asheville               NaN  ...   \n",
       "1                  strict  Asheville               NaN  ...   \n",
       "2                flexible  Asheville               NaN  ...   \n",
       "3                moderate  Asheville               NaN  ...   \n",
       "4                moderate  Asheville               NaN  ...   \n",
       "...                   ...        ...               ...  ...   \n",
       "50316            flexible   la habra               NaN  ...   \n",
       "50317              strict     malibu               NaN  ...   \n",
       "50318            flexible     malibu               NaN  ...   \n",
       "50319            moderate   la habra               NaN  ...   \n",
       "50320            flexible     malibu               NaN  ...   \n",
       "\n",
       "       review_scores_checkin  review_scores_cleanliness  \\\n",
       "0                       10.0                        9.0   \n",
       "1                       10.0                       10.0   \n",
       "2                        NaN                        NaN   \n",
       "3                        NaN                        NaN   \n",
       "4                       10.0                        9.0   \n",
       "...                      ...                        ...   \n",
       "50316                    NaN                        NaN   \n",
       "50317                    NaN                        NaN   \n",
       "50318                    NaN                        NaN   \n",
       "50319                    NaN                        NaN   \n",
       "50320                    NaN                        NaN   \n",
       "\n",
       "      review_scores_communication  review_scores_location  \\\n",
       "0                            10.0                     9.0   \n",
       "1                            10.0                     9.0   \n",
       "2                             NaN                     NaN   \n",
       "3                             NaN                     NaN   \n",
       "4                             9.0                     9.0   \n",
       "...                           ...                     ...   \n",
       "50316                         NaN                     NaN   \n",
       "50317                         NaN                     NaN   \n",
       "50318                         NaN                     NaN   \n",
       "50319                         NaN                     NaN   \n",
       "50320                         NaN                     NaN   \n",
       "\n",
       "       review_scores_rating review_scores_value        room_type state  \\\n",
       "0                      96.0                10.0  Entire home/apt    NC   \n",
       "1                      96.0                 9.0  Entire home/apt    NC   \n",
       "2                       NaN                 NaN     Private room    NC   \n",
       "3                       NaN                 NaN      Shared room    NC   \n",
       "4                      93.0                10.0      Shared room    NC   \n",
       "...                     ...                 ...              ...   ...   \n",
       "50316                   NaN                 NaN     Private room    CA   \n",
       "50317                   NaN                 NaN     Private room    CA   \n",
       "50318                   NaN                 NaN  Entire home/apt    CA   \n",
       "50319                   NaN                 NaN     Private room    CA   \n",
       "50320                   NaN                 NaN  Entire home/apt    CA   \n",
       "\n",
       "      weekly_price  zipcode  \n",
       "0          $650.00  28806.0  \n",
       "1              NaN  28806.0  \n",
       "2              NaN  28806.0  \n",
       "3              NaN  28806.0  \n",
       "4              NaN  28806.0  \n",
       "...            ...      ...  \n",
       "50316          NaN    90631  \n",
       "50317          NaN    90265  \n",
       "50318          NaN    90265  \n",
       "50319          NaN    90631  \n",
       "50320          NaN    90265  \n",
       "\n",
       "[50321 rows x 29 columns]"
      ]
     },
     "execution_count": 27,
     "metadata": {},
     "output_type": "execute_result"
    }
   ],
   "source": [
    "listings"
   ]
  },
  {
   "cell_type": "code",
   "execution_count": null,
   "id": "b1c5a0c8",
   "metadata": {},
   "outputs": [],
   "source": [
    "venues"
   ]
  },
  {
   "cell_type": "code",
   "execution_count": null,
   "id": "d1dab371",
   "metadata": {},
   "outputs": [],
   "source": [
    "venues.columns"
   ]
  },
  {
   "cell_type": "code",
   "execution_count": null,
   "id": "347db627",
   "metadata": {},
   "outputs": [],
   "source": [
    "real_estate"
   ]
  },
  {
   "cell_type": "code",
   "execution_count": 16,
   "id": "a7e70a25",
   "metadata": {},
   "outputs": [
    {
     "data": {
      "text/plain": [
       "Index(['accommodates', 'amenities', 'availability_30', 'bathrooms', 'bed_type',\n",
       "       'bedrooms', 'beds', 'cancellation_policy', 'city', 'has_availability',\n",
       "       'host_id', 'id', 'instant_bookable', 'latitude', 'longitude',\n",
       "       'metropolitan', 'name', 'price', 'property_type',\n",
       "       'review_scores_checkin', 'review_scores_cleanliness',\n",
       "       'review_scores_communication', 'review_scores_location',\n",
       "       'review_scores_rating', 'review_scores_value', 'room_type', 'state',\n",
       "       'weekly_price', 'zipcode'],\n",
       "      dtype='object')"
      ]
     },
     "execution_count": 16,
     "metadata": {},
     "output_type": "execute_result"
    }
   ],
   "source": [
    "listings.columns"
   ]
  },
  {
   "cell_type": "code",
   "execution_count": 9,
   "id": "e13a68b2",
   "metadata": {},
   "outputs": [
    {
     "data": {
      "text/plain": [
       "121007"
      ]
     },
     "execution_count": 9,
     "metadata": {},
     "output_type": "execute_result"
    }
   ],
   "source": [
    "len(venues)"
   ]
  },
  {
   "cell_type": "code",
   "execution_count": 11,
   "id": "d36985fc",
   "metadata": {},
   "outputs": [
    {
     "data": {
      "text/plain": [
       "18383955"
      ]
     },
     "execution_count": 11,
     "metadata": {},
     "output_type": "execute_result"
    }
   ],
   "source": [
    "len(calendar)"
   ]
  },
  {
   "cell_type": "code",
   "execution_count": 13,
   "id": "e15792c7",
   "metadata": {},
   "outputs": [
    {
     "data": {
      "text/html": [
       "<div>\n",
       "<style scoped>\n",
       "    .dataframe tbody tr th:only-of-type {\n",
       "        vertical-align: middle;\n",
       "    }\n",
       "\n",
       "    .dataframe tbody tr th {\n",
       "        vertical-align: top;\n",
       "    }\n",
       "\n",
       "    .dataframe thead th {\n",
       "        text-align: right;\n",
       "    }\n",
       "</style>\n",
       "<table border=\"1\" class=\"dataframe\">\n",
       "  <thead>\n",
       "    <tr style=\"text-align: right;\">\n",
       "      <th></th>\n",
       "      <th>listing_id</th>\n",
       "      <th>date</th>\n",
       "      <th>available</th>\n",
       "      <th>price</th>\n",
       "      <th>metro_area</th>\n",
       "    </tr>\n",
       "  </thead>\n",
       "  <tbody>\n",
       "    <tr>\n",
       "      <th>0</th>\n",
       "      <td>665257</td>\n",
       "      <td>2016-04-22</td>\n",
       "      <td>f</td>\n",
       "      <td>NaN</td>\n",
       "      <td>asheville</td>\n",
       "    </tr>\n",
       "    <tr>\n",
       "      <th>1</th>\n",
       "      <td>665257</td>\n",
       "      <td>2016-04-23</td>\n",
       "      <td>f</td>\n",
       "      <td>NaN</td>\n",
       "      <td>asheville</td>\n",
       "    </tr>\n",
       "    <tr>\n",
       "      <th>2</th>\n",
       "      <td>665257</td>\n",
       "      <td>2016-04-24</td>\n",
       "      <td>f</td>\n",
       "      <td>NaN</td>\n",
       "      <td>asheville</td>\n",
       "    </tr>\n",
       "    <tr>\n",
       "      <th>3</th>\n",
       "      <td>665257</td>\n",
       "      <td>2016-04-25</td>\n",
       "      <td>f</td>\n",
       "      <td>NaN</td>\n",
       "      <td>asheville</td>\n",
       "    </tr>\n",
       "    <tr>\n",
       "      <th>4</th>\n",
       "      <td>665257</td>\n",
       "      <td>2016-04-26</td>\n",
       "      <td>f</td>\n",
       "      <td>NaN</td>\n",
       "      <td>asheville</td>\n",
       "    </tr>\n",
       "  </tbody>\n",
       "</table>\n",
       "</div>"
      ],
      "text/plain": [
       "   listing_id        date available price metro_area\n",
       "0      665257  2016-04-22         f   NaN  asheville\n",
       "1      665257  2016-04-23         f   NaN  asheville\n",
       "2      665257  2016-04-24         f   NaN  asheville\n",
       "3      665257  2016-04-25         f   NaN  asheville\n",
       "4      665257  2016-04-26         f   NaN  asheville"
      ]
     },
     "execution_count": 13,
     "metadata": {},
     "output_type": "execute_result"
    }
   ],
   "source": [
    "calendar"
   ]
  },
  {
   "cell_type": "code",
   "execution_count": 19,
   "id": "091da0dc",
   "metadata": {},
   "outputs": [],
   "source": [
    "cal = calendar.merge(listings, how='inner', left_on='listing_id', right_on='id')"
   ]
  },
  {
   "cell_type": "code",
   "execution_count": 20,
   "id": "068d07d6",
   "metadata": {},
   "outputs": [],
   "source": [
    "cal_group = cal.groupby(['listing_id','available'])"
   ]
  },
  {
   "cell_type": "code",
   "execution_count": 22,
   "id": "bea43132",
   "metadata": {},
   "outputs": [],
   "source": [
    "listing_avail = cal_group.count()['date']"
   ]
  },
  {
   "cell_type": "code",
   "execution_count": 23,
   "id": "752ecb93",
   "metadata": {},
   "outputs": [
    {
     "data": {
      "text/plain": [
       "listing_id  available\n",
       "109         f            365\n",
       "344         f            365\n",
       "941         f            206\n",
       "            t            159\n",
       "1078        f            337\n",
       "                        ... \n",
       "19035679    t            358\n",
       "19037230    f            263\n",
       "            t            102\n",
       "19038571    f            225\n",
       "            t            140\n",
       "Name: date, Length: 89565, dtype: int64"
      ]
     },
     "execution_count": 23,
     "metadata": {},
     "output_type": "execute_result"
    }
   ],
   "source": [
    "listing_avail"
   ]
  },
  {
   "cell_type": "code",
   "execution_count": 25,
   "id": "4adc39a3",
   "metadata": {},
   "outputs": [],
   "source": [
    "listing_avail = listing_avail.reset_index()"
   ]
  },
  {
   "cell_type": "code",
   "execution_count": 27,
   "id": "d3ffe33b",
   "metadata": {},
   "outputs": [
    {
     "data": {
      "text/plain": [
       "121007"
      ]
     },
     "execution_count": 27,
     "metadata": {},
     "output_type": "execute_result"
    }
   ],
   "source": [
    "len(venues)"
   ]
  },
  {
   "cell_type": "code",
   "execution_count": 32,
   "id": "cdfecd5e",
   "metadata": {},
   "outputs": [
    {
     "data": {
      "text/html": [
       "<div>\n",
       "<style scoped>\n",
       "    .dataframe tbody tr th:only-of-type {\n",
       "        vertical-align: middle;\n",
       "    }\n",
       "\n",
       "    .dataframe tbody tr th {\n",
       "        vertical-align: top;\n",
       "    }\n",
       "\n",
       "    .dataframe thead th {\n",
       "        text-align: right;\n",
       "    }\n",
       "</style>\n",
       "<table border=\"1\" class=\"dataframe\">\n",
       "  <thead>\n",
       "    <tr style=\"text-align: right;\">\n",
       "      <th></th>\n",
       "      <th>latitude</th>\n",
       "      <th>longitude</th>\n",
       "      <th>city</th>\n",
       "    </tr>\n",
       "  </thead>\n",
       "  <tbody>\n",
       "    <tr>\n",
       "      <th>0</th>\n",
       "      <td>35.590784</td>\n",
       "      <td>-82.591466</td>\n",
       "      <td>Asheville</td>\n",
       "    </tr>\n",
       "    <tr>\n",
       "      <th>1</th>\n",
       "      <td>35.584968</td>\n",
       "      <td>-82.632199</td>\n",
       "      <td>Asheville</td>\n",
       "    </tr>\n",
       "    <tr>\n",
       "      <th>2</th>\n",
       "      <td>35.626600</td>\n",
       "      <td>-82.637618</td>\n",
       "      <td>Asheville</td>\n",
       "    </tr>\n",
       "    <tr>\n",
       "      <th>3</th>\n",
       "      <td>35.579159</td>\n",
       "      <td>-82.596392</td>\n",
       "      <td>Asheville</td>\n",
       "    </tr>\n",
       "    <tr>\n",
       "      <th>4</th>\n",
       "      <td>35.577755</td>\n",
       "      <td>-82.594996</td>\n",
       "      <td>Asheville</td>\n",
       "    </tr>\n",
       "  </tbody>\n",
       "</table>\n",
       "</div>"
      ],
      "text/plain": [
       "    latitude  longitude       city\n",
       "0  35.590784 -82.591466  Asheville\n",
       "1  35.584968 -82.632199  Asheville\n",
       "2  35.626600 -82.637618  Asheville\n",
       "3  35.579159 -82.596392  Asheville\n",
       "4  35.577755 -82.594996  Asheville"
      ]
     },
     "execution_count": 32,
     "metadata": {},
     "output_type": "execute_result"
    }
   ],
   "source": [
    "listings.head(5)[['latitude', 'longitude', 'city']]"
   ]
  },
  {
   "cell_type": "code",
   "execution_count": 38,
   "id": "b2d868a6",
   "metadata": {},
   "outputs": [],
   "source": [
    "lat = 35.590784\n",
    "lon = -82.591466"
   ]
  },
  {
   "cell_type": "code",
   "execution_count": 35,
   "id": "dab5e75f",
   "metadata": {},
   "outputs": [],
   "source": [
    "venues_asheville = venues[venues['city'] == 'asheville']"
   ]
  },
  {
   "cell_type": "code",
   "execution_count": 47,
   "id": "586683fe",
   "metadata": {},
   "outputs": [],
   "source": [
    "from geopy.distance import geodesic"
   ]
  },
  {
   "cell_type": "code",
   "execution_count": 10,
   "id": "bffa4beb",
   "metadata": {},
   "outputs": [],
   "source": [
    "import geopy"
   ]
  },
  {
   "cell_type": "code",
   "execution_count": 50,
   "id": "58734f74",
   "metadata": {},
   "outputs": [
    {
     "data": {
      "text/html": [
       "<div>\n",
       "<style scoped>\n",
       "    .dataframe tbody tr th:only-of-type {\n",
       "        vertical-align: middle;\n",
       "    }\n",
       "\n",
       "    .dataframe tbody tr th {\n",
       "        vertical-align: top;\n",
       "    }\n",
       "\n",
       "    .dataframe thead th {\n",
       "        text-align: right;\n",
       "    }\n",
       "</style>\n",
       "<table border=\"1\" class=\"dataframe\">\n",
       "  <thead>\n",
       "    <tr style=\"text-align: right;\">\n",
       "      <th></th>\n",
       "      <th>city</th>\n",
       "      <th>id</th>\n",
       "      <th>latitude</th>\n",
       "      <th>longitude</th>\n",
       "      <th>name</th>\n",
       "      <th>rating</th>\n",
       "      <th>types</th>\n",
       "    </tr>\n",
       "  </thead>\n",
       "  <tbody>\n",
       "    <tr>\n",
       "      <th>0</th>\n",
       "      <td>asheville</td>\n",
       "      <td>8736e812595db852ccab223019a477b918b64d4d</td>\n",
       "      <td>35.442805</td>\n",
       "      <td>-82.264081</td>\n",
       "      <td>The Esmeralda Inn &amp; Restaurant</td>\n",
       "      <td>4.4</td>\n",
       "      <td>['lodging', 'restaurant', 'food', 'point_of_in...</td>\n",
       "    </tr>\n",
       "    <tr>\n",
       "      <th>1</th>\n",
       "      <td>asheville</td>\n",
       "      <td>479c99c6cc5aa91a6161fecc48bd24258a74bd58</td>\n",
       "      <td>35.564035</td>\n",
       "      <td>-82.278943</td>\n",
       "      <td>Straightaway Cafe</td>\n",
       "      <td>4.5</td>\n",
       "      <td>['restaurant', 'food', 'point_of_interest', 'e...</td>\n",
       "    </tr>\n",
       "    <tr>\n",
       "      <th>2</th>\n",
       "      <td>asheville</td>\n",
       "      <td>3e41ce673ee203416cb6f44894e49b2ee93347b1</td>\n",
       "      <td>35.564140</td>\n",
       "      <td>-82.278953</td>\n",
       "      <td>straightaway cafe</td>\n",
       "      <td>NaN</td>\n",
       "      <td>['restaurant', 'food', 'point_of_interest', 'e...</td>\n",
       "    </tr>\n",
       "    <tr>\n",
       "      <th>3</th>\n",
       "      <td>asheville</td>\n",
       "      <td>ce0b0e6fc251f546370fed20d39778ea796e5475</td>\n",
       "      <td>35.646791</td>\n",
       "      <td>-82.299074</td>\n",
       "      <td>The Huckleberry Cafe</td>\n",
       "      <td>5.0</td>\n",
       "      <td>['restaurant', 'food', 'point_of_interest', 'e...</td>\n",
       "    </tr>\n",
       "    <tr>\n",
       "      <th>4</th>\n",
       "      <td>asheville</td>\n",
       "      <td>f60446561634f4d44e6563dcf17f2b65eb4096f2</td>\n",
       "      <td>35.752135</td>\n",
       "      <td>-82.273258</td>\n",
       "      <td>Mount Mitchell State Park- Restaurant</td>\n",
       "      <td>4.0</td>\n",
       "      <td>['restaurant', 'food', 'point_of_interest', 'e...</td>\n",
       "    </tr>\n",
       "    <tr>\n",
       "      <th>...</th>\n",
       "      <td>...</td>\n",
       "      <td>...</td>\n",
       "      <td>...</td>\n",
       "      <td>...</td>\n",
       "      <td>...</td>\n",
       "      <td>...</td>\n",
       "      <td>...</td>\n",
       "    </tr>\n",
       "    <tr>\n",
       "      <th>6431</th>\n",
       "      <td>asheville</td>\n",
       "      <td>c5f6384c485737f6c667b611a93365bd995165c4</td>\n",
       "      <td>35.657162</td>\n",
       "      <td>-82.865561</td>\n",
       "      <td>Mount Soma Community</td>\n",
       "      <td>4.9</td>\n",
       "      <td>['travel_agency', 'point_of_interest', 'establ...</td>\n",
       "    </tr>\n",
       "    <tr>\n",
       "      <th>6432</th>\n",
       "      <td>asheville</td>\n",
       "      <td>676a2c85633ea0d76cf625e33eda316c1b06435e</td>\n",
       "      <td>35.580665</td>\n",
       "      <td>-82.491987</td>\n",
       "      <td>Friends of WNC Nature Center</td>\n",
       "      <td>4.5</td>\n",
       "      <td>['zoo', 'point_of_interest', 'establishment']</td>\n",
       "    </tr>\n",
       "    <tr>\n",
       "      <th>6433</th>\n",
       "      <td>asheville</td>\n",
       "      <td>15b83494d883ebf2ba1af0980fa55243c3d4acdf</td>\n",
       "      <td>35.503667</td>\n",
       "      <td>-82.522316</td>\n",
       "      <td>Sky Zone Trampoline Park</td>\n",
       "      <td>4.4</td>\n",
       "      <td>['amusement_park', 'point_of_interest', 'estab...</td>\n",
       "    </tr>\n",
       "    <tr>\n",
       "      <th>6434</th>\n",
       "      <td>asheville</td>\n",
       "      <td>78f3d04f3471c719e21f74582515c707533ff61b</td>\n",
       "      <td>35.574850</td>\n",
       "      <td>-82.526666</td>\n",
       "      <td>Dare to Fly Trapeze</td>\n",
       "      <td>NaN</td>\n",
       "      <td>['amusement_park', 'point_of_interest', 'estab...</td>\n",
       "    </tr>\n",
       "    <tr>\n",
       "      <th>6435</th>\n",
       "      <td>asheville</td>\n",
       "      <td>5a80a5ced00f0b4225a5f25601a50761989361f8</td>\n",
       "      <td>35.594054</td>\n",
       "      <td>-82.583157</td>\n",
       "      <td>Asheville Treetops Adventure Park</td>\n",
       "      <td>4.8</td>\n",
       "      <td>['amusement_park', 'point_of_interest', 'estab...</td>\n",
       "    </tr>\n",
       "  </tbody>\n",
       "</table>\n",
       "<p>6436 rows × 7 columns</p>\n",
       "</div>"
      ],
      "text/plain": [
       "           city                                        id   latitude  \\\n",
       "0     asheville  8736e812595db852ccab223019a477b918b64d4d  35.442805   \n",
       "1     asheville  479c99c6cc5aa91a6161fecc48bd24258a74bd58  35.564035   \n",
       "2     asheville  3e41ce673ee203416cb6f44894e49b2ee93347b1  35.564140   \n",
       "3     asheville  ce0b0e6fc251f546370fed20d39778ea796e5475  35.646791   \n",
       "4     asheville  f60446561634f4d44e6563dcf17f2b65eb4096f2  35.752135   \n",
       "...         ...                                       ...        ...   \n",
       "6431  asheville  c5f6384c485737f6c667b611a93365bd995165c4  35.657162   \n",
       "6432  asheville  676a2c85633ea0d76cf625e33eda316c1b06435e  35.580665   \n",
       "6433  asheville  15b83494d883ebf2ba1af0980fa55243c3d4acdf  35.503667   \n",
       "6434  asheville  78f3d04f3471c719e21f74582515c707533ff61b  35.574850   \n",
       "6435  asheville  5a80a5ced00f0b4225a5f25601a50761989361f8  35.594054   \n",
       "\n",
       "      longitude                                   name  rating  \\\n",
       "0    -82.264081         The Esmeralda Inn & Restaurant     4.4   \n",
       "1    -82.278943                      Straightaway Cafe     4.5   \n",
       "2    -82.278953                      straightaway cafe     NaN   \n",
       "3    -82.299074                   The Huckleberry Cafe     5.0   \n",
       "4    -82.273258  Mount Mitchell State Park- Restaurant     4.0   \n",
       "...         ...                                    ...     ...   \n",
       "6431 -82.865561                   Mount Soma Community     4.9   \n",
       "6432 -82.491987           Friends of WNC Nature Center     4.5   \n",
       "6433 -82.522316               Sky Zone Trampoline Park     4.4   \n",
       "6434 -82.526666                    Dare to Fly Trapeze     NaN   \n",
       "6435 -82.583157      Asheville Treetops Adventure Park     4.8   \n",
       "\n",
       "                                                  types  \n",
       "0     ['lodging', 'restaurant', 'food', 'point_of_in...  \n",
       "1     ['restaurant', 'food', 'point_of_interest', 'e...  \n",
       "2     ['restaurant', 'food', 'point_of_interest', 'e...  \n",
       "3     ['restaurant', 'food', 'point_of_interest', 'e...  \n",
       "4     ['restaurant', 'food', 'point_of_interest', 'e...  \n",
       "...                                                 ...  \n",
       "6431  ['travel_agency', 'point_of_interest', 'establ...  \n",
       "6432      ['zoo', 'point_of_interest', 'establishment']  \n",
       "6433  ['amusement_park', 'point_of_interest', 'estab...  \n",
       "6434  ['amusement_park', 'point_of_interest', 'estab...  \n",
       "6435  ['amusement_park', 'point_of_interest', 'estab...  \n",
       "\n",
       "[6436 rows x 7 columns]"
      ]
     },
     "execution_count": 50,
     "metadata": {},
     "output_type": "execute_result"
    }
   ],
   "source": [
    "venues_asheville"
   ]
  },
  {
   "cell_type": "code",
   "execution_count": 66,
   "id": "1d9c5d88",
   "metadata": {},
   "outputs": [
    {
     "data": {
      "text/plain": [
       "array(['asheville', 'austin', 'nashville', 'new orleans', 'los angeles'],\n",
       "      dtype=object)"
      ]
     },
     "execution_count": 66,
     "metadata": {},
     "output_type": "execute_result"
    }
   ],
   "source": [
    "venues['city'].unique()"
   ]
  },
  {
   "cell_type": "code",
   "execution_count": 54,
   "id": "2a322a29",
   "metadata": {},
   "outputs": [],
   "source": [
    "def get_dist(row,lat,long):\n",
    "    return geodesic((lat,long), (row['latitude'], row['longitude'])).km"
   ]
  },
  {
   "cell_type": "code",
   "execution_count": 57,
   "id": "f9f1d7a0",
   "metadata": {},
   "outputs": [
    {
     "data": {
      "text/plain": [
       "1663    35.526644\n",
       "1833    35.227770\n",
       "1956    34.883601\n",
       "0       33.933538\n",
       "4       33.918552\n",
       "          ...    \n",
       "4640     0.175352\n",
       "6035     0.172869\n",
       "6270     0.168912\n",
       "6033     0.167647\n",
       "6403     0.140067\n",
       "Length: 6436, dtype: float64"
      ]
     },
     "execution_count": 57,
     "metadata": {},
     "output_type": "execute_result"
    }
   ],
   "source": [
    "venues_asheville.apply(lambda x: get_dist(x, lat, lon), axis= 1).sort_values(ascending=False)"
   ]
  },
  {
   "cell_type": "code",
   "execution_count": 77,
   "id": "f5aa9d18",
   "metadata": {},
   "outputs": [],
   "source": [
    "vens = dict()\n",
    "for i in venues['city'].unique():\n",
    "    vens[i] = venues[venues['city'] == i]"
   ]
  },
  {
   "cell_type": "code",
   "execution_count": 80,
   "id": "05459eba",
   "metadata": {},
   "outputs": [],
   "source": [
    "\n",
    "\n",
    "def top_business(row, top):\n",
    "    ven = vens[row['metropolitan']]\n",
    "    dist = ven.apply(lambda x: get_dist(x, row['latitude'], row['longitude']),).sort_values(ascending=False).head(top)\n",
    "    return str(dist)\n",
    "    "
   ]
  },
  {
   "cell_type": "code",
   "execution_count": 72,
   "id": "c538c685",
   "metadata": {},
   "outputs": [],
   "source": [
    "from tqdm import tqdm"
   ]
  },
  {
   "cell_type": "code",
   "execution_count": 74,
   "id": "55f2ed38",
   "metadata": {},
   "outputs": [
    {
     "name": "stderr",
     "output_type": "stream",
     "text": [
      "c:\\users\\steel\\miniconda3\\lib\\site-packages\\tqdm\\std.py:703: FutureWarning: The Panel class is removed from pandas. Accessing it from the top-level namespace will also be removed in the next version\n",
      "  from pandas import Panel\n"
     ]
    }
   ],
   "source": [
    "tqdm.pandas()"
   ]
  },
  {
   "cell_type": "code",
   "execution_count": 82,
   "id": "0d2dee4d",
   "metadata": {},
   "outputs": [
    {
     "name": "stderr",
     "output_type": "stream",
     "text": [
      "100%|█████████████████████████████████████████████████████████████████████████████████████████████████████████████████████████| 5/5 [00:09<00:00,  1.86s/it]\n"
     ]
    }
   ],
   "source": [
    "distances = listings.head(5).progress_apply(lambda x: top_business(x, 10), axis =1 )"
   ]
  },
  {
   "cell_type": "code",
   "execution_count": 84,
   "id": "5900a605",
   "metadata": {},
   "outputs": [
    {
     "data": {
      "text/plain": [
       "'6426    14.455881\\n6427    12.151194\\n6428    21.415519\\n6429    12.370298\\n6430    21.574168\\n6431    22.607574\\n6432    12.717242\\n6433    13.440659\\n6434     9.631109\\n6435     4.557526\\ndtype: float64'"
      ]
     },
     "execution_count": 84,
     "metadata": {},
     "output_type": "execute_result"
    }
   ],
   "source": [
    "distances[1]"
   ]
  },
  {
   "cell_type": "code",
   "execution_count": 85,
   "id": "8bfdec03",
   "metadata": {},
   "outputs": [],
   "source": [
    "distances.to_csv('test.csv')"
   ]
  },
  {
   "cell_type": "code",
   "execution_count": 68,
   "id": "3b235d63",
   "metadata": {},
   "outputs": [
    {
     "data": {
      "text/plain": [
       "array(['asheville', 'austin', 'nashville', 'new_orleans', 'LA'],\n",
       "      dtype=object)"
      ]
     },
     "execution_count": 68,
     "metadata": {},
     "output_type": "execute_result"
    }
   ],
   "source": [
    "listings['metropolitan'].unique()"
   ]
  },
  {
   "cell_type": "code",
   "execution_count": null,
   "id": "b7767b33",
   "metadata": {},
   "outputs": [],
   "source": []
  }
 ],
 "metadata": {
  "kernelspec": {
   "display_name": "Python 3",
   "language": "python",
   "name": "python3"
  },
  "language_info": {
   "codemirror_mode": {
    "name": "ipython",
    "version": 3
   },
   "file_extension": ".py",
   "mimetype": "text/x-python",
   "name": "python",
   "nbconvert_exporter": "python",
   "pygments_lexer": "ipython3",
   "version": "3.8.5"
  }
 },
 "nbformat": 4,
 "nbformat_minor": 5
}
