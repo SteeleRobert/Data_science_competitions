{
 "cells": [
  {
   "cell_type": "code",
   "execution_count": null,
   "metadata": {},
   "outputs": [],
   "source": [
    "import pandas as pd\n",
    "import numpy as np\n",
    "import pickle\n",
    "from mapping import *"
   ]
  },
  {
   "cell_type": "code",
   "execution_count": null,
   "metadata": {},
   "outputs": [],
   "source": [
    "scores = {}"
   ]
  },
  {
   "cell_type": "code",
   "execution_count": null,
   "metadata": {},
   "outputs": [],
   "source": [
    "summary = pd.read_csv('../data/movie_lense/summaries.csv', index_col = 0, usecols = ['movieId', 'top_summary', 'bot_summary', 'summaries', 'synopsis'])\n",
    "cb = list(zip(summary.top_summary, summary.bot_summary, summary.summaries, summary.synopsis))\n",
    "tags = pickle.load( open( \"../data/movies_and_tags.pkl\", \"rb\" ) )\n",
    "\n",
    "for i in range(len(summary)):\n",
    "    movie_id = summary.index[i]\n",
    "    temp_scores = []\n",
    "    \n",
    "    ## Append summary scores to list in dictionary value\n",
    "    final_summary = [' '.join(cb[i])][0].split(' ')\n",
    "    temp_scores.append(getBagMapping(final_summary))\n",
    "    \n",
    "    ## Append tag scores to list in dictionary value\n",
    "    temp.scores.append(getBagMapping(tags[movie_id]))\n",
    "    \n",
    "    ## Append reviews\n",
    "    \n",
    "    scores.append(temp_scores)\n",
    "\n"
   ]
  },
  {
   "cell_type": "code",
   "execution_count": null,
   "metadata": {},
   "outputs": [],
   "source": [
    "pickle.dump(scores, open( \"../data/scores.p\", \"wb\" ) )"
   ]
  }
 ],
 "metadata": {
  "kernelspec": {
   "display_name": "Python 3",
   "language": "python",
   "name": "python3"
  },
  "language_info": {
   "codemirror_mode": {
    "name": "ipython",
    "version": 3
   },
   "file_extension": ".py",
   "mimetype": "text/x-python",
   "name": "python",
   "nbconvert_exporter": "python",
   "pygments_lexer": "ipython3",
   "version": "3.8.2"
  }
 },
 "nbformat": 4,
 "nbformat_minor": 4
}
