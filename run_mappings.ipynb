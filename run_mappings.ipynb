{
 "cells": [
  {
   "cell_type": "code",
   "execution_count": 17,
   "metadata": {},
   "outputs": [],
   "source": [
    "import pandas as pd\n",
    "import numpy as np\n",
    "import pickle\n",
    "from mapping import *\n",
    "from tqdm import tqdm"
   ]
  },
  {
   "cell_type": "code",
   "execution_count": 18,
   "metadata": {},
   "outputs": [],
   "source": [
    "scores = {}"
   ]
  },
  {
   "cell_type": "code",
   "execution_count": 19,
   "metadata": {},
   "outputs": [],
   "source": [
    "summary = pd.read_csv('../data/movie_lense/summaries.csv', index_col = 0, usecols = ['movieId', 'top_summary', 'bot_summary', 'summaries', 'synopsis'])\n",
    "summary.fillna('', inplace = True)\n",
    "# cb = list(zip(summary.top_summary, summary.bot_summary, summary.summaries, summary.synopsis))\n",
    "\n",
    "\n",
    "tags = pickle.load( open( \"../data/movies_and_tags.pkl\", \"rb\" ) )\n",
    "\n",
    "\n",
    "## For subset\n",
    "indexes = pd.read_csv('../data/movie_lense_imdb_subspace.csv')\n",
    "subset = indexes['movieId']\n",
    "subset = [int(x) for x in subset]\n",
    "\n",
    "summary = summary.loc[subset]\n",
    "cb = list(zip(summary.top_summary, summary.bot_summary, summary.summaries, summary.synopsis))\n",
    "\n",
    "\n",
    "reviews = pd.read_csv('../data/imdb_movie_lense_reviews.csv')"
   ]
  },
  {
   "cell_type": "code",
   "execution_count": 20,
   "metadata": {},
   "outputs": [
    {
     "name": "stderr",
     "output_type": "stream",
     "text": [
      "100%|██████████| 1000/1000 [2:53:47<00:00, 10.43s/it] \n"
     ]
    }
   ],
   "source": [
    "i = 0\n",
    "\n",
    "for movie_id in tqdm(subset):\n",
    "    temp_scores = []\n",
    "    \n",
    "    ## Append summary scores to list in dictionary value\n",
    "    final_summary = [' '.join(cb[i])][0].split(' ')\n",
    "    temp_scores.append(getBagMapping(final_summary))\n",
    "    \n",
    "    \n",
    "    ## Append tag scores to list in dictionary value\n",
    "    tag = tags[movie_id]\n",
    "    tag = [str(x) for x in tag]\n",
    "    temp_scores.append(getBagMapping(tag))\n",
    "    \n",
    "    \n",
    "    ## Append reviews\n",
    "    review = reviews[reviews.movieID == movie_id]['reviews'].iloc[0].split(' ')\n",
    "    temp_scores.append(getBagMapping(review))\n",
    "    \n",
    "    \n",
    "    scores[movie_id] = temp_scores\n",
    "    \n",
    "    i+=1"
   ]
  },
  {
   "cell_type": "code",
   "execution_count": 21,
   "metadata": {},
   "outputs": [],
   "source": [
    "pickle.dump(scores, open( \"../data/scores.p\", \"wb\" ) )"
   ]
  },
  {
   "cell_type": "code",
   "execution_count": null,
   "metadata": {
    "scrolled": true
   },
   "outputs": [],
   "source": [
    "## IGNORE CELL ##\n",
    "\n",
    "for i in tqdm(range(len(subset))):\n",
    "    movie_id = summary.index[i]\n",
    "    \n",
    "    tag = tags[movie_id]\n",
    "    tag = [str(x) for x in tag]\n",
    "    scores[movie_id] = getBagMapping(tag)\n",
    "    # temp_scores = []\n",
    "    \n",
    "    ## Append summary scores to list in dictionary value\n",
    "    # final_summary = [' '.join(cb[i])][0].split(' ')\n",
    "    # temp_scores.append(getBagMapping(final_summary))\n",
    "    \n",
    "    ## Append tag scores to list in dictionary value\n",
    "    # temp_scores.append(getBagMapping(tags[movie_id]))\n",
    "    \n",
    "    \n",
    "    ## Append reviews\n",
    "    # temp_scores.append(getBagMapping(reviews.split(' '))\n",
    "    \n",
    "    \n",
    "    # scores[movie_id] = temp_scores"
   ]
  }
 ],
 "metadata": {
  "kernelspec": {
   "display_name": "Python 3",
   "language": "python",
   "name": "python3"
  },
  "language_info": {
   "codemirror_mode": {
    "name": "ipython",
    "version": 3
   },
   "file_extension": ".py",
   "mimetype": "text/x-python",
   "name": "python",
   "nbconvert_exporter": "python",
   "pygments_lexer": "ipython3",
   "version": "3.6.8"
  }
 },
 "nbformat": 4,
 "nbformat_minor": 4
}
