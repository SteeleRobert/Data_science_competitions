{
 "cells": [
  {
   "cell_type": "code",
   "execution_count": 3,
   "metadata": {},
   "outputs": [],
   "source": [
    "import pandas as pd\n",
    "import numpy as np\n",
    "import pickle\n",
    "from mapping import *\n",
    "from tqdm import tqdm"
   ]
  },
  {
   "cell_type": "code",
   "execution_count": 4,
   "metadata": {},
   "outputs": [],
   "source": [
    "scores = {}"
   ]
  },
  {
   "cell_type": "code",
   "execution_count": 5,
   "metadata": {},
   "outputs": [],
   "source": [
    "summary = pd.read_csv('../data/movie_lense/summaries.csv', index_col = 0, usecols = ['movieId', 'top_summary', 'bot_summary', 'summaries', 'synopsis'])\n",
    "summary.fillna('', inplace = True)\n",
    "# cb = list(zip(summary.top_summary, summary.bot_summary, summary.summaries, summary.synopsis))\n",
    "\n",
    "\n",
    "tags = pickle.load( open( \"../data/movies_and_tags.pkl\", \"rb\" ) )\n",
    "\n",
    "\n",
    "## For subset\n",
    "indexes = pd.read_csv('../data/mostpopular.txt', header = None, names = ['index'])\n",
    "subset = indexes['index']\n",
    "subset = [int(x) for x in subset]\n",
    "\n",
    "summary = summary.loc[subset]\n",
    "cb = list(zip(summary.top_summary, summary.bot_summary, summary.summaries, summary.synopsis))\n",
    "\n",
    "\n",
    "# reviews = pd.read_csv('reviews')"
   ]
  },
  {
   "cell_type": "code",
   "execution_count": null,
   "metadata": {
    "scrolled": true
   },
   "outputs": [],
   "source": [
    "for i in tqdm(range(len(subset))):\n",
    "    movie_id = summary.index[i]\n",
    "    \n",
    "    tag = tags[movie_id]\n",
    "    tag = [str(x) for x in tag]\n",
    "    scores[movie_id] = getBagMapping(tag)\n",
    "    # temp_scores = []\n",
    "    \n",
    "    ## Append summary scores to list in dictionary value\n",
    "    # final_summary = [' '.join(cb[i])][0].split(' ')\n",
    "    # temp_scores.append(getBagMapping(final_summary))\n",
    "    \n",
    "    ## Append tag scores to list in dictionary value\n",
    "    # temp_scores.append(getBagMapping(tags[movie_id]))\n",
    "    \n",
    "    \n",
    "    ## Append reviews\n",
    "    # temp_scores.append(getBagMapping(reviews.split(' '))\n",
    "    \n",
    "    \n",
    "    # scores[movie_id] = temp_scores"
   ]
  },
  {
   "cell_type": "code",
   "execution_count": null,
   "metadata": {},
   "outputs": [],
   "source": [
    "i = 0\n",
    "\n",
    "for movie_id in tqdm(subset):\n",
    "    temp_scores = []\n",
    "    \n",
    "    ## Append summary scores to list in dictionary value\n",
    "    final_summary = [' '.join(cb[i])][0].split(' ')\n",
    "    temp_scores.append(getBagMapping(final_summary))\n",
    "    \n",
    "    \n",
    "    ## Append tag scores to list in dictionary value\n",
    "    tag = tags[movie_id]\n",
    "    tag = [str(x) for x in tag]\n",
    "    temp_scores.append(getBagMapping(tag))\n",
    "    \n",
    "    \n",
    "    ## Append reviews\n",
    "    # temp_scores.append(getBagMapping(reviews.split(' '))\n",
    "    \n",
    "    \n",
    "    scores[movie_id] = temp_scores\n",
    "    \n",
    "    i+=1"
   ]
  },
  {
   "cell_type": "code",
   "execution_count": null,
   "metadata": {},
   "outputs": [],
   "source": [
    "pickle.dump(scores, open( \"../data/scores.p\", \"wb\" ) )"
   ]
  }
 ],
 "metadata": {
  "kernelspec": {
   "display_name": "Python 3",
   "language": "python",
   "name": "python3"
  }
 },
 "nbformat": 4,
 "nbformat_minor": 4
}
