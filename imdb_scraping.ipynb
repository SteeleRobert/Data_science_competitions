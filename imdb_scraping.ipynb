{
 "cells": [
  {
   "cell_type": "code",
   "execution_count": null,
   "metadata": {},
   "outputs": [],
   "source": [
    "from bs4 import BeautifulSoup\n",
    "import requests\n",
    "from urllib.request import Request, urlopen\n",
    "import pandas as pd\n",
    "import requests\n",
    "\n",
    "from selenium.webdriver import ActionChains\n",
    "from selenium.webdriver.support.ui import WebDriverWait\n",
    "from selenium.common.exceptions import TimeoutException\n",
    "from selenium.webdriver.common.by import By\n",
    "from selenium.webdriver.support import expected_conditions as EC\n",
    "from selenium import webdriver\n",
    "\n",
    "import time\n",
    "\n",
    "import re\n",
    "import unicodedata"
   ]
  },
  {
   "cell_type": "code",
   "execution_count": null,
   "metadata": {},
   "outputs": [],
   "source": [
    "imdb = pd.read_csv('../data/movie_lense/links.csv')"
   ]
  },
  {
   "cell_type": "code",
   "execution_count": null,
   "metadata": {},
   "outputs": [],
   "source": [
    "## Main_url\n",
    "## Get top summary and bttom summary from main page\n",
    "\n",
    "def get_main(main_url):\n",
    "\n",
    "    page = requests.get(main_url)\n",
    "    soup = BeautifulSoup(page.text, 'html')\n",
    "    top_summary = soup.find_all('div', attrs = {'class': 'plot_summary'})[0].find('div', attrs = {'class': 'summary_text'}).text.strip()\n",
    "    \n",
    "    ## Bottom summary is also on the summaries page\n",
    "    bot_summary = soup.find_all('div', attrs = {'id': 'titleStoryLine'})[0].find_all('div', attrs = {'class': 'inline canwrap'})[0].find('span').text.strip()\n",
    "    return (top_summary, bot_summary)"
   ]
  },
  {
   "cell_type": "code",
   "execution_count": null,
   "metadata": {},
   "outputs": [],
   "source": [
    "## Summary_url\n",
    "## Get list of summaries and synopsis\n",
    "## Missing for a lot of movies\n",
    "## One of these summaries is same as bottom_summary\n",
    "\n",
    "\n",
    "def get_summaries(summmary_url):\n",
    "    \n",
    "    page = requests.get(summary_url)\n",
    "    soup = BeautifulSoup(page.text, 'html')\n",
    "\n",
    "    summaries = []\n",
    "    table = soup.find_all('ul', attrs = {'id': 'plot-summaries-content'})[0].find_all('p')\n",
    "    for i in table:\n",
    "        summaries.append(i.text.strip())\n",
    "    \n",
    "    ## Synopsis not there\n",
    "    blank_synopsis = 'It looks like we don\\'t have a Synopsis for this title yet. Be the first to contribute! Just click the \"Edit page\" button at the bottom of the page or learn more in the Synopsis submission guide.'\n",
    "\n",
    "    synopsis = soup.find_all('ul', attrs = {'id': 'plot-synopsis-content'})[0].find('li').text.strip()\n",
    "    if synopsis == blank_synopsis:\n",
    "        synopsis = ''\n",
    "    return (summaries, synopsis)"
   ]
  },
  {
   "cell_type": "code",
   "execution_count": null,
   "metadata": {},
   "outputs": [],
   "source": [
    "imdb['top_summary'] = ''\n",
    "imdb['bot_summary'] = ''\n",
    "imdb['summaries'] = ''\n",
    "imdb['synopsis'] = ''\n",
    "\n",
    "## Loop through each movie and append to dataframe with summaries and synopsis\n",
    "## Need to still add reviews\n",
    "\n",
    "for i in range(len(imdb)):\n",
    "    main_url = 'https://www.imdb.com/title/tt00' + str(imdb['imdbId'][i]) + '/'\n",
    "    summary_url = 'https://www.imdb.com/title/tt00' + str(imdb['imdbId'][i]) + '/plotsummary'\n",
    "    review_url = 'https://www.imdb.com/title/tt00' + str(imdb['imdbId'][i]) + '/reviews?ref_=tt_urv'\n",
    "    \n",
    "    try:\n",
    "        top, bot = get_main(main_url)\n",
    "        imdb.loc[i, 'top_summary'] = top\n",
    "        imdb.loc[i, 'bot_summary'] = bot\n",
    "\n",
    "        summaries, synopsis = get_summaries(summary_url)\n",
    "        imdb.at[i, 'summaries'] = summaries\n",
    "        imdb.loc[i, 'synopsis'] = synopsis\n",
    "    \n",
    "    except:\n",
    "        print(\"failed: \", i)\n",
    "    \n",
    "    if (i%100) == 0:\n",
    "        print(i)"
   ]
  },
  {
   "cell_type": "code",
   "execution_count": 7,
   "metadata": {},
   "outputs": [],
   "source": [
    "imdb.to_csv('../data/movie_lense/summaries.csv')"
   ]
  },
  {
   "cell_type": "code",
   "execution_count": null,
   "metadata": {},
   "outputs": [],
   "source": []
  }
 ],
 "metadata": {
  "kernelspec": {
   "display_name": "Python 3",
   "language": "python",
   "name": "python3"
  },
  "language_info": {
   "codemirror_mode": {
    "name": "ipython",
    "version": 3
   },
   "file_extension": ".py",
   "mimetype": "text/x-python",
   "name": "python",
   "nbconvert_exporter": "python",
   "pygments_lexer": "ipython3",
   "version": "3.8.2"
  }
 },
 "nbformat": 4,
 "nbformat_minor": 4
}
