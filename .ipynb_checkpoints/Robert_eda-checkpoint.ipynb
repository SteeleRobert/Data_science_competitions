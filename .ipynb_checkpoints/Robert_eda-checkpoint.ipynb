{
 "cells": [
  {
   "cell_type": "code",
   "execution_count": 13,
   "metadata": {},
   "outputs": [],
   "source": [
    "import pandas as pd\n",
    "from tqdm import tqdm"
   ]
  },
  {
   "cell_type": "code",
   "execution_count": 3,
   "metadata": {},
   "outputs": [],
   "source": [
    "df1 = pd.read_csv('data/test0123.csv')\n",
    "df2 = pd.read_csv('data/data[4,5,6,7].csv')\n",
    "df3 = pd.read_csv('data/data[8,9,10,11].csv')\n",
    "df4 = pd.read_csv('data/data12-13-14-15.csv')"
   ]
  },
  {
   "cell_type": "code",
   "execution_count": 4,
   "metadata": {},
   "outputs": [
    {
     "data": {
      "text/plain": [
       "3066257"
      ]
     },
     "execution_count": 4,
     "metadata": {},
     "output_type": "execute_result"
    }
   ],
   "source": [
    "imdb_reviews = pd.concat([df1,df2,df3,df4])\n",
    "len(imdb_reviews)"
   ]
  },
  {
   "cell_type": "code",
   "execution_count": 8,
   "metadata": {},
   "outputs": [],
   "source": [
    "imdb_reviews.to_csv('data/imdb_review.csv')"
   ]
  },
  {
   "cell_type": "code",
   "execution_count": 5,
   "metadata": {},
   "outputs": [
    {
     "data": {
      "text/plain": [
       "Index(['date', 'movieid', 'rating', 'text', 'userid'], dtype='object')"
      ]
     },
     "execution_count": 5,
     "metadata": {},
     "output_type": "execute_result"
    }
   ],
   "source": [
    "imdb_reviews.columns"
   ]
  },
  {
   "cell_type": "code",
   "execution_count": 18,
   "metadata": {},
   "outputs": [],
   "source": [
    "movie_index = imdb_reviews.set_index('movieid')\n",
    "\n",
    "\n"
   ]
  },
  {
   "cell_type": "code",
   "execution_count": null,
   "metadata": {},
   "outputs": [
    {
     "name": "stderr",
     "output_type": "stream",
     "text": [
      "  0%|                                      | 134/48708 [00:17<2:48:59,  4.79it/s]"
     ]
    }
   ],
   "source": [
    "temp_list= []\n",
    "for movie in tqdm(imdb_reviews['movieid'].unique()):\n",
    "    temp = movie_index.loc[movie]\n",
    "    reviews = ''\n",
    "    for ind, i in temp.head(50).iterrows():\n",
    "        reviews += i['text'] + ' '\n",
    "    temp_list.append({'movieid': movie, 'reviews': reviews})\n",
    "top50 = pd.DataFrame(temp_list)"
   ]
  }
 ],
 "metadata": {
  "kernelspec": {
   "display_name": "Python 3",
   "language": "python",
   "name": "python3"
  },
  "language_info": {
   "codemirror_mode": {
    "name": "ipython",
    "version": 3
   },
   "file_extension": ".py",
   "mimetype": "text/x-python",
   "name": "python",
   "nbconvert_exporter": "python",
   "pygments_lexer": "ipython3",
   "version": "3.8.2"
  }
 },
 "nbformat": 4,
 "nbformat_minor": 4
}
